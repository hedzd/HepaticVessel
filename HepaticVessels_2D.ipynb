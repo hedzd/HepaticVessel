{
  "nbformat": 4,
  "nbformat_minor": 0,
  "metadata": {
    "colab": {
      "name": "HepaticVessels-2D.ipynb",
      "provenance": [],
      "collapsed_sections": [],
      "authorship_tag": "ABX9TyOBnTXNjbjMcpOcswCS7xDB",
      "include_colab_link": true
    },
    "kernelspec": {
      "name": "python3",
      "display_name": "Python 3"
    },
    "language_info": {
      "name": "python"
    },
    "accelerator": "GPU"
  },
  "cells": [
    {
      "cell_type": "markdown",
      "metadata": {
        "id": "view-in-github",
        "colab_type": "text"
      },
      "source": [
        "<a href=\"https://colab.research.google.com/github/hedzd/HepaticVessel/blob/main/HepaticVessels_2D.ipynb\" target=\"_parent\"><img src=\"https://colab.research.google.com/assets/colab-badge.svg\" alt=\"Open In Colab\"/></a>"
      ]
    },
    {
      "cell_type": "markdown",
      "metadata": {
        "id": "W1ExWa3-09Lm"
      },
      "source": [
        "# Image segmentation for hepatic vessels tumors\n",
        "\n",
        "About the dataset:\n",
        "This liver dataset was comprised of patients\n",
        "with a variety of primary and metastatic liver tumours (cholangiocarcinoma,\n",
        "hepatocellular carcinoma, metastases, etc.) \n",
        "Four hundred and forty-three portal venous phase CT scans were obtained\n",
        "The liver vessels were semi-automatically\n",
        "segmented. Contours were manually adjusted by an expert abdominal radiologist.\n",
        "\n",
        "Get the dataset\n",
        "http://medicaldecathlon.com/\n",
        "\n",
        "labels: {'0': 'background', '1': 'Vessel', '2': 'Tumour'}\\\n",
        "total number of samples with masks: 303"
      ]
    },
    {
      "cell_type": "markdown",
      "metadata": {
        "id": "E2vbqhVrghD4"
      },
      "source": [
        "# Image segmentation for hepatic vessels tumors\n",
        "\n",
        "\n",
        "*   Create a Custom Dataset for training and testing\n",
        "*   Use albumentations transforms to pre-process data\n",
        "*   Train the model with a PyTorch program\n",
        "*   Evaluate on test dataset\n",
        "*   Use Segmentation-Models Module\n",
        "*   Use Unet(with ResNet18 BackBone)"
      ]
    },
    {
      "cell_type": "code",
      "metadata": {
        "colab": {
          "base_uri": "https://localhost:8080/"
        },
        "id": "iteHyFMGgOcq",
        "outputId": "945e2ac2-f427-43f2-c3db-6bfd7b711833"
      },
      "source": [
        "from google.colab import drive\n",
        "drive.mount('/content/drive')"
      ],
      "execution_count": null,
      "outputs": [
        {
          "output_type": "stream",
          "text": [
            "Mounted at /content/drive\n"
          ],
          "name": "stdout"
        }
      ]
    },
    {
      "cell_type": "code",
      "metadata": {
        "id": "ZgyvWbrAjvt7"
      },
      "source": [
        "import os\n",
        "import glob\n",
        "from pathlib import Path\n",
        "from sklearn.utils import shuffle\n",
        "from tqdm import tqdm_notebook\n",
        "import pandas as pd\n",
        "import numpy as np\n",
        "import nibabel as nib\n",
        "from scipy.ndimage import gaussian_filter as gf\n",
        "from scipy import ndimage"
      ],
      "execution_count": null,
      "outputs": []
    },
    {
      "cell_type": "markdown",
      "metadata": {
        "id": "Xzmt8ml5j1bk"
      },
      "source": [
        "# Extract .tar data into the hepaticData"
      ]
    },
    {
      "cell_type": "code",
      "metadata": {
        "id": "6CpP16MgoNcE"
      },
      "source": [
        "!mkdir HepaticData"
      ],
      "execution_count": null,
      "outputs": []
    },
    {
      "cell_type": "code",
      "metadata": {
        "colab": {
          "base_uri": "https://localhost:8080/"
        },
        "id": "04OMGhd9jxq-",
        "outputId": "2862bbbd-63ae-4db3-d901-f3e45ebe59e8"
      },
      "source": [
        "!tar -xvf  '/content/drive/MyDrive/Task08_HepaticVessel.tar' -C 'HepaticData'"
      ],
      "execution_count": null,
      "outputs": [
        {
          "output_type": "stream",
          "text": [
            "./._Task08_HepaticVessel\n",
            "Task08_HepaticVessel/\n",
            "Task08_HepaticVessel/._labelsTr\n",
            "Task08_HepaticVessel/labelsTr/\n",
            "Task08_HepaticVessel/._imagesTr\n",
            "Task08_HepaticVessel/imagesTr/\n",
            "Task08_HepaticVessel/._imagesTs\n",
            "Task08_HepaticVessel/imagesTs/\n",
            "Task08_HepaticVessel/._dataset.json\n",
            "Task08_HepaticVessel/dataset.json\n",
            "Task08_HepaticVessel/imagesTs/._hepaticvessel_306.nii.gz\n",
            "Task08_HepaticVessel/imagesTs/hepaticvessel_306.nii.gz\n",
            "Task08_HepaticVessel/imagesTs/._hepaticvessel_457.nii.gz\n",
            "Task08_HepaticVessel/imagesTs/hepaticvessel_457.nii.gz\n",
            "Task08_HepaticVessel/imagesTs/._hepaticvessel_365.nii.gz\n",
            "Task08_HepaticVessel/imagesTs/hepaticvessel_365.nii.gz\n",
            "Task08_HepaticVessel/imagesTs/._hepaticvessel_426.nii.gz\n",
            "Task08_HepaticVessel/imagesTs/hepaticvessel_426.nii.gz\n",
            "Task08_HepaticVessel/imagesTs/._hepaticvessel_377.nii.gz\n",
            "Task08_HepaticVessel/imagesTs/hepaticvessel_377.nii.gz\n",
            "Task08_HepaticVessel/imagesTs/._hepaticvessel_277.nii.gz\n",
            "Task08_HepaticVessel/imagesTs/hepaticvessel_277.nii.gz\n",
            "Task08_HepaticVessel/imagesTs/._hepaticvessel_095.nii.gz\n",
            "Task08_HepaticVessel/imagesTs/hepaticvessel_095.nii.gz\n",
            "Task08_HepaticVessel/imagesTs/._hepaticvessel_410.nii.gz\n",
            "Task08_HepaticVessel/imagesTs/hepaticvessel_410.nii.gz\n",
            "Task08_HepaticVessel/imagesTs/._hepaticvessel_241.nii.gz\n",
            "Task08_HepaticVessel/imagesTs/hepaticvessel_241.nii.gz\n",
            "Task08_HepaticVessel/imagesTs/._hepaticvessel_187.nii.gz\n",
            "Task08_HepaticVessel/imagesTs/hepaticvessel_187.nii.gz\n",
            "Task08_HepaticVessel/imagesTs/._hepaticvessel_099.nii.gz\n",
            "Task08_HepaticVessel/imagesTs/hepaticvessel_099.nii.gz\n",
            "Task08_HepaticVessel/imagesTs/._hepaticvessel_021.nii.gz\n",
            "Task08_HepaticVessel/imagesTs/hepaticvessel_021.nii.gz\n",
            "Task08_HepaticVessel/imagesTs/._hepaticvessel_017.nii.gz\n",
            "Task08_HepaticVessel/imagesTs/hepaticvessel_017.nii.gz\n",
            "Task08_HepaticVessel/imagesTs/._hepaticvessel_074.nii.gz\n",
            "Task08_HepaticVessel/imagesTs/hepaticvessel_074.nii.gz\n",
            "Task08_HepaticVessel/imagesTs/._hepaticvessel_109.nii.gz\n",
            "Task08_HepaticVessel/imagesTs/hepaticvessel_109.nii.gz\n",
            "Task08_HepaticVessel/imagesTs/._hepaticvessel_009.nii.gz\n",
            "Task08_HepaticVessel/imagesTs/hepaticvessel_009.nii.gz\n",
            "Task08_HepaticVessel/imagesTs/._hepaticvessel_105.nii.gz\n",
            "Task08_HepaticVessel/imagesTs/hepaticvessel_105.nii.gz\n",
            "Task08_HepaticVessel/imagesTs/._hepaticvessel_394.nii.gz\n",
            "Task08_HepaticVessel/imagesTs/hepaticvessel_394.nii.gz\n",
            "Task08_HepaticVessel/imagesTs/._hepaticvessel_298.nii.gz\n",
            "Task08_HepaticVessel/imagesTs/hepaticvessel_298.nii.gz\n",
            "Task08_HepaticVessel/imagesTs/._hepaticvessel_064.nii.gz\n",
            "Task08_HepaticVessel/imagesTs/hepaticvessel_064.nii.gz\n",
            "Task08_HepaticVessel/imagesTs/._hepaticvessel_107.nii.gz\n",
            "Task08_HepaticVessel/imagesTs/hepaticvessel_107.nii.gz\n",
            "Task08_HepaticVessel/imagesTs/._hepaticvessel_176.nii.gz\n",
            "Task08_HepaticVessel/imagesTs/hepaticvessel_176.nii.gz\n",
            "Task08_HepaticVessel/imagesTs/._hepaticvessel_076.nii.gz\n",
            "Task08_HepaticVessel/imagesTs/hepaticvessel_076.nii.gz\n",
            "Task08_HepaticVessel/imagesTs/._hepaticvessel_168.nii.gz\n",
            "Task08_HepaticVessel/imagesTs/hepaticvessel_168.nii.gz\n",
            "Task08_HepaticVessel/imagesTs/._hepaticvessel_015.nii.gz\n",
            "Task08_HepaticVessel/imagesTs/hepaticvessel_015.nii.gz\n",
            "Task08_HepaticVessel/imagesTs/._hepaticvessel_316.nii.gz\n",
            "Task08_HepaticVessel/imagesTs/hepaticvessel_316.nii.gz\n",
            "Task08_HepaticVessel/imagesTs/._hepaticvessel_216.nii.gz\n",
            "Task08_HepaticVessel/imagesTs/hepaticvessel_216.nii.gz\n",
            "Task08_HepaticVessel/imagesTs/._hepaticvessel_267.nii.gz\n",
            "Task08_HepaticVessel/imagesTs/hepaticvessel_267.nii.gz\n",
            "Task08_HepaticVessel/imagesTs/._hepaticvessel_436.nii.gz\n",
            "Task08_HepaticVessel/imagesTs/hepaticvessel_436.nii.gz\n",
            "Task08_HepaticVessel/imagesTs/._hepaticvessel_428.nii.gz\n",
            "Task08_HepaticVessel/imagesTs/hepaticvessel_428.nii.gz\n",
            "Task08_HepaticVessel/imagesTs/._hepaticvessel_204.nii.gz\n",
            "Task08_HepaticVessel/imagesTs/hepaticvessel_204.nii.gz\n",
            "Task08_HepaticVessel/imagesTs/._hepaticvessel_304.nii.gz\n",
            "Task08_HepaticVessel/imagesTs/hepaticvessel_304.nii.gz\n",
            "Task08_HepaticVessel/imagesTs/._hepaticvessel_251.nii.gz\n",
            "Task08_HepaticVessel/imagesTs/hepaticvessel_251.nii.gz\n",
            "Task08_HepaticVessel/imagesTs/._hepaticvessel_351.nii.gz\n",
            "Task08_HepaticVessel/imagesTs/hepaticvessel_351.nii.gz\n",
            "Task08_HepaticVessel/imagesTs/._hepaticvessel_232.nii.gz\n",
            "Task08_HepaticVessel/imagesTs/hepaticvessel_232.nii.gz\n",
            "Task08_HepaticVessel/imagesTs/._hepaticvessel_343.nii.gz\n",
            "Task08_HepaticVessel/imagesTs/hepaticvessel_343.nii.gz\n",
            "Task08_HepaticVessel/imagesTs/._hepaticvessel_243.nii.gz\n",
            "Task08_HepaticVessel/imagesTs/hepaticvessel_243.nii.gz\n",
            "Task08_HepaticVessel/imagesTs/._hepaticvessel_220.nii.gz\n",
            "Task08_HepaticVessel/imagesTs/hepaticvessel_220.nii.gz\n",
            "Task08_HepaticVessel/imagesTs/._hepaticvessel_060.nii.gz\n",
            "Task08_HepaticVessel/imagesTs/hepaticvessel_060.nii.gz\n",
            "Task08_HepaticVessel/imagesTs/._hepaticvessel_003.nii.gz\n",
            "Task08_HepaticVessel/imagesTs/hepaticvessel_003.nii.gz\n",
            "Task08_HepaticVessel/imagesTs/._hepaticvessel_056.nii.gz\n",
            "Task08_HepaticVessel/imagesTs/hepaticvessel_056.nii.gz\n",
            "Task08_HepaticVessel/imagesTs/._hepaticvessel_156.nii.gz\n",
            "Task08_HepaticVessel/imagesTs/hepaticvessel_156.nii.gz\n",
            "Task08_HepaticVessel/imagesTs/._hepaticvessel_035.nii.gz\n",
            "Task08_HepaticVessel/imagesTs/hepaticvessel_035.nii.gz\n",
            "Task08_HepaticVessel/imagesTs/._hepaticvessel_135.nii.gz\n",
            "Task08_HepaticVessel/imagesTs/hepaticvessel_135.nii.gz\n",
            "Task08_HepaticVessel/imagesTs/._hepaticvessel_048.nii.gz\n",
            "Task08_HepaticVessel/imagesTs/hepaticvessel_048.nii.gz\n",
            "Task08_HepaticVessel/imagesTs/._hepaticvessel_390.nii.gz\n",
            "Task08_HepaticVessel/imagesTs/hepaticvessel_390.nii.gz\n",
            "Task08_HepaticVessel/imagesTs/._hepaticvessel_347.nii.gz\n",
            "Task08_HepaticVessel/imagesTs/hepaticvessel_347.nii.gz\n",
            "Task08_HepaticVessel/imagesTs/._hepaticvessel_247.nii.gz\n",
            "Task08_HepaticVessel/imagesTs/hepaticvessel_247.nii.gz\n",
            "Task08_HepaticVessel/imagesTs/._hepaticvessel_228.nii.gz\n",
            "Task08_HepaticVessel/imagesTs/hepaticvessel_228.nii.gz\n",
            "Task08_HepaticVessel/imagesTs/._hepaticvessel_328.nii.gz\n",
            "Task08_HepaticVessel/imagesTs/hepaticvessel_328.nii.gz\n",
            "Task08_HepaticVessel/imagesTs/._hepaticvessel_355.nii.gz\n",
            "Task08_HepaticVessel/imagesTs/hepaticvessel_355.nii.gz\n",
            "Task08_HepaticVessel/imagesTs/._hepaticvessel_451.nii.gz\n",
            "Task08_HepaticVessel/imagesTs/hepaticvessel_451.nii.gz\n",
            "Task08_HepaticVessel/imagesTs/._hepaticvessel_312.nii.gz\n",
            "Task08_HepaticVessel/imagesTs/hepaticvessel_312.nii.gz\n",
            "Task08_HepaticVessel/imagesTs/._hepaticvessel_212.nii.gz\n",
            "Task08_HepaticVessel/imagesTs/hepaticvessel_212.nii.gz\n",
            "Task08_HepaticVessel/imagesTs/._hepaticvessel_334.nii.gz\n",
            "Task08_HepaticVessel/imagesTs/hepaticvessel_334.nii.gz\n",
            "Task08_HepaticVessel/imagesTs/._hepaticvessel_418.nii.gz\n",
            "Task08_HepaticVessel/imagesTs/hepaticvessel_418.nii.gz\n",
            "Task08_HepaticVessel/imagesTs/._hepaticvessel_357.nii.gz\n",
            "Task08_HepaticVessel/imagesTs/hepaticvessel_357.nii.gz\n",
            "Task08_HepaticVessel/imagesTs/._hepaticvessel_191.nii.gz\n",
            "Task08_HepaticVessel/imagesTs/hepaticvessel_191.nii.gz\n",
            "Task08_HepaticVessel/imagesTs/._hepaticvessel_326.nii.gz\n",
            "Task08_HepaticVessel/imagesTs/hepaticvessel_326.nii.gz\n",
            "Task08_HepaticVessel/imagesTs/._hepaticvessel_414.nii.gz\n",
            "Task08_HepaticVessel/imagesTs/hepaticvessel_414.nii.gz\n",
            "Task08_HepaticVessel/imagesTs/._hepaticvessel_310.nii.gz\n",
            "Task08_HepaticVessel/imagesTs/hepaticvessel_310.nii.gz\n",
            "Task08_HepaticVessel/imagesTs/._hepaticvessel_273.nii.gz\n",
            "Task08_HepaticVessel/imagesTs/hepaticvessel_273.nii.gz\n",
            "Task08_HepaticVessel/imagesTs/._hepaticvessel_202.nii.gz\n",
            "Task08_HepaticVessel/imagesTs/hepaticvessel_202.nii.gz\n",
            "Task08_HepaticVessel/imagesTs/._hepaticvessel_302.nii.gz\n",
            "Task08_HepaticVessel/imagesTs/hepaticvessel_302.nii.gz\n",
            "Task08_HepaticVessel/imagesTs/._hepaticvessel_261.nii.gz\n",
            "Task08_HepaticVessel/imagesTs/hepaticvessel_261.nii.gz\n",
            "Task08_HepaticVessel/imagesTs/._hepaticvessel_430.nii.gz\n",
            "Task08_HepaticVessel/imagesTs/hepaticvessel_430.nii.gz\n",
            "Task08_HepaticVessel/imagesTs/._hepaticvessel_101.nii.gz\n",
            "Task08_HepaticVessel/imagesTs/hepaticvessel_101.nii.gz\n",
            "Task08_HepaticVessel/imagesTs/._hepaticvessel_162.nii.gz\n",
            "Task08_HepaticVessel/imagesTs/hepaticvessel_162.nii.gz\n",
            "Task08_HepaticVessel/imagesTs/._hepaticvessel_170.nii.gz\n",
            "Task08_HepaticVessel/imagesTs/hepaticvessel_170.nii.gz\n",
            "Task08_HepaticVessel/imagesTs/._hepaticvessel_392.nii.gz\n",
            "Task08_HepaticVessel/imagesTs/hepaticvessel_392.nii.gz\n",
            "Task08_HepaticVessel/imagesTs/._hepaticvessel_292.nii.gz\n",
            "Task08_HepaticVessel/imagesTs/hepaticvessel_292.nii.gz\n",
            "Task08_HepaticVessel/imagesTs/._hepaticvessel_037.nii.gz\n",
            "Task08_HepaticVessel/imagesTs/hepaticvessel_037.nii.gz\n",
            "Task08_HepaticVessel/imagesTs/._hepaticvessel_380.nii.gz\n",
            "Task08_HepaticVessel/imagesTs/hepaticvessel_380.nii.gz\n",
            "Task08_HepaticVessel/imagesTs/._hepaticvessel_054.nii.gz\n",
            "Task08_HepaticVessel/imagesTs/hepaticvessel_054.nii.gz\n",
            "Task08_HepaticVessel/imagesTs/._hepaticvessel_043.nii.gz\n",
            "Task08_HepaticVessel/imagesTs/hepaticvessel_043.nii.gz\n",
            "Task08_HepaticVessel/imagesTs/._hepaticvessel_143.nii.gz\n",
            "Task08_HepaticVessel/imagesTs/hepaticvessel_143.nii.gz\n",
            "Task08_HepaticVessel/imagesTs/._hepaticvessel_120.nii.gz\n",
            "Task08_HepaticVessel/imagesTs/hepaticvessel_120.nii.gz\n",
            "Task08_HepaticVessel/imagesTs/._hepaticvessel_403.nii.gz\n",
            "Task08_HepaticVessel/imagesTs/hepaticvessel_403.nii.gz\n",
            "Task08_HepaticVessel/imagesTs/._hepaticvessel_352.nii.gz\n",
            "Task08_HepaticVessel/imagesTs/hepaticvessel_352.nii.gz\n",
            "Task08_HepaticVessel/imagesTs/._hepaticvessel_252.nii.gz\n",
            "Task08_HepaticVessel/imagesTs/hepaticvessel_252.nii.gz\n",
            "Task08_HepaticVessel/imagesTs/._hepaticvessel_460.nii.gz\n",
            "Task08_HepaticVessel/imagesTs/hepaticvessel_460.nii.gz\n",
            "Task08_HepaticVessel/imagesTs/._hepaticvessel_331.nii.gz\n",
            "Task08_HepaticVessel/imagesTs/hepaticvessel_331.nii.gz\n",
            "Task08_HepaticVessel/imagesTs/._hepaticvessel_448.nii.gz\n",
            "Task08_HepaticVessel/imagesTs/hepaticvessel_448.nii.gz\n",
            "Task08_HepaticVessel/imagesTs/._hepaticvessel_364.nii.gz\n",
            "Task08_HepaticVessel/imagesTs/hepaticvessel_364.nii.gz\n",
            "Task08_HepaticVessel/imagesTs/._hepaticvessel_435.nii.gz\n",
            "Task08_HepaticVessel/imagesTs/hepaticvessel_435.nii.gz\n",
            "Task08_HepaticVessel/imagesTs/._hepaticvessel_264.nii.gz\n",
            "Task08_HepaticVessel/imagesTs/hepaticvessel_264.nii.gz\n",
            "Task08_HepaticVessel/imagesTs/._hepaticvessel_276.nii.gz\n",
            "Task08_HepaticVessel/imagesTs/hepaticvessel_276.nii.gz\n",
            "Task08_HepaticVessel/imagesTs/._hepaticvessel_376.nii.gz\n",
            "Task08_HepaticVessel/imagesTs/hepaticvessel_376.nii.gz\n",
            "Task08_HepaticVessel/imagesTs/._hepaticvessel_315.nii.gz\n",
            "Task08_HepaticVessel/imagesTs/hepaticvessel_315.nii.gz\n",
            "Task08_HepaticVessel/imagesTs/._hepaticvessel_439.nii.gz\n",
            "Task08_HepaticVessel/imagesTs/hepaticvessel_439.nii.gz\n",
            "Task08_HepaticVessel/imagesTs/._hepaticvessel_250.nii.gz\n",
            "Task08_HepaticVessel/imagesTs/hepaticvessel_250.nii.gz\n",
            "Task08_HepaticVessel/imagesTs/._hepaticvessel_188.nii.gz\n",
            "Task08_HepaticVessel/imagesTs/hepaticvessel_188.nii.gz\n",
            "Task08_HepaticVessel/imagesTs/._hepaticvessel_342.nii.gz\n",
            "Task08_HepaticVessel/imagesTs/hepaticvessel_342.nii.gz\n",
            "Task08_HepaticVessel/imagesTs/._hepaticvessel_317.nii.gz\n",
            "Task08_HepaticVessel/imagesTs/hepaticvessel_317.nii.gz\n",
            "Task08_HepaticVessel/imagesTs/._hepaticvessel_205.nii.gz\n",
            "Task08_HepaticVessel/imagesTs/hepaticvessel_205.nii.gz\n",
            "Task08_HepaticVessel/imagesTs/._hepaticvessel_366.nii.gz\n",
            "Task08_HepaticVessel/imagesTs/hepaticvessel_366.nii.gz\n",
            "Task08_HepaticVessel/imagesTs/._hepaticvessel_106.nii.gz\n",
            "Task08_HepaticVessel/imagesTs/hepaticvessel_106.nii.gz\n",
            "Task08_HepaticVessel/imagesTs/._hepaticvessel_118.nii.gz\n",
            "Task08_HepaticVessel/imagesTs/hepaticvessel_118.nii.gz\n",
            "Task08_HepaticVessel/imagesTs/._hepaticvessel_014.nii.gz\n",
            "Task08_HepaticVessel/imagesTs/hepaticvessel_014.nii.gz\n",
            "Task08_HepaticVessel/imagesTs/._hepaticvessel_114.nii.gz\n",
            "Task08_HepaticVessel/imagesTs/hepaticvessel_114.nii.gz\n",
            "Task08_HepaticVessel/imagesTs/._hepaticvessel_069.nii.gz\n",
            "Task08_HepaticVessel/imagesTs/hepaticvessel_069.nii.gz\n",
            "Task08_HepaticVessel/imagesTs/._hepaticvessel_169.nii.gz\n",
            "Task08_HepaticVessel/imagesTs/hepaticvessel_169.nii.gz\n",
            "Task08_HepaticVessel/imagesTs/._hepaticvessel_122.nii.gz\n",
            "Task08_HepaticVessel/imagesTs/hepaticvessel_122.nii.gz\n",
            "Task08_HepaticVessel/imagesTs/._hepaticvessel_395.nii.gz\n",
            "Task08_HepaticVessel/imagesTs/hepaticvessel_395.nii.gz\n",
            "Task08_HepaticVessel/imagesTs/._hepaticvessel_041.nii.gz\n",
            "Task08_HepaticVessel/imagesTs/hepaticvessel_041.nii.gz\n",
            "Task08_HepaticVessel/imagesTs/._hepaticvessel_387.nii.gz\n",
            "Task08_HepaticVessel/imagesTs/hepaticvessel_387.nii.gz\n",
            "Task08_HepaticVessel/imagesTs/._hepaticvessel_130.nii.gz\n",
            "Task08_HepaticVessel/imagesTs/hepaticvessel_130.nii.gz\n",
            "Task08_HepaticVessel/imagesTs/._hepaticvessel_399.nii.gz\n",
            "Task08_HepaticVessel/imagesTs/hepaticvessel_399.nii.gz\n",
            "Task08_HepaticVessel/imagesTs/._hepaticvessel_153.nii.gz\n",
            "Task08_HepaticVessel/imagesTs/hepaticvessel_153.nii.gz\n",
            "Task08_HepaticVessel/imagesTs/._hepaticvessel_450.nii.gz\n",
            "Task08_HepaticVessel/imagesTs/hepaticvessel_450.nii.gz\n",
            "Task08_HepaticVessel/imagesTs/._hepaticvessel_301.nii.gz\n",
            "Task08_HepaticVessel/imagesTs/hepaticvessel_301.nii.gz\n",
            "Task08_HepaticVessel/imagesTs/._hepaticvessel_313.nii.gz\n",
            "Task08_HepaticVessel/imagesTs/hepaticvessel_313.nii.gz\n",
            "Task08_HepaticVessel/imagesTs/._hepaticvessel_370.nii.gz\n",
            "Task08_HepaticVessel/imagesTs/hepaticvessel_370.nii.gz\n",
            "Task08_HepaticVessel/imagesTs/._hepaticvessel_421.nii.gz\n",
            "Task08_HepaticVessel/imagesTs/hepaticvessel_421.nii.gz\n",
            "Task08_HepaticVessel/imagesTs/._hepaticvessel_417.nii.gz\n",
            "Task08_HepaticVessel/imagesTs/hepaticvessel_417.nii.gz\n",
            "Task08_HepaticVessel/imagesTs/._hepaticvessel_346.nii.gz\n",
            "Task08_HepaticVessel/imagesTs/hepaticvessel_346.nii.gz\n",
            "Task08_HepaticVessel/imagesTs/._hepaticvessel_337.nii.gz\n",
            "Task08_HepaticVessel/imagesTs/hepaticvessel_337.nii.gz\n",
            "Task08_HepaticVessel/imagesTs/._hepaticvessel_180.nii.gz\n",
            "Task08_HepaticVessel/imagesTs/hepaticvessel_180.nii.gz\n",
            "Task08_HepaticVessel/imagesTs/._hepaticvessel_354.nii.gz\n",
            "Task08_HepaticVessel/imagesTs/hepaticvessel_354.nii.gz\n",
            "Task08_HepaticVessel/imagesTs/._hepaticvessel_254.nii.gz\n",
            "Task08_HepaticVessel/imagesTs/hepaticvessel_254.nii.gz\n",
            "Task08_HepaticVessel/imagesTs/._hepaticvessel_149.nii.gz\n",
            "Task08_HepaticVessel/imagesTs/hepaticvessel_149.nii.gz\n",
            "Task08_HepaticVessel/imagesTs/._hepaticvessel_134.nii.gz\n",
            "Task08_HepaticVessel/imagesTs/hepaticvessel_134.nii.gz\n",
            "Task08_HepaticVessel/imagesTs/._hepaticvessel_034.nii.gz\n",
            "Task08_HepaticVessel/imagesTs/hepaticvessel_034.nii.gz\n",
            "Task08_HepaticVessel/imagesTs/._hepaticvessel_126.nii.gz\n",
            "Task08_HepaticVessel/imagesTs/hepaticvessel_126.nii.gz\n",
            "Task08_HepaticVessel/imagesTs/._hepaticvessel_045.nii.gz\n",
            "Task08_HepaticVessel/imagesTs/hepaticvessel_045.nii.gz\n",
            "Task08_HepaticVessel/imagesTs/._hepaticvessel_038.nii.gz\n",
            "Task08_HepaticVessel/imagesTs/hepaticvessel_038.nii.gz\n",
            "Task08_HepaticVessel/imagesTs/._hepaticvessel_073.nii.gz\n",
            "Task08_HepaticVessel/imagesTs/hepaticvessel_073.nii.gz\n",
            "Task08_HepaticVessel/imagesTs/._hepaticvessel_047.nii.gz\n",
            "Task08_HepaticVessel/imagesTs/hepaticvessel_047.nii.gz\n",
            "Task08_HepaticVessel/imagesTs/._hepaticvessel_024.nii.gz\n",
            "Task08_HepaticVessel/imagesTs/hepaticvessel_024.nii.gz\n",
            "Task08_HepaticVessel/imagesTs/._hepaticvessel_055.nii.gz\n",
            "Task08_HepaticVessel/imagesTs/hepaticvessel_055.nii.gz\n",
            "Task08_HepaticVessel/imagesTs/._hepaticvessel_381.nii.gz\n",
            "Task08_HepaticVessel/imagesTs/hepaticvessel_381.nii.gz\n",
            "Task08_HepaticVessel/imagesTs/._hepaticvessel_036.nii.gz\n",
            "Task08_HepaticVessel/imagesTs/hepaticvessel_036.nii.gz\n",
            "Task08_HepaticVessel/imagesTs/._hepaticvessel_063.nii.gz\n",
            "Task08_HepaticVessel/imagesTs/hepaticvessel_063.nii.gz\n",
            "Task08_HepaticVessel/imagesTs/._hepaticvessel_012.nii.gz\n",
            "Task08_HepaticVessel/imagesTs/hepaticvessel_012.nii.gz\n",
            "Task08_HepaticVessel/imagesTs/._hepaticvessel_360.nii.gz\n",
            "Task08_HepaticVessel/imagesTs/hepaticvessel_360.nii.gz\n",
            "Task08_HepaticVessel/imagesTs/._hepaticvessel_452.nii.gz\n",
            "Task08_HepaticVessel/imagesTs/hepaticvessel_452.nii.gz\n",
            "Task08_HepaticVessel/imagesTs/._hepaticvessel_182.nii.gz\n",
            "Task08_HepaticVessel/imagesTs/hepaticvessel_182.nii.gz\n",
            "Task08_HepaticVessel/imagesTs/._hepaticvessel_415.nii.gz\n",
            "Task08_HepaticVessel/imagesTs/hepaticvessel_415.nii.gz\n",
            "Task08_HepaticVessel/imagesTs/._hepaticvessel_339.nii.gz\n",
            "Task08_HepaticVessel/imagesTs/hepaticvessel_339.nii.gz\n",
            "Task08_HepaticVessel/imagesTs/._hepaticvessel_190.nii.gz\n",
            "Task08_HepaticVessel/imagesTs/hepaticvessel_190.nii.gz\n",
            "Task08_HepaticVessel/imagesTr/._hepaticvessel_206.nii.gz\n",
            "Task08_HepaticVessel/imagesTr/hepaticvessel_206.nii.gz\n",
            "Task08_HepaticVessel/imagesTr/._hepaticvessel_265.nii.gz\n",
            "Task08_HepaticVessel/imagesTr/hepaticvessel_265.nii.gz\n",
            "Task08_HepaticVessel/imagesTr/._hepaticvessel_434.nii.gz\n",
            "Task08_HepaticVessel/imagesTr/hepaticvessel_434.nii.gz\n",
            "Task08_HepaticVessel/imagesTr/._hepaticvessel_218.nii.gz\n",
            "Task08_HepaticVessel/imagesTr/hepaticvessel_218.nii.gz\n",
            "Task08_HepaticVessel/imagesTr/._hepaticvessel_318.nii.gz\n",
            "Task08_HepaticVessel/imagesTr/hepaticvessel_318.nii.gz\n",
            "Task08_HepaticVessel/imagesTr/._hepaticvessel_438.nii.gz\n",
            "Task08_HepaticVessel/imagesTr/hepaticvessel_438.nii.gz\n",
            "Task08_HepaticVessel/imagesTr/._hepaticvessel_369.nii.gz\n",
            "Task08_HepaticVessel/imagesTr/hepaticvessel_369.nii.gz\n",
            "Task08_HepaticVessel/imagesTr/._hepaticvessel_269.nii.gz\n",
            "Task08_HepaticVessel/imagesTr/hepaticvessel_269.nii.gz\n",
            "Task08_HepaticVessel/imagesTr/._hepaticvessel_445.nii.gz\n",
            "Task08_HepaticVessel/imagesTr/hepaticvessel_445.nii.gz\n",
            "Task08_HepaticVessel/imagesTr/._hepaticvessel_314.nii.gz\n",
            "Task08_HepaticVessel/imagesTr/hepaticvessel_314.nii.gz\n",
            "Task08_HepaticVessel/imagesTr/._hepaticvessel_214.nii.gz\n",
            "Task08_HepaticVessel/imagesTr/hepaticvessel_214.nii.gz\n",
            "Task08_HepaticVessel/imagesTr/._hepaticvessel_195.nii.gz\n",
            "Task08_HepaticVessel/imagesTr/hepaticvessel_195.nii.gz\n",
            "Task08_HepaticVessel/imagesTr/._hepaticvessel_322.nii.gz\n",
            "Task08_HepaticVessel/imagesTr/hepaticvessel_322.nii.gz\n",
            "Task08_HepaticVessel/imagesTr/._hepaticvessel_222.nii.gz\n",
            "Task08_HepaticVessel/imagesTr/hepaticvessel_222.nii.gz\n",
            "Task08_HepaticVessel/imagesTr/._hepaticvessel_341.nii.gz\n",
            "Task08_HepaticVessel/imagesTr/hepaticvessel_341.nii.gz\n",
            "Task08_HepaticVessel/imagesTr/._hepaticvessel_230.nii.gz\n",
            "Task08_HepaticVessel/imagesTr/hepaticvessel_230.nii.gz\n",
            "Task08_HepaticVessel/imagesTr/._hepaticvessel_087.nii.gz\n",
            "Task08_HepaticVessel/imagesTr/hepaticvessel_087.nii.gz\n",
            "Task08_HepaticVessel/imagesTr/._hepaticvessel_330.nii.gz\n",
            "Task08_HepaticVessel/imagesTr/hepaticvessel_330.nii.gz\n",
            "Task08_HepaticVessel/imagesTr/._hepaticvessel_402.nii.gz\n",
            "Task08_HepaticVessel/imagesTr/hepaticvessel_402.nii.gz\n",
            "Task08_HepaticVessel/imagesTr/._hepaticvessel_353.nii.gz\n",
            "Task08_HepaticVessel/imagesTr/hepaticvessel_353.nii.gz\n",
            "Task08_HepaticVessel/imagesTr/._hepaticvessel_199.nii.gz\n",
            "Task08_HepaticVessel/imagesTr/hepaticvessel_199.nii.gz\n",
            "Task08_HepaticVessel/imagesTr/._hepaticvessel_284.nii.gz\n",
            "Task08_HepaticVessel/imagesTr/hepaticvessel_284.nii.gz\n",
            "Task08_HepaticVessel/imagesTr/._hepaticvessel_033.nii.gz\n",
            "Task08_HepaticVessel/imagesTr/hepaticvessel_033.nii.gz\n",
            "Task08_HepaticVessel/imagesTr/._hepaticvessel_384.nii.gz\n",
            "Task08_HepaticVessel/imagesTr/hepaticvessel_384.nii.gz\n",
            "Task08_HepaticVessel/imagesTr/._hepaticvessel_133.nii.gz\n",
            "Task08_HepaticVessel/imagesTr/hepaticvessel_133.nii.gz\n",
            "Task08_HepaticVessel/imagesTr/._hepaticvessel_050.nii.gz\n",
            "Task08_HepaticVessel/imagesTr/hepaticvessel_050.nii.gz\n",
            "Task08_HepaticVessel/imagesTr/._hepaticvessel_150.nii.gz\n",
            "Task08_HepaticVessel/imagesTr/hepaticvessel_150.nii.gz\n",
            "Task08_HepaticVessel/imagesTr/._hepaticvessel_121.nii.gz\n",
            "Task08_HepaticVessel/imagesTr/hepaticvessel_121.nii.gz\n",
            "Task08_HepaticVessel/imagesTr/._hepaticvessel_396.nii.gz\n",
            "Task08_HepaticVessel/imagesTr/hepaticvessel_396.nii.gz\n",
            "Task08_HepaticVessel/imagesTr/._hepaticvessel_296.nii.gz\n",
            "Task08_HepaticVessel/imagesTr/hepaticvessel_296.nii.gz\n",
            "Task08_HepaticVessel/imagesTr/._hepaticvessel_142.nii.gz\n",
            "Task08_HepaticVessel/imagesTr/hepaticvessel_142.nii.gz\n",
            "Task08_HepaticVessel/imagesTr/._hepaticvessel_042.nii.gz\n",
            "Task08_HepaticVessel/imagesTr/hepaticvessel_042.nii.gz\n",
            "Task08_HepaticVessel/imagesTr/._hepaticvessel_388.nii.gz\n",
            "Task08_HepaticVessel/imagesTr/hepaticvessel_388.nii.gz\n",
            "Task08_HepaticVessel/imagesTr/._hepaticvessel_117.nii.gz\n",
            "Task08_HepaticVessel/imagesTr/hepaticvessel_117.nii.gz\n",
            "Task08_HepaticVessel/imagesTr/._hepaticvessel_174.nii.gz\n",
            "Task08_HepaticVessel/imagesTr/hepaticvessel_174.nii.gz\n",
            "Task08_HepaticVessel/imagesTr/._hepaticvessel_078.nii.gz\n",
            "Task08_HepaticVessel/imagesTr/hepaticvessel_078.nii.gz\n",
            "Task08_HepaticVessel/imagesTr/._hepaticvessel_178.nii.gz\n",
            "Task08_HepaticVessel/imagesTr/hepaticvessel_178.nii.gz\n",
            "Task08_HepaticVessel/imagesTr/._hepaticvessel_005.nii.gz\n",
            "Task08_HepaticVessel/imagesTr/hepaticvessel_005.nii.gz\n",
            "Task08_HepaticVessel/imagesTr/._hepaticvessel_066.nii.gz\n",
            "Task08_HepaticVessel/imagesTr/hepaticvessel_066.nii.gz\n",
            "Task08_HepaticVessel/imagesTr/._hepaticvessel_166.nii.gz\n",
            "Task08_HepaticVessel/imagesTr/hepaticvessel_166.nii.gz\n",
            "Task08_HepaticVessel/imagesTr/._hepaticvessel_140.nii.gz\n",
            "Task08_HepaticVessel/imagesTr/hepaticvessel_140.nii.gz\n",
            "Task08_HepaticVessel/imagesTr/._hepaticvessel_040.nii.gz\n",
            "Task08_HepaticVessel/imagesTr/hepaticvessel_040.nii.gz\n",
            "Task08_HepaticVessel/imagesTr/._hepaticvessel_123.nii.gz\n",
            "Task08_HepaticVessel/imagesTr/hepaticvessel_123.nii.gz\n",
            "Task08_HepaticVessel/imagesTr/._hepaticvessel_023.nii.gz\n",
            "Task08_HepaticVessel/imagesTr/hepaticvessel_023.nii.gz\n",
            "Task08_HepaticVessel/imagesTr/._hepaticvessel_294.nii.gz\n",
            "Task08_HepaticVessel/imagesTr/hepaticvessel_294.nii.gz\n",
            "Task08_HepaticVessel/imagesTr/._hepaticvessel_052.nii.gz\n",
            "Task08_HepaticVessel/imagesTr/hepaticvessel_052.nii.gz\n",
            "Task08_HepaticVessel/imagesTr/._hepaticvessel_398.nii.gz\n",
            "Task08_HepaticVessel/imagesTr/hepaticvessel_398.nii.gz\n",
            "Task08_HepaticVessel/imagesTr/._hepaticvessel_286.nii.gz\n",
            "Task08_HepaticVessel/imagesTr/hepaticvessel_286.nii.gz\n",
            "Task08_HepaticVessel/imagesTr/._hepaticvessel_031.nii.gz\n",
            "Task08_HepaticVessel/imagesTr/hepaticvessel_031.nii.gz\n",
            "Task08_HepaticVessel/imagesTr/._hepaticvessel_386.nii.gz\n",
            "Task08_HepaticVessel/imagesTr/hepaticvessel_386.nii.gz\n",
            "Task08_HepaticVessel/imagesTr/._hepaticvessel_131.nii.gz\n",
            "Task08_HepaticVessel/imagesTr/hepaticvessel_131.nii.gz\n",
            "Task08_HepaticVessel/imagesTr/._hepaticvessel_164.nii.gz\n",
            "Task08_HepaticVessel/imagesTr/hepaticvessel_164.nii.gz\n",
            "Task08_HepaticVessel/imagesTr/._hepaticvessel_019.nii.gz\n",
            "Task08_HepaticVessel/imagesTr/hepaticvessel_019.nii.gz\n",
            "Task08_HepaticVessel/imagesTr/._hepaticvessel_119.nii.gz\n",
            "Task08_HepaticVessel/imagesTr/hepaticvessel_119.nii.gz\n",
            "Task08_HepaticVessel/imagesTr/._hepaticvessel_007.nii.gz\n",
            "Task08_HepaticVessel/imagesTr/hepaticvessel_007.nii.gz\n",
            "Task08_HepaticVessel/imagesTr/._hepaticvessel_068.nii.gz\n",
            "Task08_HepaticVessel/imagesTr/hepaticvessel_068.nii.gz\n",
            "Task08_HepaticVessel/imagesTr/._hepaticvessel_115.nii.gz\n",
            "Task08_HepaticVessel/imagesTr/hepaticvessel_115.nii.gz\n",
            "Task08_HepaticVessel/imagesTr/._hepaticvessel_424.nii.gz\n",
            "Task08_HepaticVessel/imagesTr/hepaticvessel_424.nii.gz\n",
            "Task08_HepaticVessel/imagesTr/._hepaticvessel_375.nii.gz\n",
            "Task08_HepaticVessel/imagesTr/hepaticvessel_375.nii.gz\n",
            "Task08_HepaticVessel/imagesTr/._hepaticvessel_275.nii.gz\n",
            "Task08_HepaticVessel/imagesTr/hepaticvessel_275.nii.gz\n",
            "Task08_HepaticVessel/imagesTr/._hepaticvessel_308.nii.gz\n",
            "Task08_HepaticVessel/imagesTr/hepaticvessel_308.nii.gz\n",
            "Task08_HepaticVessel/imagesTr/._hepaticvessel_208.nii.gz\n",
            "Task08_HepaticVessel/imagesTr/hepaticvessel_208.nii.gz\n",
            "Task08_HepaticVessel/imagesTr/._hepaticvessel_447.nii.gz\n",
            "Task08_HepaticVessel/imagesTr/hepaticvessel_447.nii.gz\n",
            "Task08_HepaticVessel/imagesTr/._hepaticvessel_367.nii.gz\n",
            "Task08_HepaticVessel/imagesTr/hepaticvessel_367.nii.gz\n",
            "Task08_HepaticVessel/imagesTr/._hepaticvessel_279.nii.gz\n",
            "Task08_HepaticVessel/imagesTr/hepaticvessel_279.nii.gz\n",
            "Task08_HepaticVessel/imagesTr/._hepaticvessel_379.nii.gz\n",
            "Task08_HepaticVessel/imagesTr/hepaticvessel_379.nii.gz\n",
            "Task08_HepaticVessel/imagesTr/._hepaticvessel_455.nii.gz\n",
            "Task08_HepaticVessel/imagesTr/hepaticvessel_455.nii.gz\n",
            "Task08_HepaticVessel/imagesTr/._hepaticvessel_400.nii.gz\n",
            "Task08_HepaticVessel/imagesTr/hepaticvessel_400.nii.gz\n",
            "Task08_HepaticVessel/imagesTr/._hepaticvessel_085.nii.gz\n",
            "Task08_HepaticVessel/imagesTr/hepaticvessel_085.nii.gz\n",
            "Task08_HepaticVessel/imagesTr/._hepaticvessel_332.nii.gz\n",
            "Task08_HepaticVessel/imagesTr/hepaticvessel_332.nii.gz\n",
            "Task08_HepaticVessel/imagesTr/._hepaticvessel_185.nii.gz\n",
            "Task08_HepaticVessel/imagesTr/hepaticvessel_185.nii.gz\n",
            "Task08_HepaticVessel/imagesTr/._hepaticvessel_412.nii.gz\n",
            "Task08_HepaticVessel/imagesTr/hepaticvessel_412.nii.gz\n",
            "Task08_HepaticVessel/imagesTr/._hepaticvessel_189.nii.gz\n",
            "Task08_HepaticVessel/imagesTr/hepaticvessel_189.nii.gz\n",
            "Task08_HepaticVessel/imagesTr/._hepaticvessel_089.nii.gz\n",
            "Task08_HepaticVessel/imagesTr/hepaticvessel_089.nii.gz\n",
            "Task08_HepaticVessel/imagesTr/._hepaticvessel_197.nii.gz\n",
            "Task08_HepaticVessel/imagesTr/hepaticvessel_197.nii.gz\n",
            "Task08_HepaticVessel/imagesTr/._hepaticvessel_320.nii.gz\n",
            "Task08_HepaticVessel/imagesTr/hepaticvessel_320.nii.gz\n",
            "Task08_HepaticVessel/imagesTr/._hepaticvessel_097.nii.gz\n",
            "Task08_HepaticVessel/imagesTr/hepaticvessel_097.nii.gz\n",
            "Task08_HepaticVessel/imagesTr/._hepaticvessel_172.nii.gz\n",
            "Task08_HepaticVessel/imagesTr/hepaticvessel_172.nii.gz\n",
            "Task08_HepaticVessel/imagesTr/._hepaticvessel_072.nii.gz\n",
            "Task08_HepaticVessel/imagesTr/hepaticvessel_072.nii.gz\n",
            "Task08_HepaticVessel/imagesTr/._hepaticvessel_111.nii.gz\n",
            "Task08_HepaticVessel/imagesTr/hepaticvessel_111.nii.gz\n",
            "Task08_HepaticVessel/imagesTr/._hepaticvessel_011.nii.gz\n",
            "Task08_HepaticVessel/imagesTr/hepaticvessel_011.nii.gz\n",
            "Task08_HepaticVessel/imagesTr/._hepaticvessel_160.nii.gz\n",
            "Task08_HepaticVessel/imagesTr/hepaticvessel_160.nii.gz\n",
            "Task08_HepaticVessel/imagesTr/._hepaticvessel_103.nii.gz\n",
            "Task08_HepaticVessel/imagesTr/hepaticvessel_103.nii.gz\n",
            "Task08_HepaticVessel/imagesTr/._hepaticvessel_282.nii.gz\n",
            "Task08_HepaticVessel/imagesTr/hepaticvessel_282.nii.gz\n",
            "Task08_HepaticVessel/imagesTr/._hepaticvessel_382.nii.gz\n",
            "Task08_HepaticVessel/imagesTr/hepaticvessel_382.nii.gz\n",
            "Task08_HepaticVessel/imagesTr/._hepaticvessel_148.nii.gz\n",
            "Task08_HepaticVessel/imagesTr/hepaticvessel_148.nii.gz\n",
            "Task08_HepaticVessel/imagesTr/._hepaticvessel_139.nii.gz\n",
            "Task08_HepaticVessel/imagesTr/hepaticvessel_139.nii.gz\n",
            "Task08_HepaticVessel/imagesTr/._hepaticvessel_039.nii.gz\n",
            "Task08_HepaticVessel/imagesTr/hepaticvessel_039.nii.gz\n",
            "Task08_HepaticVessel/imagesTr/._hepaticvessel_144.nii.gz\n",
            "Task08_HepaticVessel/imagesTr/hepaticvessel_144.nii.gz\n",
            "Task08_HepaticVessel/imagesTr/._hepaticvessel_044.nii.gz\n",
            "Task08_HepaticVessel/imagesTr/hepaticvessel_044.nii.gz\n",
            "Task08_HepaticVessel/imagesTr/._hepaticvessel_127.nii.gz\n",
            "Task08_HepaticVessel/imagesTr/hepaticvessel_127.nii.gz\n",
            "Task08_HepaticVessel/imagesTr/._hepaticvessel_027.nii.gz\n",
            "Task08_HepaticVessel/imagesTr/hepaticvessel_027.nii.gz\n",
            "Task08_HepaticVessel/imagesTr/._hepaticvessel_290.nii.gz\n",
            "Task08_HepaticVessel/imagesTr/hepaticvessel_290.nii.gz\n",
            "Task08_HepaticVessel/imagesTr/._hepaticvessel_416.nii.gz\n",
            "Task08_HepaticVessel/imagesTr/hepaticvessel_416.nii.gz\n",
            "Task08_HepaticVessel/imagesTr/._hepaticvessel_193.nii.gz\n",
            "Task08_HepaticVessel/imagesTr/hepaticvessel_193.nii.gz\n",
            "Task08_HepaticVessel/imagesTr/._hepaticvessel_324.nii.gz\n",
            "Task08_HepaticVessel/imagesTr/hepaticvessel_324.nii.gz\n",
            "Task08_HepaticVessel/imagesTr/._hepaticvessel_093.nii.gz\n",
            "Task08_HepaticVessel/imagesTr/hepaticvessel_093.nii.gz\n",
            "Task08_HepaticVessel/imagesTr/._hepaticvessel_224.nii.gz\n",
            "Task08_HepaticVessel/imagesTr/hepaticvessel_224.nii.gz\n",
            "Task08_HepaticVessel/imagesTr/._hepaticvessel_408.nii.gz\n",
            "Task08_HepaticVessel/imagesTr/hepaticvessel_408.nii.gz\n",
            "Task08_HepaticVessel/imagesTr/._hepaticvessel_359.nii.gz\n",
            "Task08_HepaticVessel/imagesTr/hepaticvessel_359.nii.gz\n",
            "Task08_HepaticVessel/imagesTr/._hepaticvessel_259.nii.gz\n",
            "Task08_HepaticVessel/imagesTr/hepaticvessel_259.nii.gz\n",
            "Task08_HepaticVessel/imagesTr/._hepaticvessel_255.nii.gz\n",
            "Task08_HepaticVessel/imagesTr/hepaticvessel_255.nii.gz\n",
            "Task08_HepaticVessel/imagesTr/._hepaticvessel_404.nii.gz\n",
            "Task08_HepaticVessel/imagesTr/hepaticvessel_404.nii.gz\n",
            "Task08_HepaticVessel/imagesTr/._hepaticvessel_236.nii.gz\n",
            "Task08_HepaticVessel/imagesTr/hepaticvessel_236.nii.gz\n",
            "Task08_HepaticVessel/imagesTr/._hepaticvessel_081.nii.gz\n",
            "Task08_HepaticVessel/imagesTr/hepaticvessel_081.nii.gz\n",
            "Task08_HepaticVessel/imagesTr/._hepaticvessel_336.nii.gz\n",
            "Task08_HepaticVessel/imagesTr/hepaticvessel_336.nii.gz\n",
            "Task08_HepaticVessel/imagesTr/._hepaticvessel_181.nii.gz\n",
            "Task08_HepaticVessel/imagesTr/hepaticvessel_181.nii.gz\n",
            "Task08_HepaticVessel/imagesTr/._hepaticvessel_263.nii.gz\n",
            "Task08_HepaticVessel/imagesTr/hepaticvessel_263.nii.gz\n",
            "Task08_HepaticVessel/imagesTr/._hepaticvessel_432.nii.gz\n",
            "Task08_HepaticVessel/imagesTr/hepaticvessel_432.nii.gz\n",
            "Task08_HepaticVessel/imagesTr/._hepaticvessel_363.nii.gz\n",
            "Task08_HepaticVessel/imagesTr/hepaticvessel_363.nii.gz\n",
            "Task08_HepaticVessel/imagesTr/._hepaticvessel_200.nii.gz\n",
            "Task08_HepaticVessel/imagesTr/hepaticvessel_200.nii.gz\n",
            "Task08_HepaticVessel/imagesTr/._hepaticvessel_300.nii.gz\n",
            "Task08_HepaticVessel/imagesTr/hepaticvessel_300.nii.gz\n",
            "Task08_HepaticVessel/imagesTr/._hepaticvessel_371.nii.gz\n",
            "Task08_HepaticVessel/imagesTr/hepaticvessel_371.nii.gz\n",
            "Task08_HepaticVessel/imagesTr/._hepaticvessel_420.nii.gz\n",
            "Task08_HepaticVessel/imagesTr/hepaticvessel_420.nii.gz\n",
            "Task08_HepaticVessel/imagesTr/._hepaticvessel_271.nii.gz\n",
            "Task08_HepaticVessel/imagesTr/hepaticvessel_271.nii.gz\n",
            "Task08_HepaticVessel/imagesTr/._hepaticvessel_443.nii.gz\n",
            "Task08_HepaticVessel/imagesTr/hepaticvessel_443.nii.gz\n",
            "Task08_HepaticVessel/imagesTr/._hepaticvessel_234.nii.gz\n",
            "Task08_HepaticVessel/imagesTr/hepaticvessel_234.nii.gz\n",
            "Task08_HepaticVessel/imagesTr/._hepaticvessel_083.nii.gz\n",
            "Task08_HepaticVessel/imagesTr/hepaticvessel_083.nii.gz\n",
            "Task08_HepaticVessel/imagesTr/._hepaticvessel_183.nii.gz\n",
            "Task08_HepaticVessel/imagesTr/hepaticvessel_183.nii.gz\n",
            "Task08_HepaticVessel/imagesTr/._hepaticvessel_349.nii.gz\n",
            "Task08_HepaticVessel/imagesTr/hepaticvessel_349.nii.gz\n",
            "Task08_HepaticVessel/imagesTr/._hepaticvessel_406.nii.gz\n",
            "Task08_HepaticVessel/imagesTr/hepaticvessel_406.nii.gz\n",
            "Task08_HepaticVessel/imagesTr/._hepaticvessel_091.nii.gz\n",
            "Task08_HepaticVessel/imagesTr/hepaticvessel_091.nii.gz\n",
            "Task08_HepaticVessel/imagesTr/._hepaticvessel_338.nii.gz\n",
            "Task08_HepaticVessel/imagesTr/hepaticvessel_338.nii.gz\n",
            "Task08_HepaticVessel/imagesTr/._hepaticvessel_238.nii.gz\n",
            "Task08_HepaticVessel/imagesTr/hepaticvessel_238.nii.gz\n",
            "Task08_HepaticVessel/imagesTr/._hepaticvessel_345.nii.gz\n",
            "Task08_HepaticVessel/imagesTr/hepaticvessel_345.nii.gz\n",
            "Task08_HepaticVessel/imagesTr/._hepaticvessel_245.nii.gz\n",
            "Task08_HepaticVessel/imagesTr/hepaticvessel_245.nii.gz\n",
            "Task08_HepaticVessel/imagesTr/._hepaticvessel_441.nii.gz\n",
            "Task08_HepaticVessel/imagesTr/hepaticvessel_441.nii.gz\n",
            "Task08_HepaticVessel/imagesTr/._hepaticvessel_210.nii.gz\n",
            "Task08_HepaticVessel/imagesTr/hepaticvessel_210.nii.gz\n",
            "Task08_HepaticVessel/imagesTr/._hepaticvessel_373.nii.gz\n",
            "Task08_HepaticVessel/imagesTr/hepaticvessel_373.nii.gz\n",
            "Task08_HepaticVessel/imagesTr/._hepaticvessel_422.nii.gz\n",
            "Task08_HepaticVessel/imagesTr/hepaticvessel_422.nii.gz\n",
            "Task08_HepaticVessel/imagesTr/._hepaticvessel_453.nii.gz\n",
            "Task08_HepaticVessel/imagesTr/hepaticvessel_453.nii.gz\n",
            "Task08_HepaticVessel/imagesTr/._hepaticvessel_361.nii.gz\n",
            "Task08_HepaticVessel/imagesTr/hepaticvessel_361.nii.gz\n",
            "Task08_HepaticVessel/imagesTr/._hepaticvessel_001.nii.gz\n",
            "Task08_HepaticVessel/imagesTr/hepaticvessel_001.nii.gz\n",
            "Task08_HepaticVessel/imagesTr/._hepaticvessel_062.nii.gz\n",
            "Task08_HepaticVessel/imagesTr/hepaticvessel_062.nii.gz\n",
            "Task08_HepaticVessel/imagesTr/._hepaticvessel_113.nii.gz\n",
            "Task08_HepaticVessel/imagesTr/hepaticvessel_113.nii.gz\n",
            "Task08_HepaticVessel/imagesTr/._hepaticvessel_013.nii.gz\n",
            "Task08_HepaticVessel/imagesTr/hepaticvessel_013.nii.gz\n",
            "Task08_HepaticVessel/imagesTr/._hepaticvessel_070.nii.gz\n",
            "Task08_HepaticVessel/imagesTr/hepaticvessel_070.nii.gz\n",
            "Task08_HepaticVessel/imagesTr/._hepaticvessel_125.nii.gz\n",
            "Task08_HepaticVessel/imagesTr/hepaticvessel_125.nii.gz\n",
            "Task08_HepaticVessel/imagesTr/._hepaticvessel_025.nii.gz\n",
            "Task08_HepaticVessel/imagesTr/hepaticvessel_025.nii.gz\n",
            "Task08_HepaticVessel/imagesTr/._hepaticvessel_158.nii.gz\n",
            "Task08_HepaticVessel/imagesTr/hepaticvessel_158.nii.gz\n",
            "Task08_HepaticVessel/imagesTr/._hepaticvessel_058.nii.gz\n",
            "Task08_HepaticVessel/imagesTr/hepaticvessel_058.nii.gz\n",
            "Task08_HepaticVessel/imagesTr/._hepaticvessel_146.nii.gz\n",
            "Task08_HepaticVessel/imagesTr/hepaticvessel_146.nii.gz\n",
            "Task08_HepaticVessel/imagesTr/._hepaticvessel_046.nii.gz\n",
            "Task08_HepaticVessel/imagesTr/hepaticvessel_046.nii.gz\n",
            "Task08_HepaticVessel/imagesTr/._hepaticvessel_280.nii.gz\n",
            "Task08_HepaticVessel/imagesTr/hepaticvessel_280.nii.gz\n",
            "Task08_HepaticVessel/imagesTr/._hepaticvessel_137.nii.gz\n",
            "Task08_HepaticVessel/imagesTr/hepaticvessel_137.nii.gz\n",
            "Task08_HepaticVessel/imagesTr/._hepaticvessel_029.nii.gz\n",
            "Task08_HepaticVessel/imagesTr/hepaticvessel_029.nii.gz\n",
            "Task08_HepaticVessel/imagesTr/._hepaticvessel_129.nii.gz\n",
            "Task08_HepaticVessel/imagesTr/hepaticvessel_129.nii.gz\n",
            "Task08_HepaticVessel/imagesTr/._hepaticvessel_154.nii.gz\n",
            "Task08_HepaticVessel/imagesTr/hepaticvessel_154.nii.gz\n",
            "Task08_HepaticVessel/imagesTr/._hepaticvessel_008.nii.gz\n",
            "Task08_HepaticVessel/imagesTr/hepaticvessel_008.nii.gz\n",
            "Task08_HepaticVessel/imagesTr/._hepaticvessel_108.nii.gz\n",
            "Task08_HepaticVessel/imagesTr/hepaticvessel_108.nii.gz\n",
            "Task08_HepaticVessel/imagesTr/._hepaticvessel_075.nii.gz\n",
            "Task08_HepaticVessel/imagesTr/hepaticvessel_075.nii.gz\n",
            "Task08_HepaticVessel/imagesTr/._hepaticvessel_175.nii.gz\n",
            "Task08_HepaticVessel/imagesTr/hepaticvessel_175.nii.gz\n",
            "Task08_HepaticVessel/imagesTr/._hepaticvessel_016.nii.gz\n",
            "Task08_HepaticVessel/imagesTr/hepaticvessel_016.nii.gz\n",
            "Task08_HepaticVessel/imagesTr/._hepaticvessel_116.nii.gz\n",
            "Task08_HepaticVessel/imagesTr/hepaticvessel_116.nii.gz\n",
            "Task08_HepaticVessel/imagesTr/._hepaticvessel_167.nii.gz\n",
            "Task08_HepaticVessel/imagesTr/hepaticvessel_167.nii.gz\n",
            "Task08_HepaticVessel/imagesTr/._hepaticvessel_067.nii.gz\n",
            "Task08_HepaticVessel/imagesTr/hepaticvessel_067.nii.gz\n",
            "Task08_HepaticVessel/imagesTr/._hepaticvessel_104.nii.gz\n",
            "Task08_HepaticVessel/imagesTr/hepaticvessel_104.nii.gz\n",
            "Task08_HepaticVessel/imagesTr/._hepaticvessel_004.nii.gz\n",
            "Task08_HepaticVessel/imagesTr/hepaticvessel_004.nii.gz\n",
            "Task08_HepaticVessel/imagesTr/._hepaticvessel_179.nii.gz\n",
            "Task08_HepaticVessel/imagesTr/hepaticvessel_179.nii.gz\n",
            "Task08_HepaticVessel/imagesTr/._hepaticvessel_079.nii.gz\n",
            "Task08_HepaticVessel/imagesTr/hepaticvessel_079.nii.gz\n",
            "Task08_HepaticVessel/imagesTr/._hepaticvessel_151.nii.gz\n",
            "Task08_HepaticVessel/imagesTr/hepaticvessel_151.nii.gz\n",
            "Task08_HepaticVessel/imagesTr/._hepaticvessel_051.nii.gz\n",
            "Task08_HepaticVessel/imagesTr/hepaticvessel_051.nii.gz\n",
            "Task08_HepaticVessel/imagesTr/._hepaticvessel_385.nii.gz\n",
            "Task08_HepaticVessel/imagesTr/hepaticvessel_385.nii.gz\n",
            "Task08_HepaticVessel/imagesTr/._hepaticvessel_132.nii.gz\n",
            "Task08_HepaticVessel/imagesTr/hepaticvessel_132.nii.gz\n",
            "Task08_HepaticVessel/imagesTr/._hepaticvessel_285.nii.gz\n",
            "Task08_HepaticVessel/imagesTr/hepaticvessel_285.nii.gz\n",
            "Task08_HepaticVessel/imagesTr/._hepaticvessel_032.nii.gz\n",
            "Task08_HepaticVessel/imagesTr/hepaticvessel_032.nii.gz\n",
            "Task08_HepaticVessel/imagesTr/._hepaticvessel_289.nii.gz\n",
            "Task08_HepaticVessel/imagesTr/hepaticvessel_289.nii.gz\n",
            "Task08_HepaticVessel/imagesTr/._hepaticvessel_389.nii.gz\n",
            "Task08_HepaticVessel/imagesTr/hepaticvessel_389.nii.gz\n",
            "Task08_HepaticVessel/imagesTr/._hepaticvessel_020.nii.gz\n",
            "Task08_HepaticVessel/imagesTr/hepaticvessel_020.nii.gz\n",
            "Task08_HepaticVessel/imagesTr/._hepaticvessel_297.nii.gz\n",
            "Task08_HepaticVessel/imagesTr/hepaticvessel_297.nii.gz\n",
            "Task08_HepaticVessel/imagesTr/._hepaticvessel_397.nii.gz\n",
            "Task08_HepaticVessel/imagesTr/hepaticvessel_397.nii.gz\n",
            "Task08_HepaticVessel/imagesTr/._hepaticvessel_240.nii.gz\n",
            "Task08_HepaticVessel/imagesTr/hepaticvessel_240.nii.gz\n",
            "Task08_HepaticVessel/imagesTr/._hepaticvessel_340.nii.gz\n",
            "Task08_HepaticVessel/imagesTr/hepaticvessel_340.nii.gz\n",
            "Task08_HepaticVessel/imagesTr/._hepaticvessel_411.nii.gz\n",
            "Task08_HepaticVessel/imagesTr/hepaticvessel_411.nii.gz\n",
            "Task08_HepaticVessel/imagesTr/._hepaticvessel_094.nii.gz\n",
            "Task08_HepaticVessel/imagesTr/hepaticvessel_094.nii.gz\n",
            "Task08_HepaticVessel/imagesTr/._hepaticvessel_223.nii.gz\n",
            "Task08_HepaticVessel/imagesTr/hepaticvessel_223.nii.gz\n",
            "Task08_HepaticVessel/imagesTr/._hepaticvessel_194.nii.gz\n",
            "Task08_HepaticVessel/imagesTr/hepaticvessel_194.nii.gz\n",
            "Task08_HepaticVessel/imagesTr/._hepaticvessel_323.nii.gz\n",
            "Task08_HepaticVessel/imagesTr/hepaticvessel_323.nii.gz\n",
            "Task08_HepaticVessel/imagesTr/._hepaticvessel_198.nii.gz\n",
            "Task08_HepaticVessel/imagesTr/hepaticvessel_198.nii.gz\n",
            "Task08_HepaticVessel/imagesTr/._hepaticvessel_098.nii.gz\n",
            "Task08_HepaticVessel/imagesTr/hepaticvessel_098.nii.gz\n",
            "Task08_HepaticVessel/imagesTr/._hepaticvessel_186.nii.gz\n",
            "Task08_HepaticVessel/imagesTr/hepaticvessel_186.nii.gz\n",
            "Task08_HepaticVessel/imagesTr/._hepaticvessel_231.nii.gz\n",
            "Task08_HepaticVessel/imagesTr/hepaticvessel_231.nii.gz\n",
            "Task08_HepaticVessel/imagesTr/._hepaticvessel_086.nii.gz\n",
            "Task08_HepaticVessel/imagesTr/hepaticvessel_086.nii.gz\n",
            "Task08_HepaticVessel/imagesTr/._hepaticvessel_319.nii.gz\n",
            "Task08_HepaticVessel/imagesTr/hepaticvessel_319.nii.gz\n",
            "Task08_HepaticVessel/imagesTr/._hepaticvessel_219.nii.gz\n",
            "Task08_HepaticVessel/imagesTr/hepaticvessel_219.nii.gz\n",
            "Task08_HepaticVessel/imagesTr/._hepaticvessel_307.nii.gz\n",
            "Task08_HepaticVessel/imagesTr/hepaticvessel_307.nii.gz\n",
            "Task08_HepaticVessel/imagesTr/._hepaticvessel_456.nii.gz\n",
            "Task08_HepaticVessel/imagesTr/hepaticvessel_456.nii.gz\n",
            "Task08_HepaticVessel/imagesTr/._hepaticvessel_207.nii.gz\n",
            "Task08_HepaticVessel/imagesTr/hepaticvessel_207.nii.gz\n",
            "Task08_HepaticVessel/imagesTr/._hepaticvessel_427.nii.gz\n",
            "Task08_HepaticVessel/imagesTr/hepaticvessel_427.nii.gz\n",
            "Task08_HepaticVessel/imagesTr/._hepaticvessel_215.nii.gz\n",
            "Task08_HepaticVessel/imagesTr/hepaticvessel_215.nii.gz\n",
            "Task08_HepaticVessel/imagesTr/._hepaticvessel_444.nii.gz\n",
            "Task08_HepaticVessel/imagesTr/hepaticvessel_444.nii.gz\n",
            "Task08_HepaticVessel/imagesTr/._hepaticvessel_268.nii.gz\n",
            "Task08_HepaticVessel/imagesTr/hepaticvessel_268.nii.gz\n",
            "Task08_HepaticVessel/imagesTr/._hepaticvessel_368.nii.gz\n",
            "Task08_HepaticVessel/imagesTr/hepaticvessel_368.nii.gz\n",
            "Task08_HepaticVessel/imagesTr/._hepaticvessel_333.nii.gz\n",
            "Task08_HepaticVessel/imagesTr/hepaticvessel_333.nii.gz\n",
            "Task08_HepaticVessel/imagesTr/._hepaticvessel_184.nii.gz\n",
            "Task08_HepaticVessel/imagesTr/hepaticvessel_184.nii.gz\n",
            "Task08_HepaticVessel/imagesTr/._hepaticvessel_233.nii.gz\n",
            "Task08_HepaticVessel/imagesTr/hepaticvessel_233.nii.gz\n",
            "Task08_HepaticVessel/imagesTr/._hepaticvessel_084.nii.gz\n",
            "Task08_HepaticVessel/imagesTr/hepaticvessel_084.nii.gz\n",
            "Task08_HepaticVessel/imagesTr/._hepaticvessel_401.nii.gz\n",
            "Task08_HepaticVessel/imagesTr/hepaticvessel_401.nii.gz\n",
            "Task08_HepaticVessel/imagesTr/._hepaticvessel_350.nii.gz\n",
            "Task08_HepaticVessel/imagesTr/hepaticvessel_350.nii.gz\n",
            "Task08_HepaticVessel/imagesTr/._hepaticvessel_096.nii.gz\n",
            "Task08_HepaticVessel/imagesTr/hepaticvessel_096.nii.gz\n",
            "Task08_HepaticVessel/imagesTr/._hepaticvessel_221.nii.gz\n",
            "Task08_HepaticVessel/imagesTr/hepaticvessel_221.nii.gz\n",
            "Task08_HepaticVessel/imagesTr/._hepaticvessel_196.nii.gz\n",
            "Task08_HepaticVessel/imagesTr/hepaticvessel_196.nii.gz\n",
            "Task08_HepaticVessel/imagesTr/._hepaticvessel_321.nii.gz\n",
            "Task08_HepaticVessel/imagesTr/hepaticvessel_321.nii.gz\n",
            "Task08_HepaticVessel/imagesTr/._hepaticvessel_088.nii.gz\n",
            "Task08_HepaticVessel/imagesTr/hepaticvessel_088.nii.gz\n",
            "Task08_HepaticVessel/imagesTr/._hepaticvessel_242.nii.gz\n",
            "Task08_HepaticVessel/imagesTr/hepaticvessel_242.nii.gz\n",
            "Task08_HepaticVessel/imagesTr/._hepaticvessel_217.nii.gz\n",
            "Task08_HepaticVessel/imagesTr/hepaticvessel_217.nii.gz\n",
            "Task08_HepaticVessel/imagesTr/._hepaticvessel_446.nii.gz\n",
            "Task08_HepaticVessel/imagesTr/hepaticvessel_446.nii.gz\n",
            "Task08_HepaticVessel/imagesTr/._hepaticvessel_209.nii.gz\n",
            "Task08_HepaticVessel/imagesTr/hepaticvessel_209.nii.gz\n",
            "Task08_HepaticVessel/imagesTr/._hepaticvessel_458.nii.gz\n",
            "Task08_HepaticVessel/imagesTr/hepaticvessel_458.nii.gz\n",
            "Task08_HepaticVessel/imagesTr/._hepaticvessel_309.nii.gz\n",
            "Task08_HepaticVessel/imagesTr/hepaticvessel_309.nii.gz\n",
            "Task08_HepaticVessel/imagesTr/._hepaticvessel_274.nii.gz\n",
            "Task08_HepaticVessel/imagesTr/hepaticvessel_274.nii.gz\n",
            "Task08_HepaticVessel/imagesTr/._hepaticvessel_425.nii.gz\n",
            "Task08_HepaticVessel/imagesTr/hepaticvessel_425.nii.gz\n",
            "Task08_HepaticVessel/imagesTr/._hepaticvessel_374.nii.gz\n",
            "Task08_HepaticVessel/imagesTr/hepaticvessel_374.nii.gz\n",
            "Task08_HepaticVessel/imagesTr/._hepaticvessel_305.nii.gz\n",
            "Task08_HepaticVessel/imagesTr/hepaticvessel_305.nii.gz\n",
            "Task08_HepaticVessel/imagesTr/._hepaticvessel_454.nii.gz\n",
            "Task08_HepaticVessel/imagesTr/hepaticvessel_454.nii.gz\n",
            "Task08_HepaticVessel/imagesTr/._hepaticvessel_378.nii.gz\n",
            "Task08_HepaticVessel/imagesTr/hepaticvessel_378.nii.gz\n",
            "Task08_HepaticVessel/imagesTr/._hepaticvessel_429.nii.gz\n",
            "Task08_HepaticVessel/imagesTr/hepaticvessel_429.nii.gz\n",
            "Task08_HepaticVessel/imagesTr/._hepaticvessel_278.nii.gz\n",
            "Task08_HepaticVessel/imagesTr/hepaticvessel_278.nii.gz\n",
            "Task08_HepaticVessel/imagesTr/._hepaticvessel_437.nii.gz\n",
            "Task08_HepaticVessel/imagesTr/hepaticvessel_437.nii.gz\n",
            "Task08_HepaticVessel/imagesTr/._hepaticvessel_266.nii.gz\n",
            "Task08_HepaticVessel/imagesTr/hepaticvessel_266.nii.gz\n",
            "Task08_HepaticVessel/imagesTr/._hepaticvessel_018.nii.gz\n",
            "Task08_HepaticVessel/imagesTr/hepaticvessel_018.nii.gz\n",
            "Task08_HepaticVessel/imagesTr/._hepaticvessel_165.nii.gz\n",
            "Task08_HepaticVessel/imagesTr/hepaticvessel_165.nii.gz\n",
            "Task08_HepaticVessel/imagesTr/._hepaticvessel_065.nii.gz\n",
            "Task08_HepaticVessel/imagesTr/hepaticvessel_065.nii.gz\n",
            "Task08_HepaticVessel/imagesTr/._hepaticvessel_077.nii.gz\n",
            "Task08_HepaticVessel/imagesTr/hepaticvessel_077.nii.gz\n",
            "Task08_HepaticVessel/imagesTr/._hepaticvessel_177.nii.gz\n",
            "Task08_HepaticVessel/imagesTr/hepaticvessel_177.nii.gz\n",
            "Task08_HepaticVessel/imagesTr/._hepaticvessel_022.nii.gz\n",
            "Task08_HepaticVessel/imagesTr/hepaticvessel_022.nii.gz\n",
            "Task08_HepaticVessel/imagesTr/._hepaticvessel_141.nii.gz\n",
            "Task08_HepaticVessel/imagesTr/hepaticvessel_141.nii.gz\n",
            "Task08_HepaticVessel/imagesTr/._hepaticvessel_287.nii.gz\n",
            "Task08_HepaticVessel/imagesTr/hepaticvessel_287.nii.gz\n",
            "Task08_HepaticVessel/imagesTr/._hepaticvessel_030.nii.gz\n",
            "Task08_HepaticVessel/imagesTr/hepaticvessel_030.nii.gz\n",
            "Task08_HepaticVessel/imagesTr/._hepaticvessel_299.nii.gz\n",
            "Task08_HepaticVessel/imagesTr/hepaticvessel_299.nii.gz\n",
            "Task08_HepaticVessel/imagesTr/._hepaticvessel_053.nii.gz\n",
            "Task08_HepaticVessel/imagesTr/hepaticvessel_053.nii.gz\n",
            "Task08_HepaticVessel/imagesTr/._hepaticvessel_201.nii.gz\n",
            "Task08_HepaticVessel/imagesTr/hepaticvessel_201.nii.gz\n",
            "Task08_HepaticVessel/imagesTr/._hepaticvessel_433.nii.gz\n",
            "Task08_HepaticVessel/imagesTr/hepaticvessel_433.nii.gz\n",
            "Task08_HepaticVessel/imagesTr/._hepaticvessel_362.nii.gz\n",
            "Task08_HepaticVessel/imagesTr/hepaticvessel_362.nii.gz\n",
            "Task08_HepaticVessel/imagesTr/._hepaticvessel_262.nii.gz\n",
            "Task08_HepaticVessel/imagesTr/hepaticvessel_262.nii.gz\n",
            "Task08_HepaticVessel/imagesTr/._hepaticvessel_213.nii.gz\n",
            "Task08_HepaticVessel/imagesTr/hepaticvessel_213.nii.gz\n",
            "Task08_HepaticVessel/imagesTr/._hepaticvessel_442.nii.gz\n",
            "Task08_HepaticVessel/imagesTr/hepaticvessel_442.nii.gz\n",
            "Task08_HepaticVessel/imagesTr/._hepaticvessel_270.nii.gz\n",
            "Task08_HepaticVessel/imagesTr/hepaticvessel_270.nii.gz\n",
            "Task08_HepaticVessel/imagesTr/._hepaticvessel_258.nii.gz\n",
            "Task08_HepaticVessel/imagesTr/hepaticvessel_258.nii.gz\n",
            "Task08_HepaticVessel/imagesTr/._hepaticvessel_409.nii.gz\n",
            "Task08_HepaticVessel/imagesTr/hepaticvessel_409.nii.gz\n",
            "Task08_HepaticVessel/imagesTr/._hepaticvessel_358.nii.gz\n",
            "Task08_HepaticVessel/imagesTr/hepaticvessel_358.nii.gz\n",
            "Task08_HepaticVessel/imagesTr/._hepaticvessel_092.nii.gz\n",
            "Task08_HepaticVessel/imagesTr/hepaticvessel_092.nii.gz\n",
            "Task08_HepaticVessel/imagesTr/._hepaticvessel_225.nii.gz\n",
            "Task08_HepaticVessel/imagesTr/hepaticvessel_225.nii.gz\n",
            "Task08_HepaticVessel/imagesTr/._hepaticvessel_192.nii.gz\n",
            "Task08_HepaticVessel/imagesTr/hepaticvessel_192.nii.gz\n",
            "Task08_HepaticVessel/imagesTr/._hepaticvessel_325.nii.gz\n",
            "Task08_HepaticVessel/imagesTr/hepaticvessel_325.nii.gz\n",
            "Task08_HepaticVessel/imagesTr/._hepaticvessel_246.nii.gz\n",
            "Task08_HepaticVessel/imagesTr/hepaticvessel_246.nii.gz\n",
            "Task08_HepaticVessel/imagesTr/._hepaticvessel_237.nii.gz\n",
            "Task08_HepaticVessel/imagesTr/hepaticvessel_237.nii.gz\n",
            "Task08_HepaticVessel/imagesTr/._hepaticvessel_080.nii.gz\n",
            "Task08_HepaticVessel/imagesTr/hepaticvessel_080.nii.gz\n",
            "Task08_HepaticVessel/imagesTr/._hepaticvessel_329.nii.gz\n",
            "Task08_HepaticVessel/imagesTr/hepaticvessel_329.nii.gz\n",
            "Task08_HepaticVessel/imagesTr/._hepaticvessel_229.nii.gz\n",
            "Task08_HepaticVessel/imagesTr/hepaticvessel_229.nii.gz\n",
            "Task08_HepaticVessel/imagesTr/._hepaticvessel_049.nii.gz\n",
            "Task08_HepaticVessel/imagesTr/hepaticvessel_049.nii.gz\n",
            "Task08_HepaticVessel/imagesTr/._hepaticvessel_383.nii.gz\n",
            "Task08_HepaticVessel/imagesTr/hepaticvessel_383.nii.gz\n",
            "Task08_HepaticVessel/imagesTr/._hepaticvessel_157.nii.gz\n",
            "Task08_HepaticVessel/imagesTr/hepaticvessel_157.nii.gz\n",
            "Task08_HepaticVessel/imagesTr/._hepaticvessel_057.nii.gz\n",
            "Task08_HepaticVessel/imagesTr/hepaticvessel_057.nii.gz\n",
            "Task08_HepaticVessel/imagesTr/._hepaticvessel_026.nii.gz\n",
            "Task08_HepaticVessel/imagesTr/hepaticvessel_026.nii.gz\n",
            "Task08_HepaticVessel/imagesTr/._hepaticvessel_291.nii.gz\n",
            "Task08_HepaticVessel/imagesTr/hepaticvessel_291.nii.gz\n",
            "Task08_HepaticVessel/imagesTr/._hepaticvessel_391.nii.gz\n",
            "Task08_HepaticVessel/imagesTr/hepaticvessel_391.nii.gz\n",
            "Task08_HepaticVessel/imagesTr/._hepaticvessel_145.nii.gz\n",
            "Task08_HepaticVessel/imagesTr/hepaticvessel_145.nii.gz\n",
            "Task08_HepaticVessel/imagesTr/._hepaticvessel_138.nii.gz\n",
            "Task08_HepaticVessel/imagesTr/hepaticvessel_138.nii.gz\n",
            "Task08_HepaticVessel/imagesTr/._hepaticvessel_010.nii.gz\n",
            "Task08_HepaticVessel/imagesTr/hepaticvessel_010.nii.gz\n",
            "Task08_HepaticVessel/imagesTr/._hepaticvessel_110.nii.gz\n",
            "Task08_HepaticVessel/imagesTr/hepaticvessel_110.nii.gz\n",
            "Task08_HepaticVessel/imagesTr/._hepaticvessel_173.nii.gz\n",
            "Task08_HepaticVessel/imagesTr/hepaticvessel_173.nii.gz\n",
            "Task08_HepaticVessel/imagesTr/._hepaticvessel_102.nii.gz\n",
            "Task08_HepaticVessel/imagesTr/hepaticvessel_102.nii.gz\n",
            "Task08_HepaticVessel/imagesTr/._hepaticvessel_002.nii.gz\n",
            "Task08_HepaticVessel/imagesTr/hepaticvessel_002.nii.gz\n",
            "Task08_HepaticVessel/imagesTr/._hepaticvessel_161.nii.gz\n",
            "Task08_HepaticVessel/imagesTr/hepaticvessel_161.nii.gz\n",
            "Task08_HepaticVessel/imagesTr/._hepaticvessel_061.nii.gz\n",
            "Task08_HepaticVessel/imagesTr/hepaticvessel_061.nii.gz\n",
            "Task08_HepaticVessel/imagesTr/._hepaticvessel_147.nii.gz\n",
            "Task08_HepaticVessel/imagesTr/hepaticvessel_147.nii.gz\n",
            "Task08_HepaticVessel/imagesTr/._hepaticvessel_059.nii.gz\n",
            "Task08_HepaticVessel/imagesTr/hepaticvessel_059.nii.gz\n",
            "Task08_HepaticVessel/imagesTr/._hepaticvessel_159.nii.gz\n",
            "Task08_HepaticVessel/imagesTr/hepaticvessel_159.nii.gz\n",
            "Task08_HepaticVessel/imagesTr/._hepaticvessel_293.nii.gz\n",
            "Task08_HepaticVessel/imagesTr/hepaticvessel_293.nii.gz\n",
            "Task08_HepaticVessel/imagesTr/._hepaticvessel_124.nii.gz\n",
            "Task08_HepaticVessel/imagesTr/hepaticvessel_124.nii.gz\n",
            "Task08_HepaticVessel/imagesTr/._hepaticvessel_393.nii.gz\n",
            "Task08_HepaticVessel/imagesTr/hepaticvessel_393.nii.gz\n",
            "Task08_HepaticVessel/imagesTr/._hepaticvessel_128.nii.gz\n",
            "Task08_HepaticVessel/imagesTr/hepaticvessel_128.nii.gz\n",
            "Task08_HepaticVessel/imagesTr/._hepaticvessel_028.nii.gz\n",
            "Task08_HepaticVessel/imagesTr/hepaticvessel_028.nii.gz\n",
            "Task08_HepaticVessel/imagesTr/._hepaticvessel_136.nii.gz\n",
            "Task08_HepaticVessel/imagesTr/hepaticvessel_136.nii.gz\n",
            "Task08_HepaticVessel/imagesTr/._hepaticvessel_281.nii.gz\n",
            "Task08_HepaticVessel/imagesTr/hepaticvessel_281.nii.gz\n",
            "Task08_HepaticVessel/imagesTr/._hepaticvessel_163.nii.gz\n",
            "Task08_HepaticVessel/imagesTr/hepaticvessel_163.nii.gz\n",
            "Task08_HepaticVessel/imagesTr/._hepaticvessel_100.nii.gz\n",
            "Task08_HepaticVessel/imagesTr/hepaticvessel_100.nii.gz\n",
            "Task08_HepaticVessel/imagesTr/._hepaticvessel_071.nii.gz\n",
            "Task08_HepaticVessel/imagesTr/hepaticvessel_071.nii.gz\n",
            "Task08_HepaticVessel/imagesTr/._hepaticvessel_171.nii.gz\n",
            "Task08_HepaticVessel/imagesTr/hepaticvessel_171.nii.gz\n",
            "Task08_HepaticVessel/imagesTr/._hepaticvessel_112.nii.gz\n",
            "Task08_HepaticVessel/imagesTr/hepaticvessel_112.nii.gz\n",
            "Task08_HepaticVessel/imagesTr/._hepaticvessel_272.nii.gz\n",
            "Task08_HepaticVessel/imagesTr/hepaticvessel_272.nii.gz\n",
            "Task08_HepaticVessel/imagesTr/._hepaticvessel_372.nii.gz\n",
            "Task08_HepaticVessel/imagesTr/hepaticvessel_372.nii.gz\n",
            "Task08_HepaticVessel/imagesTr/._hepaticvessel_423.nii.gz\n",
            "Task08_HepaticVessel/imagesTr/hepaticvessel_423.nii.gz\n",
            "Task08_HepaticVessel/imagesTr/._hepaticvessel_211.nii.gz\n",
            "Task08_HepaticVessel/imagesTr/hepaticvessel_211.nii.gz\n",
            "Task08_HepaticVessel/imagesTr/._hepaticvessel_440.nii.gz\n",
            "Task08_HepaticVessel/imagesTr/hepaticvessel_440.nii.gz\n",
            "Task08_HepaticVessel/imagesTr/._hepaticvessel_431.nii.gz\n",
            "Task08_HepaticVessel/imagesTr/hepaticvessel_431.nii.gz\n",
            "Task08_HepaticVessel/imagesTr/._hepaticvessel_303.nii.gz\n",
            "Task08_HepaticVessel/imagesTr/hepaticvessel_303.nii.gz\n",
            "Task08_HepaticVessel/imagesTr/._hepaticvessel_203.nii.gz\n",
            "Task08_HepaticVessel/imagesTr/hepaticvessel_203.nii.gz\n",
            "Task08_HepaticVessel/imagesTr/._hepaticvessel_356.nii.gz\n",
            "Task08_HepaticVessel/imagesTr/hepaticvessel_356.nii.gz\n",
            "Task08_HepaticVessel/imagesTr/._hepaticvessel_407.nii.gz\n",
            "Task08_HepaticVessel/imagesTr/hepaticvessel_407.nii.gz\n",
            "Task08_HepaticVessel/imagesTr/._hepaticvessel_256.nii.gz\n",
            "Task08_HepaticVessel/imagesTr/hepaticvessel_256.nii.gz\n",
            "Task08_HepaticVessel/imagesTr/._hepaticvessel_348.nii.gz\n",
            "Task08_HepaticVessel/imagesTr/hepaticvessel_348.nii.gz\n",
            "Task08_HepaticVessel/imagesTr/._hepaticvessel_419.nii.gz\n",
            "Task08_HepaticVessel/imagesTr/hepaticvessel_419.nii.gz\n",
            "Task08_HepaticVessel/imagesTr/._hepaticvessel_248.nii.gz\n",
            "Task08_HepaticVessel/imagesTr/hepaticvessel_248.nii.gz\n",
            "Task08_HepaticVessel/imagesTr/._hepaticvessel_335.nii.gz\n",
            "Task08_HepaticVessel/imagesTr/hepaticvessel_335.nii.gz\n",
            "Task08_HepaticVessel/imagesTr/._hepaticvessel_235.nii.gz\n",
            "Task08_HepaticVessel/imagesTr/hepaticvessel_235.nii.gz\n",
            "Task08_HepaticVessel/imagesTr/._hepaticvessel_082.nii.gz\n",
            "Task08_HepaticVessel/imagesTr/hepaticvessel_082.nii.gz\n",
            "Task08_HepaticVessel/imagesTr/._hepaticvessel_244.nii.gz\n",
            "Task08_HepaticVessel/imagesTr/hepaticvessel_244.nii.gz\n",
            "Task08_HepaticVessel/imagesTr/._hepaticvessel_344.nii.gz\n",
            "Task08_HepaticVessel/imagesTr/hepaticvessel_344.nii.gz\n",
            "Task08_HepaticVessel/imagesTr/._hepaticvessel_090.nii.gz\n",
            "Task08_HepaticVessel/imagesTr/hepaticvessel_090.nii.gz\n",
            "Task08_HepaticVessel/imagesTr/._hepaticvessel_227.nii.gz\n",
            "Task08_HepaticVessel/imagesTr/hepaticvessel_227.nii.gz\n",
            "Task08_HepaticVessel/imagesTr/._hepaticvessel_327.nii.gz\n",
            "Task08_HepaticVessel/imagesTr/hepaticvessel_327.nii.gz\n",
            "Task08_HepaticVessel/labelsTr/._hepaticvessel_206.nii.gz\n",
            "Task08_HepaticVessel/labelsTr/hepaticvessel_206.nii.gz\n",
            "Task08_HepaticVessel/labelsTr/._hepaticvessel_265.nii.gz\n",
            "Task08_HepaticVessel/labelsTr/hepaticvessel_265.nii.gz\n",
            "Task08_HepaticVessel/labelsTr/._hepaticvessel_434.nii.gz\n",
            "Task08_HepaticVessel/labelsTr/hepaticvessel_434.nii.gz\n",
            "Task08_HepaticVessel/labelsTr/._hepaticvessel_218.nii.gz\n",
            "Task08_HepaticVessel/labelsTr/hepaticvessel_218.nii.gz\n",
            "Task08_HepaticVessel/labelsTr/._hepaticvessel_318.nii.gz\n",
            "Task08_HepaticVessel/labelsTr/hepaticvessel_318.nii.gz\n",
            "Task08_HepaticVessel/labelsTr/._hepaticvessel_438.nii.gz\n",
            "Task08_HepaticVessel/labelsTr/hepaticvessel_438.nii.gz\n",
            "Task08_HepaticVessel/labelsTr/._hepaticvessel_369.nii.gz\n",
            "Task08_HepaticVessel/labelsTr/hepaticvessel_369.nii.gz\n",
            "Task08_HepaticVessel/labelsTr/._hepaticvessel_269.nii.gz\n",
            "Task08_HepaticVessel/labelsTr/hepaticvessel_269.nii.gz\n",
            "Task08_HepaticVessel/labelsTr/._hepaticvessel_445.nii.gz\n",
            "Task08_HepaticVessel/labelsTr/hepaticvessel_445.nii.gz\n",
            "Task08_HepaticVessel/labelsTr/._hepaticvessel_314.nii.gz\n",
            "Task08_HepaticVessel/labelsTr/hepaticvessel_314.nii.gz\n",
            "Task08_HepaticVessel/labelsTr/._hepaticvessel_214.nii.gz\n",
            "Task08_HepaticVessel/labelsTr/hepaticvessel_214.nii.gz\n",
            "Task08_HepaticVessel/labelsTr/._hepaticvessel_195.nii.gz\n",
            "Task08_HepaticVessel/labelsTr/hepaticvessel_195.nii.gz\n",
            "Task08_HepaticVessel/labelsTr/._hepaticvessel_322.nii.gz\n",
            "Task08_HepaticVessel/labelsTr/hepaticvessel_322.nii.gz\n",
            "Task08_HepaticVessel/labelsTr/._hepaticvessel_222.nii.gz\n",
            "Task08_HepaticVessel/labelsTr/hepaticvessel_222.nii.gz\n",
            "Task08_HepaticVessel/labelsTr/._hepaticvessel_341.nii.gz\n",
            "Task08_HepaticVessel/labelsTr/hepaticvessel_341.nii.gz\n",
            "Task08_HepaticVessel/labelsTr/._hepaticvessel_230.nii.gz\n",
            "Task08_HepaticVessel/labelsTr/hepaticvessel_230.nii.gz\n",
            "Task08_HepaticVessel/labelsTr/._hepaticvessel_087.nii.gz\n",
            "Task08_HepaticVessel/labelsTr/hepaticvessel_087.nii.gz\n",
            "Task08_HepaticVessel/labelsTr/._hepaticvessel_330.nii.gz\n",
            "Task08_HepaticVessel/labelsTr/hepaticvessel_330.nii.gz\n",
            "Task08_HepaticVessel/labelsTr/._hepaticvessel_402.nii.gz\n",
            "Task08_HepaticVessel/labelsTr/hepaticvessel_402.nii.gz\n",
            "Task08_HepaticVessel/labelsTr/._hepaticvessel_353.nii.gz\n",
            "Task08_HepaticVessel/labelsTr/hepaticvessel_353.nii.gz\n",
            "Task08_HepaticVessel/labelsTr/._hepaticvessel_199.nii.gz\n",
            "Task08_HepaticVessel/labelsTr/hepaticvessel_199.nii.gz\n",
            "Task08_HepaticVessel/labelsTr/._hepaticvessel_284.nii.gz\n",
            "Task08_HepaticVessel/labelsTr/hepaticvessel_284.nii.gz\n",
            "Task08_HepaticVessel/labelsTr/._hepaticvessel_033.nii.gz\n",
            "Task08_HepaticVessel/labelsTr/hepaticvessel_033.nii.gz\n",
            "Task08_HepaticVessel/labelsTr/._hepaticvessel_384.nii.gz\n",
            "Task08_HepaticVessel/labelsTr/hepaticvessel_384.nii.gz\n",
            "Task08_HepaticVessel/labelsTr/._hepaticvessel_133.nii.gz\n",
            "Task08_HepaticVessel/labelsTr/hepaticvessel_133.nii.gz\n",
            "Task08_HepaticVessel/labelsTr/._hepaticvessel_050.nii.gz\n",
            "Task08_HepaticVessel/labelsTr/hepaticvessel_050.nii.gz\n",
            "Task08_HepaticVessel/labelsTr/._hepaticvessel_150.nii.gz\n",
            "Task08_HepaticVessel/labelsTr/hepaticvessel_150.nii.gz\n",
            "Task08_HepaticVessel/labelsTr/._hepaticvessel_121.nii.gz\n",
            "Task08_HepaticVessel/labelsTr/hepaticvessel_121.nii.gz\n",
            "Task08_HepaticVessel/labelsTr/._hepaticvessel_396.nii.gz\n",
            "Task08_HepaticVessel/labelsTr/hepaticvessel_396.nii.gz\n",
            "Task08_HepaticVessel/labelsTr/._hepaticvessel_296.nii.gz\n",
            "Task08_HepaticVessel/labelsTr/hepaticvessel_296.nii.gz\n",
            "Task08_HepaticVessel/labelsTr/._hepaticvessel_142.nii.gz\n",
            "Task08_HepaticVessel/labelsTr/hepaticvessel_142.nii.gz\n",
            "Task08_HepaticVessel/labelsTr/._hepaticvessel_042.nii.gz\n",
            "Task08_HepaticVessel/labelsTr/hepaticvessel_042.nii.gz\n",
            "Task08_HepaticVessel/labelsTr/._hepaticvessel_388.nii.gz\n",
            "Task08_HepaticVessel/labelsTr/hepaticvessel_388.nii.gz\n",
            "Task08_HepaticVessel/labelsTr/._hepaticvessel_117.nii.gz\n",
            "Task08_HepaticVessel/labelsTr/hepaticvessel_117.nii.gz\n",
            "Task08_HepaticVessel/labelsTr/._hepaticvessel_174.nii.gz\n",
            "Task08_HepaticVessel/labelsTr/hepaticvessel_174.nii.gz\n",
            "Task08_HepaticVessel/labelsTr/._hepaticvessel_078.nii.gz\n",
            "Task08_HepaticVessel/labelsTr/hepaticvessel_078.nii.gz\n",
            "Task08_HepaticVessel/labelsTr/._hepaticvessel_178.nii.gz\n",
            "Task08_HepaticVessel/labelsTr/hepaticvessel_178.nii.gz\n",
            "Task08_HepaticVessel/labelsTr/._hepaticvessel_005.nii.gz\n",
            "Task08_HepaticVessel/labelsTr/hepaticvessel_005.nii.gz\n",
            "Task08_HepaticVessel/labelsTr/._hepaticvessel_066.nii.gz\n",
            "Task08_HepaticVessel/labelsTr/hepaticvessel_066.nii.gz\n",
            "Task08_HepaticVessel/labelsTr/._hepaticvessel_166.nii.gz\n",
            "Task08_HepaticVessel/labelsTr/hepaticvessel_166.nii.gz\n",
            "Task08_HepaticVessel/labelsTr/._hepaticvessel_140.nii.gz\n",
            "Task08_HepaticVessel/labelsTr/hepaticvessel_140.nii.gz\n",
            "Task08_HepaticVessel/labelsTr/._hepaticvessel_040.nii.gz\n",
            "Task08_HepaticVessel/labelsTr/hepaticvessel_040.nii.gz\n",
            "Task08_HepaticVessel/labelsTr/._hepaticvessel_123.nii.gz\n",
            "Task08_HepaticVessel/labelsTr/hepaticvessel_123.nii.gz\n",
            "Task08_HepaticVessel/labelsTr/._hepaticvessel_023.nii.gz\n",
            "Task08_HepaticVessel/labelsTr/hepaticvessel_023.nii.gz\n",
            "Task08_HepaticVessel/labelsTr/._hepaticvessel_294.nii.gz\n",
            "Task08_HepaticVessel/labelsTr/hepaticvessel_294.nii.gz\n",
            "Task08_HepaticVessel/labelsTr/._hepaticvessel_052.nii.gz\n",
            "Task08_HepaticVessel/labelsTr/hepaticvessel_052.nii.gz\n",
            "Task08_HepaticVessel/labelsTr/._hepaticvessel_398.nii.gz\n",
            "Task08_HepaticVessel/labelsTr/hepaticvessel_398.nii.gz\n",
            "Task08_HepaticVessel/labelsTr/._hepaticvessel_286.nii.gz\n",
            "Task08_HepaticVessel/labelsTr/hepaticvessel_286.nii.gz\n",
            "Task08_HepaticVessel/labelsTr/._hepaticvessel_031.nii.gz\n",
            "Task08_HepaticVessel/labelsTr/hepaticvessel_031.nii.gz\n",
            "Task08_HepaticVessel/labelsTr/._hepaticvessel_386.nii.gz\n",
            "Task08_HepaticVessel/labelsTr/hepaticvessel_386.nii.gz\n",
            "Task08_HepaticVessel/labelsTr/._hepaticvessel_131.nii.gz\n",
            "Task08_HepaticVessel/labelsTr/hepaticvessel_131.nii.gz\n",
            "Task08_HepaticVessel/labelsTr/._hepaticvessel_164.nii.gz\n",
            "Task08_HepaticVessel/labelsTr/hepaticvessel_164.nii.gz\n",
            "Task08_HepaticVessel/labelsTr/._hepaticvessel_019.nii.gz\n",
            "Task08_HepaticVessel/labelsTr/hepaticvessel_019.nii.gz\n",
            "Task08_HepaticVessel/labelsTr/._hepaticvessel_119.nii.gz\n",
            "Task08_HepaticVessel/labelsTr/hepaticvessel_119.nii.gz\n",
            "Task08_HepaticVessel/labelsTr/._hepaticvessel_007.nii.gz\n",
            "Task08_HepaticVessel/labelsTr/hepaticvessel_007.nii.gz\n",
            "Task08_HepaticVessel/labelsTr/._hepaticvessel_068.nii.gz\n",
            "Task08_HepaticVessel/labelsTr/hepaticvessel_068.nii.gz\n",
            "Task08_HepaticVessel/labelsTr/._hepaticvessel_115.nii.gz\n",
            "Task08_HepaticVessel/labelsTr/hepaticvessel_115.nii.gz\n",
            "Task08_HepaticVessel/labelsTr/._hepaticvessel_424.nii.gz\n",
            "Task08_HepaticVessel/labelsTr/hepaticvessel_424.nii.gz\n",
            "Task08_HepaticVessel/labelsTr/._hepaticvessel_375.nii.gz\n",
            "Task08_HepaticVessel/labelsTr/hepaticvessel_375.nii.gz\n",
            "Task08_HepaticVessel/labelsTr/._hepaticvessel_275.nii.gz\n",
            "Task08_HepaticVessel/labelsTr/hepaticvessel_275.nii.gz\n",
            "Task08_HepaticVessel/labelsTr/._hepaticvessel_308.nii.gz\n",
            "Task08_HepaticVessel/labelsTr/hepaticvessel_308.nii.gz\n",
            "Task08_HepaticVessel/labelsTr/._hepaticvessel_208.nii.gz\n",
            "Task08_HepaticVessel/labelsTr/hepaticvessel_208.nii.gz\n",
            "Task08_HepaticVessel/labelsTr/._hepaticvessel_447.nii.gz\n",
            "Task08_HepaticVessel/labelsTr/hepaticvessel_447.nii.gz\n",
            "Task08_HepaticVessel/labelsTr/._hepaticvessel_367.nii.gz\n",
            "Task08_HepaticVessel/labelsTr/hepaticvessel_367.nii.gz\n",
            "Task08_HepaticVessel/labelsTr/._hepaticvessel_279.nii.gz\n",
            "Task08_HepaticVessel/labelsTr/hepaticvessel_279.nii.gz\n",
            "Task08_HepaticVessel/labelsTr/._hepaticvessel_379.nii.gz\n",
            "Task08_HepaticVessel/labelsTr/hepaticvessel_379.nii.gz\n",
            "Task08_HepaticVessel/labelsTr/._hepaticvessel_455.nii.gz\n",
            "Task08_HepaticVessel/labelsTr/hepaticvessel_455.nii.gz\n",
            "Task08_HepaticVessel/labelsTr/._hepaticvessel_400.nii.gz\n",
            "Task08_HepaticVessel/labelsTr/hepaticvessel_400.nii.gz\n",
            "Task08_HepaticVessel/labelsTr/._hepaticvessel_085.nii.gz\n",
            "Task08_HepaticVessel/labelsTr/hepaticvessel_085.nii.gz\n",
            "Task08_HepaticVessel/labelsTr/._hepaticvessel_332.nii.gz\n",
            "Task08_HepaticVessel/labelsTr/hepaticvessel_332.nii.gz\n",
            "Task08_HepaticVessel/labelsTr/._hepaticvessel_185.nii.gz\n",
            "Task08_HepaticVessel/labelsTr/hepaticvessel_185.nii.gz\n",
            "Task08_HepaticVessel/labelsTr/._hepaticvessel_412.nii.gz\n",
            "Task08_HepaticVessel/labelsTr/hepaticvessel_412.nii.gz\n",
            "Task08_HepaticVessel/labelsTr/._hepaticvessel_189.nii.gz\n",
            "Task08_HepaticVessel/labelsTr/hepaticvessel_189.nii.gz\n",
            "Task08_HepaticVessel/labelsTr/._hepaticvessel_089.nii.gz\n",
            "Task08_HepaticVessel/labelsTr/hepaticvessel_089.nii.gz\n",
            "Task08_HepaticVessel/labelsTr/._hepaticvessel_197.nii.gz\n",
            "Task08_HepaticVessel/labelsTr/hepaticvessel_197.nii.gz\n",
            "Task08_HepaticVessel/labelsTr/._hepaticvessel_320.nii.gz\n",
            "Task08_HepaticVessel/labelsTr/hepaticvessel_320.nii.gz\n",
            "Task08_HepaticVessel/labelsTr/._hepaticvessel_097.nii.gz\n",
            "Task08_HepaticVessel/labelsTr/hepaticvessel_097.nii.gz\n",
            "Task08_HepaticVessel/labelsTr/._hepaticvessel_172.nii.gz\n",
            "Task08_HepaticVessel/labelsTr/hepaticvessel_172.nii.gz\n",
            "Task08_HepaticVessel/labelsTr/._hepaticvessel_072.nii.gz\n",
            "Task08_HepaticVessel/labelsTr/hepaticvessel_072.nii.gz\n",
            "Task08_HepaticVessel/labelsTr/._hepaticvessel_111.nii.gz\n",
            "Task08_HepaticVessel/labelsTr/hepaticvessel_111.nii.gz\n",
            "Task08_HepaticVessel/labelsTr/._hepaticvessel_011.nii.gz\n",
            "Task08_HepaticVessel/labelsTr/hepaticvessel_011.nii.gz\n",
            "Task08_HepaticVessel/labelsTr/._hepaticvessel_160.nii.gz\n",
            "Task08_HepaticVessel/labelsTr/hepaticvessel_160.nii.gz\n",
            "Task08_HepaticVessel/labelsTr/._hepaticvessel_103.nii.gz\n",
            "Task08_HepaticVessel/labelsTr/hepaticvessel_103.nii.gz\n",
            "Task08_HepaticVessel/labelsTr/._hepaticvessel_282.nii.gz\n",
            "Task08_HepaticVessel/labelsTr/hepaticvessel_282.nii.gz\n",
            "Task08_HepaticVessel/labelsTr/._hepaticvessel_382.nii.gz\n",
            "Task08_HepaticVessel/labelsTr/hepaticvessel_382.nii.gz\n",
            "Task08_HepaticVessel/labelsTr/._hepaticvessel_148.nii.gz\n",
            "Task08_HepaticVessel/labelsTr/hepaticvessel_148.nii.gz\n",
            "Task08_HepaticVessel/labelsTr/._hepaticvessel_139.nii.gz\n",
            "Task08_HepaticVessel/labelsTr/hepaticvessel_139.nii.gz\n",
            "Task08_HepaticVessel/labelsTr/._hepaticvessel_039.nii.gz\n",
            "Task08_HepaticVessel/labelsTr/hepaticvessel_039.nii.gz\n",
            "Task08_HepaticVessel/labelsTr/._hepaticvessel_144.nii.gz\n",
            "Task08_HepaticVessel/labelsTr/hepaticvessel_144.nii.gz\n",
            "Task08_HepaticVessel/labelsTr/._hepaticvessel_044.nii.gz\n",
            "Task08_HepaticVessel/labelsTr/hepaticvessel_044.nii.gz\n",
            "Task08_HepaticVessel/labelsTr/._hepaticvessel_127.nii.gz\n",
            "Task08_HepaticVessel/labelsTr/hepaticvessel_127.nii.gz\n",
            "Task08_HepaticVessel/labelsTr/._hepaticvessel_027.nii.gz\n",
            "Task08_HepaticVessel/labelsTr/hepaticvessel_027.nii.gz\n",
            "Task08_HepaticVessel/labelsTr/._hepaticvessel_290.nii.gz\n",
            "Task08_HepaticVessel/labelsTr/hepaticvessel_290.nii.gz\n",
            "Task08_HepaticVessel/labelsTr/._hepaticvessel_416.nii.gz\n",
            "Task08_HepaticVessel/labelsTr/hepaticvessel_416.nii.gz\n",
            "Task08_HepaticVessel/labelsTr/._hepaticvessel_193.nii.gz\n",
            "Task08_HepaticVessel/labelsTr/hepaticvessel_193.nii.gz\n",
            "Task08_HepaticVessel/labelsTr/._hepaticvessel_324.nii.gz\n",
            "Task08_HepaticVessel/labelsTr/hepaticvessel_324.nii.gz\n",
            "Task08_HepaticVessel/labelsTr/._hepaticvessel_093.nii.gz\n",
            "Task08_HepaticVessel/labelsTr/hepaticvessel_093.nii.gz\n",
            "Task08_HepaticVessel/labelsTr/._hepaticvessel_224.nii.gz\n",
            "Task08_HepaticVessel/labelsTr/hepaticvessel_224.nii.gz\n",
            "Task08_HepaticVessel/labelsTr/._hepaticvessel_408.nii.gz\n",
            "Task08_HepaticVessel/labelsTr/hepaticvessel_408.nii.gz\n",
            "Task08_HepaticVessel/labelsTr/._hepaticvessel_359.nii.gz\n",
            "Task08_HepaticVessel/labelsTr/hepaticvessel_359.nii.gz\n",
            "Task08_HepaticVessel/labelsTr/._hepaticvessel_259.nii.gz\n",
            "Task08_HepaticVessel/labelsTr/hepaticvessel_259.nii.gz\n",
            "Task08_HepaticVessel/labelsTr/._hepaticvessel_255.nii.gz\n",
            "Task08_HepaticVessel/labelsTr/hepaticvessel_255.nii.gz\n",
            "Task08_HepaticVessel/labelsTr/._hepaticvessel_404.nii.gz\n",
            "Task08_HepaticVessel/labelsTr/hepaticvessel_404.nii.gz\n",
            "Task08_HepaticVessel/labelsTr/._hepaticvessel_236.nii.gz\n",
            "Task08_HepaticVessel/labelsTr/hepaticvessel_236.nii.gz\n",
            "Task08_HepaticVessel/labelsTr/._hepaticvessel_081.nii.gz\n",
            "Task08_HepaticVessel/labelsTr/hepaticvessel_081.nii.gz\n",
            "Task08_HepaticVessel/labelsTr/._hepaticvessel_336.nii.gz\n",
            "Task08_HepaticVessel/labelsTr/hepaticvessel_336.nii.gz\n",
            "Task08_HepaticVessel/labelsTr/._hepaticvessel_181.nii.gz\n",
            "Task08_HepaticVessel/labelsTr/hepaticvessel_181.nii.gz\n",
            "Task08_HepaticVessel/labelsTr/._hepaticvessel_263.nii.gz\n",
            "Task08_HepaticVessel/labelsTr/hepaticvessel_263.nii.gz\n",
            "Task08_HepaticVessel/labelsTr/._hepaticvessel_432.nii.gz\n",
            "Task08_HepaticVessel/labelsTr/hepaticvessel_432.nii.gz\n",
            "Task08_HepaticVessel/labelsTr/._hepaticvessel_363.nii.gz\n",
            "Task08_HepaticVessel/labelsTr/hepaticvessel_363.nii.gz\n",
            "Task08_HepaticVessel/labelsTr/._hepaticvessel_200.nii.gz\n",
            "Task08_HepaticVessel/labelsTr/hepaticvessel_200.nii.gz\n",
            "Task08_HepaticVessel/labelsTr/._hepaticvessel_300.nii.gz\n",
            "Task08_HepaticVessel/labelsTr/hepaticvessel_300.nii.gz\n",
            "Task08_HepaticVessel/labelsTr/._hepaticvessel_371.nii.gz\n",
            "Task08_HepaticVessel/labelsTr/hepaticvessel_371.nii.gz\n",
            "Task08_HepaticVessel/labelsTr/._hepaticvessel_420.nii.gz\n",
            "Task08_HepaticVessel/labelsTr/hepaticvessel_420.nii.gz\n",
            "Task08_HepaticVessel/labelsTr/._hepaticvessel_271.nii.gz\n",
            "Task08_HepaticVessel/labelsTr/hepaticvessel_271.nii.gz\n",
            "Task08_HepaticVessel/labelsTr/._hepaticvessel_443.nii.gz\n",
            "Task08_HepaticVessel/labelsTr/hepaticvessel_443.nii.gz\n",
            "Task08_HepaticVessel/labelsTr/._hepaticvessel_234.nii.gz\n",
            "Task08_HepaticVessel/labelsTr/hepaticvessel_234.nii.gz\n",
            "Task08_HepaticVessel/labelsTr/._hepaticvessel_083.nii.gz\n",
            "Task08_HepaticVessel/labelsTr/hepaticvessel_083.nii.gz\n",
            "Task08_HepaticVessel/labelsTr/._hepaticvessel_183.nii.gz\n",
            "Task08_HepaticVessel/labelsTr/hepaticvessel_183.nii.gz\n",
            "Task08_HepaticVessel/labelsTr/._hepaticvessel_349.nii.gz\n",
            "Task08_HepaticVessel/labelsTr/hepaticvessel_349.nii.gz\n",
            "Task08_HepaticVessel/labelsTr/._hepaticvessel_406.nii.gz\n",
            "Task08_HepaticVessel/labelsTr/hepaticvessel_406.nii.gz\n",
            "Task08_HepaticVessel/labelsTr/._hepaticvessel_091.nii.gz\n",
            "Task08_HepaticVessel/labelsTr/hepaticvessel_091.nii.gz\n",
            "Task08_HepaticVessel/labelsTr/._hepaticvessel_338.nii.gz\n",
            "Task08_HepaticVessel/labelsTr/hepaticvessel_338.nii.gz\n",
            "Task08_HepaticVessel/labelsTr/._hepaticvessel_238.nii.gz\n",
            "Task08_HepaticVessel/labelsTr/hepaticvessel_238.nii.gz\n",
            "Task08_HepaticVessel/labelsTr/._hepaticvessel_345.nii.gz\n",
            "Task08_HepaticVessel/labelsTr/hepaticvessel_345.nii.gz\n",
            "Task08_HepaticVessel/labelsTr/._hepaticvessel_245.nii.gz\n",
            "Task08_HepaticVessel/labelsTr/hepaticvessel_245.nii.gz\n",
            "Task08_HepaticVessel/labelsTr/._hepaticvessel_441.nii.gz\n",
            "Task08_HepaticVessel/labelsTr/hepaticvessel_441.nii.gz\n",
            "Task08_HepaticVessel/labelsTr/._hepaticvessel_210.nii.gz\n",
            "Task08_HepaticVessel/labelsTr/hepaticvessel_210.nii.gz\n",
            "Task08_HepaticVessel/labelsTr/._hepaticvessel_373.nii.gz\n",
            "Task08_HepaticVessel/labelsTr/hepaticvessel_373.nii.gz\n",
            "Task08_HepaticVessel/labelsTr/._hepaticvessel_422.nii.gz\n",
            "Task08_HepaticVessel/labelsTr/hepaticvessel_422.nii.gz\n",
            "Task08_HepaticVessel/labelsTr/._hepaticvessel_453.nii.gz\n",
            "Task08_HepaticVessel/labelsTr/hepaticvessel_453.nii.gz\n",
            "Task08_HepaticVessel/labelsTr/._hepaticvessel_361.nii.gz\n",
            "Task08_HepaticVessel/labelsTr/hepaticvessel_361.nii.gz\n",
            "Task08_HepaticVessel/labelsTr/._hepaticvessel_001.nii.gz\n",
            "Task08_HepaticVessel/labelsTr/hepaticvessel_001.nii.gz\n",
            "Task08_HepaticVessel/labelsTr/._hepaticvessel_062.nii.gz\n",
            "Task08_HepaticVessel/labelsTr/hepaticvessel_062.nii.gz\n",
            "Task08_HepaticVessel/labelsTr/._hepaticvessel_113.nii.gz\n",
            "Task08_HepaticVessel/labelsTr/hepaticvessel_113.nii.gz\n",
            "Task08_HepaticVessel/labelsTr/._hepaticvessel_013.nii.gz\n",
            "Task08_HepaticVessel/labelsTr/hepaticvessel_013.nii.gz\n",
            "Task08_HepaticVessel/labelsTr/._hepaticvessel_070.nii.gz\n",
            "Task08_HepaticVessel/labelsTr/hepaticvessel_070.nii.gz\n",
            "Task08_HepaticVessel/labelsTr/._hepaticvessel_125.nii.gz\n",
            "Task08_HepaticVessel/labelsTr/hepaticvessel_125.nii.gz\n",
            "Task08_HepaticVessel/labelsTr/._hepaticvessel_025.nii.gz\n",
            "Task08_HepaticVessel/labelsTr/hepaticvessel_025.nii.gz\n",
            "Task08_HepaticVessel/labelsTr/._hepaticvessel_158.nii.gz\n",
            "Task08_HepaticVessel/labelsTr/hepaticvessel_158.nii.gz\n",
            "Task08_HepaticVessel/labelsTr/._hepaticvessel_058.nii.gz\n",
            "Task08_HepaticVessel/labelsTr/hepaticvessel_058.nii.gz\n",
            "Task08_HepaticVessel/labelsTr/._hepaticvessel_146.nii.gz\n",
            "Task08_HepaticVessel/labelsTr/hepaticvessel_146.nii.gz\n",
            "Task08_HepaticVessel/labelsTr/._hepaticvessel_046.nii.gz\n",
            "Task08_HepaticVessel/labelsTr/hepaticvessel_046.nii.gz\n",
            "Task08_HepaticVessel/labelsTr/._hepaticvessel_280.nii.gz\n",
            "Task08_HepaticVessel/labelsTr/hepaticvessel_280.nii.gz\n",
            "Task08_HepaticVessel/labelsTr/._hepaticvessel_137.nii.gz\n",
            "Task08_HepaticVessel/labelsTr/hepaticvessel_137.nii.gz\n",
            "Task08_HepaticVessel/labelsTr/._hepaticvessel_029.nii.gz\n",
            "Task08_HepaticVessel/labelsTr/hepaticvessel_029.nii.gz\n",
            "Task08_HepaticVessel/labelsTr/._hepaticvessel_129.nii.gz\n",
            "Task08_HepaticVessel/labelsTr/hepaticvessel_129.nii.gz\n",
            "Task08_HepaticVessel/labelsTr/._hepaticvessel_154.nii.gz\n",
            "Task08_HepaticVessel/labelsTr/hepaticvessel_154.nii.gz\n",
            "Task08_HepaticVessel/labelsTr/._hepaticvessel_008.nii.gz\n",
            "Task08_HepaticVessel/labelsTr/hepaticvessel_008.nii.gz\n",
            "Task08_HepaticVessel/labelsTr/._hepaticvessel_108.nii.gz\n",
            "Task08_HepaticVessel/labelsTr/hepaticvessel_108.nii.gz\n",
            "Task08_HepaticVessel/labelsTr/._hepaticvessel_075.nii.gz\n",
            "Task08_HepaticVessel/labelsTr/hepaticvessel_075.nii.gz\n",
            "Task08_HepaticVessel/labelsTr/._hepaticvessel_175.nii.gz\n",
            "Task08_HepaticVessel/labelsTr/hepaticvessel_175.nii.gz\n",
            "Task08_HepaticVessel/labelsTr/._hepaticvessel_016.nii.gz\n",
            "Task08_HepaticVessel/labelsTr/hepaticvessel_016.nii.gz\n",
            "Task08_HepaticVessel/labelsTr/._hepaticvessel_116.nii.gz\n",
            "Task08_HepaticVessel/labelsTr/hepaticvessel_116.nii.gz\n",
            "Task08_HepaticVessel/labelsTr/._hepaticvessel_167.nii.gz\n",
            "Task08_HepaticVessel/labelsTr/hepaticvessel_167.nii.gz\n",
            "Task08_HepaticVessel/labelsTr/._hepaticvessel_067.nii.gz\n",
            "Task08_HepaticVessel/labelsTr/hepaticvessel_067.nii.gz\n",
            "Task08_HepaticVessel/labelsTr/._hepaticvessel_104.nii.gz\n",
            "Task08_HepaticVessel/labelsTr/hepaticvessel_104.nii.gz\n",
            "Task08_HepaticVessel/labelsTr/._hepaticvessel_004.nii.gz\n",
            "Task08_HepaticVessel/labelsTr/hepaticvessel_004.nii.gz\n",
            "Task08_HepaticVessel/labelsTr/._hepaticvessel_179.nii.gz\n",
            "Task08_HepaticVessel/labelsTr/hepaticvessel_179.nii.gz\n",
            "Task08_HepaticVessel/labelsTr/._hepaticvessel_079.nii.gz\n",
            "Task08_HepaticVessel/labelsTr/hepaticvessel_079.nii.gz\n",
            "Task08_HepaticVessel/labelsTr/._hepaticvessel_151.nii.gz\n",
            "Task08_HepaticVessel/labelsTr/hepaticvessel_151.nii.gz\n",
            "Task08_HepaticVessel/labelsTr/._hepaticvessel_051.nii.gz\n",
            "Task08_HepaticVessel/labelsTr/hepaticvessel_051.nii.gz\n",
            "Task08_HepaticVessel/labelsTr/._hepaticvessel_385.nii.gz\n",
            "Task08_HepaticVessel/labelsTr/hepaticvessel_385.nii.gz\n",
            "Task08_HepaticVessel/labelsTr/._hepaticvessel_132.nii.gz\n",
            "Task08_HepaticVessel/labelsTr/hepaticvessel_132.nii.gz\n",
            "Task08_HepaticVessel/labelsTr/._hepaticvessel_285.nii.gz\n",
            "Task08_HepaticVessel/labelsTr/hepaticvessel_285.nii.gz\n",
            "Task08_HepaticVessel/labelsTr/._hepaticvessel_032.nii.gz\n",
            "Task08_HepaticVessel/labelsTr/hepaticvessel_032.nii.gz\n",
            "Task08_HepaticVessel/labelsTr/._hepaticvessel_289.nii.gz\n",
            "Task08_HepaticVessel/labelsTr/hepaticvessel_289.nii.gz\n",
            "Task08_HepaticVessel/labelsTr/._hepaticvessel_389.nii.gz\n",
            "Task08_HepaticVessel/labelsTr/hepaticvessel_389.nii.gz\n",
            "Task08_HepaticVessel/labelsTr/._hepaticvessel_020.nii.gz\n",
            "Task08_HepaticVessel/labelsTr/hepaticvessel_020.nii.gz\n",
            "Task08_HepaticVessel/labelsTr/._hepaticvessel_297.nii.gz\n",
            "Task08_HepaticVessel/labelsTr/hepaticvessel_297.nii.gz\n",
            "Task08_HepaticVessel/labelsTr/._hepaticvessel_397.nii.gz\n",
            "Task08_HepaticVessel/labelsTr/hepaticvessel_397.nii.gz\n",
            "Task08_HepaticVessel/labelsTr/._hepaticvessel_240.nii.gz\n",
            "Task08_HepaticVessel/labelsTr/hepaticvessel_240.nii.gz\n",
            "Task08_HepaticVessel/labelsTr/._hepaticvessel_340.nii.gz\n",
            "Task08_HepaticVessel/labelsTr/hepaticvessel_340.nii.gz\n",
            "Task08_HepaticVessel/labelsTr/._hepaticvessel_411.nii.gz\n",
            "Task08_HepaticVessel/labelsTr/hepaticvessel_411.nii.gz\n",
            "Task08_HepaticVessel/labelsTr/._hepaticvessel_094.nii.gz\n",
            "Task08_HepaticVessel/labelsTr/hepaticvessel_094.nii.gz\n",
            "Task08_HepaticVessel/labelsTr/._hepaticvessel_223.nii.gz\n",
            "Task08_HepaticVessel/labelsTr/hepaticvessel_223.nii.gz\n",
            "Task08_HepaticVessel/labelsTr/._hepaticvessel_194.nii.gz\n",
            "Task08_HepaticVessel/labelsTr/hepaticvessel_194.nii.gz\n",
            "Task08_HepaticVessel/labelsTr/._hepaticvessel_323.nii.gz\n",
            "Task08_HepaticVessel/labelsTr/hepaticvessel_323.nii.gz\n",
            "Task08_HepaticVessel/labelsTr/._hepaticvessel_198.nii.gz\n",
            "Task08_HepaticVessel/labelsTr/hepaticvessel_198.nii.gz\n",
            "Task08_HepaticVessel/labelsTr/._hepaticvessel_098.nii.gz\n",
            "Task08_HepaticVessel/labelsTr/hepaticvessel_098.nii.gz\n",
            "Task08_HepaticVessel/labelsTr/._hepaticvessel_186.nii.gz\n",
            "Task08_HepaticVessel/labelsTr/hepaticvessel_186.nii.gz\n",
            "Task08_HepaticVessel/labelsTr/._hepaticvessel_231.nii.gz\n",
            "Task08_HepaticVessel/labelsTr/hepaticvessel_231.nii.gz\n",
            "Task08_HepaticVessel/labelsTr/._hepaticvessel_086.nii.gz\n",
            "Task08_HepaticVessel/labelsTr/hepaticvessel_086.nii.gz\n",
            "Task08_HepaticVessel/labelsTr/._hepaticvessel_319.nii.gz\n",
            "Task08_HepaticVessel/labelsTr/hepaticvessel_319.nii.gz\n",
            "Task08_HepaticVessel/labelsTr/._hepaticvessel_219.nii.gz\n",
            "Task08_HepaticVessel/labelsTr/hepaticvessel_219.nii.gz\n",
            "Task08_HepaticVessel/labelsTr/._hepaticvessel_307.nii.gz\n",
            "Task08_HepaticVessel/labelsTr/hepaticvessel_307.nii.gz\n",
            "Task08_HepaticVessel/labelsTr/._hepaticvessel_456.nii.gz\n",
            "Task08_HepaticVessel/labelsTr/hepaticvessel_456.nii.gz\n",
            "Task08_HepaticVessel/labelsTr/._hepaticvessel_207.nii.gz\n",
            "Task08_HepaticVessel/labelsTr/hepaticvessel_207.nii.gz\n",
            "Task08_HepaticVessel/labelsTr/._hepaticvessel_427.nii.gz\n",
            "Task08_HepaticVessel/labelsTr/hepaticvessel_427.nii.gz\n",
            "Task08_HepaticVessel/labelsTr/._hepaticvessel_215.nii.gz\n",
            "Task08_HepaticVessel/labelsTr/hepaticvessel_215.nii.gz\n",
            "Task08_HepaticVessel/labelsTr/._hepaticvessel_444.nii.gz\n",
            "Task08_HepaticVessel/labelsTr/hepaticvessel_444.nii.gz\n",
            "Task08_HepaticVessel/labelsTr/._hepaticvessel_268.nii.gz\n",
            "Task08_HepaticVessel/labelsTr/hepaticvessel_268.nii.gz\n",
            "Task08_HepaticVessel/labelsTr/._hepaticvessel_368.nii.gz\n",
            "Task08_HepaticVessel/labelsTr/hepaticvessel_368.nii.gz\n",
            "Task08_HepaticVessel/labelsTr/._hepaticvessel_333.nii.gz\n",
            "Task08_HepaticVessel/labelsTr/hepaticvessel_333.nii.gz\n",
            "Task08_HepaticVessel/labelsTr/._hepaticvessel_184.nii.gz\n",
            "Task08_HepaticVessel/labelsTr/hepaticvessel_184.nii.gz\n",
            "Task08_HepaticVessel/labelsTr/._hepaticvessel_233.nii.gz\n",
            "Task08_HepaticVessel/labelsTr/hepaticvessel_233.nii.gz\n",
            "Task08_HepaticVessel/labelsTr/._hepaticvessel_084.nii.gz\n",
            "Task08_HepaticVessel/labelsTr/hepaticvessel_084.nii.gz\n",
            "Task08_HepaticVessel/labelsTr/._hepaticvessel_401.nii.gz\n",
            "Task08_HepaticVessel/labelsTr/hepaticvessel_401.nii.gz\n",
            "Task08_HepaticVessel/labelsTr/._hepaticvessel_350.nii.gz\n",
            "Task08_HepaticVessel/labelsTr/hepaticvessel_350.nii.gz\n",
            "Task08_HepaticVessel/labelsTr/._hepaticvessel_096.nii.gz\n",
            "Task08_HepaticVessel/labelsTr/hepaticvessel_096.nii.gz\n",
            "Task08_HepaticVessel/labelsTr/._hepaticvessel_221.nii.gz\n",
            "Task08_HepaticVessel/labelsTr/hepaticvessel_221.nii.gz\n",
            "Task08_HepaticVessel/labelsTr/._hepaticvessel_196.nii.gz\n",
            "Task08_HepaticVessel/labelsTr/hepaticvessel_196.nii.gz\n",
            "Task08_HepaticVessel/labelsTr/._hepaticvessel_321.nii.gz\n",
            "Task08_HepaticVessel/labelsTr/hepaticvessel_321.nii.gz\n",
            "Task08_HepaticVessel/labelsTr/._hepaticvessel_088.nii.gz\n",
            "Task08_HepaticVessel/labelsTr/hepaticvessel_088.nii.gz\n",
            "Task08_HepaticVessel/labelsTr/._hepaticvessel_242.nii.gz\n",
            "Task08_HepaticVessel/labelsTr/hepaticvessel_242.nii.gz\n",
            "Task08_HepaticVessel/labelsTr/._hepaticvessel_217.nii.gz\n",
            "Task08_HepaticVessel/labelsTr/hepaticvessel_217.nii.gz\n",
            "Task08_HepaticVessel/labelsTr/._hepaticvessel_446.nii.gz\n",
            "Task08_HepaticVessel/labelsTr/hepaticvessel_446.nii.gz\n",
            "Task08_HepaticVessel/labelsTr/._hepaticvessel_209.nii.gz\n",
            "Task08_HepaticVessel/labelsTr/hepaticvessel_209.nii.gz\n",
            "Task08_HepaticVessel/labelsTr/._hepaticvessel_458.nii.gz\n",
            "Task08_HepaticVessel/labelsTr/hepaticvessel_458.nii.gz\n",
            "Task08_HepaticVessel/labelsTr/._hepaticvessel_309.nii.gz\n",
            "Task08_HepaticVessel/labelsTr/hepaticvessel_309.nii.gz\n",
            "Task08_HepaticVessel/labelsTr/._hepaticvessel_274.nii.gz\n",
            "Task08_HepaticVessel/labelsTr/hepaticvessel_274.nii.gz\n",
            "Task08_HepaticVessel/labelsTr/._hepaticvessel_425.nii.gz\n",
            "Task08_HepaticVessel/labelsTr/hepaticvessel_425.nii.gz\n",
            "Task08_HepaticVessel/labelsTr/._hepaticvessel_374.nii.gz\n",
            "Task08_HepaticVessel/labelsTr/hepaticvessel_374.nii.gz\n",
            "Task08_HepaticVessel/labelsTr/._hepaticvessel_305.nii.gz\n",
            "Task08_HepaticVessel/labelsTr/hepaticvessel_305.nii.gz\n",
            "Task08_HepaticVessel/labelsTr/._hepaticvessel_454.nii.gz\n",
            "Task08_HepaticVessel/labelsTr/hepaticvessel_454.nii.gz\n",
            "Task08_HepaticVessel/labelsTr/._hepaticvessel_378.nii.gz\n",
            "Task08_HepaticVessel/labelsTr/hepaticvessel_378.nii.gz\n",
            "Task08_HepaticVessel/labelsTr/._hepaticvessel_429.nii.gz\n",
            "Task08_HepaticVessel/labelsTr/hepaticvessel_429.nii.gz\n",
            "Task08_HepaticVessel/labelsTr/._hepaticvessel_278.nii.gz\n",
            "Task08_HepaticVessel/labelsTr/hepaticvessel_278.nii.gz\n",
            "Task08_HepaticVessel/labelsTr/._hepaticvessel_437.nii.gz\n",
            "Task08_HepaticVessel/labelsTr/hepaticvessel_437.nii.gz\n",
            "Task08_HepaticVessel/labelsTr/._hepaticvessel_266.nii.gz\n",
            "Task08_HepaticVessel/labelsTr/hepaticvessel_266.nii.gz\n",
            "Task08_HepaticVessel/labelsTr/._hepaticvessel_018.nii.gz\n",
            "Task08_HepaticVessel/labelsTr/hepaticvessel_018.nii.gz\n",
            "Task08_HepaticVessel/labelsTr/._hepaticvessel_165.nii.gz\n",
            "Task08_HepaticVessel/labelsTr/hepaticvessel_165.nii.gz\n",
            "Task08_HepaticVessel/labelsTr/._hepaticvessel_065.nii.gz\n",
            "Task08_HepaticVessel/labelsTr/hepaticvessel_065.nii.gz\n",
            "Task08_HepaticVessel/labelsTr/._hepaticvessel_077.nii.gz\n",
            "Task08_HepaticVessel/labelsTr/hepaticvessel_077.nii.gz\n",
            "Task08_HepaticVessel/labelsTr/._hepaticvessel_177.nii.gz\n",
            "Task08_HepaticVessel/labelsTr/hepaticvessel_177.nii.gz\n",
            "Task08_HepaticVessel/labelsTr/._hepaticvessel_022.nii.gz\n",
            "Task08_HepaticVessel/labelsTr/hepaticvessel_022.nii.gz\n",
            "Task08_HepaticVessel/labelsTr/._hepaticvessel_141.nii.gz\n",
            "Task08_HepaticVessel/labelsTr/hepaticvessel_141.nii.gz\n",
            "Task08_HepaticVessel/labelsTr/._hepaticvessel_287.nii.gz\n",
            "Task08_HepaticVessel/labelsTr/hepaticvessel_287.nii.gz\n",
            "Task08_HepaticVessel/labelsTr/._hepaticvessel_030.nii.gz\n",
            "Task08_HepaticVessel/labelsTr/hepaticvessel_030.nii.gz\n",
            "Task08_HepaticVessel/labelsTr/._hepaticvessel_299.nii.gz\n",
            "Task08_HepaticVessel/labelsTr/hepaticvessel_299.nii.gz\n",
            "Task08_HepaticVessel/labelsTr/._hepaticvessel_053.nii.gz\n",
            "Task08_HepaticVessel/labelsTr/hepaticvessel_053.nii.gz\n",
            "Task08_HepaticVessel/labelsTr/._hepaticvessel_201.nii.gz\n",
            "Task08_HepaticVessel/labelsTr/hepaticvessel_201.nii.gz\n",
            "Task08_HepaticVessel/labelsTr/._hepaticvessel_433.nii.gz\n",
            "Task08_HepaticVessel/labelsTr/hepaticvessel_433.nii.gz\n",
            "Task08_HepaticVessel/labelsTr/._hepaticvessel_362.nii.gz\n",
            "Task08_HepaticVessel/labelsTr/hepaticvessel_362.nii.gz\n",
            "Task08_HepaticVessel/labelsTr/._hepaticvessel_262.nii.gz\n",
            "Task08_HepaticVessel/labelsTr/hepaticvessel_262.nii.gz\n",
            "Task08_HepaticVessel/labelsTr/._hepaticvessel_213.nii.gz\n",
            "Task08_HepaticVessel/labelsTr/hepaticvessel_213.nii.gz\n",
            "Task08_HepaticVessel/labelsTr/._hepaticvessel_442.nii.gz\n",
            "Task08_HepaticVessel/labelsTr/hepaticvessel_442.nii.gz\n",
            "Task08_HepaticVessel/labelsTr/._hepaticvessel_270.nii.gz\n",
            "Task08_HepaticVessel/labelsTr/hepaticvessel_270.nii.gz\n",
            "Task08_HepaticVessel/labelsTr/._hepaticvessel_258.nii.gz\n",
            "Task08_HepaticVessel/labelsTr/hepaticvessel_258.nii.gz\n",
            "Task08_HepaticVessel/labelsTr/._hepaticvessel_409.nii.gz\n",
            "Task08_HepaticVessel/labelsTr/hepaticvessel_409.nii.gz\n",
            "Task08_HepaticVessel/labelsTr/._hepaticvessel_358.nii.gz\n",
            "Task08_HepaticVessel/labelsTr/hepaticvessel_358.nii.gz\n",
            "Task08_HepaticVessel/labelsTr/._hepaticvessel_092.nii.gz\n",
            "Task08_HepaticVessel/labelsTr/hepaticvessel_092.nii.gz\n",
            "Task08_HepaticVessel/labelsTr/._hepaticvessel_225.nii.gz\n",
            "Task08_HepaticVessel/labelsTr/hepaticvessel_225.nii.gz\n",
            "Task08_HepaticVessel/labelsTr/._hepaticvessel_192.nii.gz\n",
            "Task08_HepaticVessel/labelsTr/hepaticvessel_192.nii.gz\n",
            "Task08_HepaticVessel/labelsTr/._hepaticvessel_325.nii.gz\n",
            "Task08_HepaticVessel/labelsTr/hepaticvessel_325.nii.gz\n",
            "Task08_HepaticVessel/labelsTr/._hepaticvessel_246.nii.gz\n",
            "Task08_HepaticVessel/labelsTr/hepaticvessel_246.nii.gz\n",
            "Task08_HepaticVessel/labelsTr/._hepaticvessel_237.nii.gz\n",
            "Task08_HepaticVessel/labelsTr/hepaticvessel_237.nii.gz\n",
            "Task08_HepaticVessel/labelsTr/._hepaticvessel_080.nii.gz\n",
            "Task08_HepaticVessel/labelsTr/hepaticvessel_080.nii.gz\n",
            "Task08_HepaticVessel/labelsTr/._hepaticvessel_329.nii.gz\n",
            "Task08_HepaticVessel/labelsTr/hepaticvessel_329.nii.gz\n",
            "Task08_HepaticVessel/labelsTr/._hepaticvessel_229.nii.gz\n",
            "Task08_HepaticVessel/labelsTr/hepaticvessel_229.nii.gz\n",
            "Task08_HepaticVessel/labelsTr/._hepaticvessel_049.nii.gz\n",
            "Task08_HepaticVessel/labelsTr/hepaticvessel_049.nii.gz\n",
            "Task08_HepaticVessel/labelsTr/._hepaticvessel_383.nii.gz\n",
            "Task08_HepaticVessel/labelsTr/hepaticvessel_383.nii.gz\n",
            "Task08_HepaticVessel/labelsTr/._hepaticvessel_157.nii.gz\n",
            "Task08_HepaticVessel/labelsTr/hepaticvessel_157.nii.gz\n",
            "Task08_HepaticVessel/labelsTr/._hepaticvessel_057.nii.gz\n",
            "Task08_HepaticVessel/labelsTr/hepaticvessel_057.nii.gz\n",
            "Task08_HepaticVessel/labelsTr/._hepaticvessel_026.nii.gz\n",
            "Task08_HepaticVessel/labelsTr/hepaticvessel_026.nii.gz\n",
            "Task08_HepaticVessel/labelsTr/._hepaticvessel_291.nii.gz\n",
            "Task08_HepaticVessel/labelsTr/hepaticvessel_291.nii.gz\n",
            "Task08_HepaticVessel/labelsTr/._hepaticvessel_391.nii.gz\n",
            "Task08_HepaticVessel/labelsTr/hepaticvessel_391.nii.gz\n",
            "Task08_HepaticVessel/labelsTr/._hepaticvessel_145.nii.gz\n",
            "Task08_HepaticVessel/labelsTr/hepaticvessel_145.nii.gz\n",
            "Task08_HepaticVessel/labelsTr/._hepaticvessel_138.nii.gz\n",
            "Task08_HepaticVessel/labelsTr/hepaticvessel_138.nii.gz\n",
            "Task08_HepaticVessel/labelsTr/._hepaticvessel_010.nii.gz\n",
            "Task08_HepaticVessel/labelsTr/hepaticvessel_010.nii.gz\n",
            "Task08_HepaticVessel/labelsTr/._hepaticvessel_110.nii.gz\n",
            "Task08_HepaticVessel/labelsTr/hepaticvessel_110.nii.gz\n",
            "Task08_HepaticVessel/labelsTr/._hepaticvessel_173.nii.gz\n",
            "Task08_HepaticVessel/labelsTr/hepaticvessel_173.nii.gz\n",
            "Task08_HepaticVessel/labelsTr/._hepaticvessel_102.nii.gz\n",
            "Task08_HepaticVessel/labelsTr/hepaticvessel_102.nii.gz\n",
            "Task08_HepaticVessel/labelsTr/._hepaticvessel_002.nii.gz\n",
            "Task08_HepaticVessel/labelsTr/hepaticvessel_002.nii.gz\n",
            "Task08_HepaticVessel/labelsTr/._hepaticvessel_161.nii.gz\n",
            "Task08_HepaticVessel/labelsTr/hepaticvessel_161.nii.gz\n",
            "Task08_HepaticVessel/labelsTr/._hepaticvessel_061.nii.gz\n",
            "Task08_HepaticVessel/labelsTr/hepaticvessel_061.nii.gz\n",
            "Task08_HepaticVessel/labelsTr/._hepaticvessel_147.nii.gz\n",
            "Task08_HepaticVessel/labelsTr/hepaticvessel_147.nii.gz\n",
            "Task08_HepaticVessel/labelsTr/._hepaticvessel_059.nii.gz\n",
            "Task08_HepaticVessel/labelsTr/hepaticvessel_059.nii.gz\n",
            "Task08_HepaticVessel/labelsTr/._hepaticvessel_159.nii.gz\n",
            "Task08_HepaticVessel/labelsTr/hepaticvessel_159.nii.gz\n",
            "Task08_HepaticVessel/labelsTr/._hepaticvessel_293.nii.gz\n",
            "Task08_HepaticVessel/labelsTr/hepaticvessel_293.nii.gz\n",
            "Task08_HepaticVessel/labelsTr/._hepaticvessel_124.nii.gz\n",
            "Task08_HepaticVessel/labelsTr/hepaticvessel_124.nii.gz\n",
            "Task08_HepaticVessel/labelsTr/._hepaticvessel_393.nii.gz\n",
            "Task08_HepaticVessel/labelsTr/hepaticvessel_393.nii.gz\n",
            "Task08_HepaticVessel/labelsTr/._hepaticvessel_128.nii.gz\n",
            "Task08_HepaticVessel/labelsTr/hepaticvessel_128.nii.gz\n",
            "Task08_HepaticVessel/labelsTr/._hepaticvessel_028.nii.gz\n",
            "Task08_HepaticVessel/labelsTr/hepaticvessel_028.nii.gz\n",
            "Task08_HepaticVessel/labelsTr/._hepaticvessel_136.nii.gz\n",
            "Task08_HepaticVessel/labelsTr/hepaticvessel_136.nii.gz\n",
            "Task08_HepaticVessel/labelsTr/._hepaticvessel_281.nii.gz\n",
            "Task08_HepaticVessel/labelsTr/hepaticvessel_281.nii.gz\n",
            "Task08_HepaticVessel/labelsTr/._hepaticvessel_163.nii.gz\n",
            "Task08_HepaticVessel/labelsTr/hepaticvessel_163.nii.gz\n",
            "Task08_HepaticVessel/labelsTr/._hepaticvessel_100.nii.gz\n",
            "Task08_HepaticVessel/labelsTr/hepaticvessel_100.nii.gz\n",
            "Task08_HepaticVessel/labelsTr/._hepaticvessel_071.nii.gz\n",
            "Task08_HepaticVessel/labelsTr/hepaticvessel_071.nii.gz\n",
            "Task08_HepaticVessel/labelsTr/._hepaticvessel_171.nii.gz\n",
            "Task08_HepaticVessel/labelsTr/hepaticvessel_171.nii.gz\n",
            "Task08_HepaticVessel/labelsTr/._hepaticvessel_112.nii.gz\n",
            "Task08_HepaticVessel/labelsTr/hepaticvessel_112.nii.gz\n",
            "Task08_HepaticVessel/labelsTr/._hepaticvessel_272.nii.gz\n",
            "Task08_HepaticVessel/labelsTr/hepaticvessel_272.nii.gz\n",
            "Task08_HepaticVessel/labelsTr/._hepaticvessel_372.nii.gz\n",
            "Task08_HepaticVessel/labelsTr/hepaticvessel_372.nii.gz\n",
            "Task08_HepaticVessel/labelsTr/._hepaticvessel_423.nii.gz\n",
            "Task08_HepaticVessel/labelsTr/hepaticvessel_423.nii.gz\n",
            "Task08_HepaticVessel/labelsTr/._hepaticvessel_211.nii.gz\n",
            "Task08_HepaticVessel/labelsTr/hepaticvessel_211.nii.gz\n",
            "Task08_HepaticVessel/labelsTr/._hepaticvessel_440.nii.gz\n",
            "Task08_HepaticVessel/labelsTr/hepaticvessel_440.nii.gz\n",
            "Task08_HepaticVessel/labelsTr/._hepaticvessel_431.nii.gz\n",
            "Task08_HepaticVessel/labelsTr/hepaticvessel_431.nii.gz\n",
            "Task08_HepaticVessel/labelsTr/._hepaticvessel_303.nii.gz\n",
            "Task08_HepaticVessel/labelsTr/hepaticvessel_303.nii.gz\n",
            "Task08_HepaticVessel/labelsTr/._hepaticvessel_203.nii.gz\n",
            "Task08_HepaticVessel/labelsTr/hepaticvessel_203.nii.gz\n",
            "Task08_HepaticVessel/labelsTr/._hepaticvessel_356.nii.gz\n",
            "Task08_HepaticVessel/labelsTr/hepaticvessel_356.nii.gz\n",
            "Task08_HepaticVessel/labelsTr/._hepaticvessel_407.nii.gz\n",
            "Task08_HepaticVessel/labelsTr/hepaticvessel_407.nii.gz\n",
            "Task08_HepaticVessel/labelsTr/._hepaticvessel_256.nii.gz\n",
            "Task08_HepaticVessel/labelsTr/hepaticvessel_256.nii.gz\n",
            "Task08_HepaticVessel/labelsTr/._hepaticvessel_348.nii.gz\n",
            "Task08_HepaticVessel/labelsTr/hepaticvessel_348.nii.gz\n",
            "Task08_HepaticVessel/labelsTr/._hepaticvessel_419.nii.gz\n",
            "Task08_HepaticVessel/labelsTr/hepaticvessel_419.nii.gz\n",
            "Task08_HepaticVessel/labelsTr/._hepaticvessel_248.nii.gz\n",
            "Task08_HepaticVessel/labelsTr/hepaticvessel_248.nii.gz\n",
            "Task08_HepaticVessel/labelsTr/._hepaticvessel_335.nii.gz\n",
            "Task08_HepaticVessel/labelsTr/hepaticvessel_335.nii.gz\n",
            "Task08_HepaticVessel/labelsTr/._hepaticvessel_235.nii.gz\n",
            "Task08_HepaticVessel/labelsTr/hepaticvessel_235.nii.gz\n",
            "Task08_HepaticVessel/labelsTr/._hepaticvessel_082.nii.gz\n",
            "Task08_HepaticVessel/labelsTr/hepaticvessel_082.nii.gz\n",
            "Task08_HepaticVessel/labelsTr/._hepaticvessel_244.nii.gz\n",
            "Task08_HepaticVessel/labelsTr/hepaticvessel_244.nii.gz\n",
            "Task08_HepaticVessel/labelsTr/._hepaticvessel_344.nii.gz\n",
            "Task08_HepaticVessel/labelsTr/hepaticvessel_344.nii.gz\n",
            "Task08_HepaticVessel/labelsTr/._hepaticvessel_090.nii.gz\n",
            "Task08_HepaticVessel/labelsTr/hepaticvessel_090.nii.gz\n",
            "Task08_HepaticVessel/labelsTr/._hepaticvessel_227.nii.gz\n",
            "Task08_HepaticVessel/labelsTr/hepaticvessel_227.nii.gz\n",
            "Task08_HepaticVessel/labelsTr/._hepaticvessel_327.nii.gz\n",
            "Task08_HepaticVessel/labelsTr/hepaticvessel_327.nii.gz\n"
          ],
          "name": "stdout"
        }
      ]
    },
    {
      "cell_type": "code",
      "metadata": {
        "id": "lHy7wkk7bLAr"
      },
      "source": [
        "!rm -r /content/HepaticData/Task08_HepaticVessel/imagesTs\n",
        "!rm -r /content/HepaticData/Task08_HepaticVessel/dataset.json"
      ],
      "execution_count": null,
      "outputs": []
    },
    {
      "cell_type": "markdown",
      "metadata": {
        "id": "-LGaO3Yeqe39"
      },
      "source": [
        "# Prepare Data format with below format and structure:\n",
        "1. Creating 2 sub-folder: **imagesTr and labelsTr** (for train and validation set)\n",
        "2. Transforming 3D data to 2D slices and save with npz format(for example 05_23.npz In such a way that the first number indicates the subject number and the second number indicates the slice number) with array name -> img \n",
        "3. The images are in the imagesTr folder\n",
        "4. The segmentation masks are in the labelsTr folder\n"
      ]
    },
    {
      "cell_type": "code",
      "metadata": {
        "id": "OSfB2TmybcdA"
      },
      "source": [
        "!mkdir /content/drive/MyDrive/2D-data"
      ],
      "execution_count": null,
      "outputs": []
    },
    {
      "cell_type": "code",
      "metadata": {
        "id": "V6v6jCJYZ_66"
      },
      "source": [
        "!mkdir /content/drive/MyDrive/2D-data/imagesTr\n",
        "!mkdir /content/drive/MyDrive/2D-data/labelsTr"
      ],
      "execution_count": null,
      "outputs": []
    },
    {
      "cell_type": "code",
      "metadata": {
        "colab": {
          "base_uri": "https://localhost:8080/"
        },
        "id": "L5KjTG7gaRlg",
        "outputId": "c9a030b3-77f8-43a2-c03c-8a8998ecf879"
      },
      "source": [
        "imageTrPath = '/content/HepaticData/Task08_HepaticVessel/imagesTr/'\n",
        "imgPathlist = Path(imageTrPath).glob('hepaticvessel_*.gz')\n",
        "num = 1\n",
        "for filename in imgPathlist:\n",
        "  img  = nib.load(filename)\n",
        "  nii_data = np.rot90(img.get_fdata(),3, axes=(1,0))\n",
        "  # nii_data[nii_data<-1024]=-1024\n",
        "  print(filename , '-',nii_data.shape)\n",
        "\n",
        "  maskFileName = str(filename).replace(\"images\", \"labels\")\n",
        "  img  = nib.load(maskFileName)\n",
        "  nii_mask = np.rot90(img.get_fdata(),3, axes=(1,0))\n",
        "  for j in range(nii_mask.shape[2]):\n",
        "    img0 = np.array(np.round(nii_data[:,:,j],0),dtype='int16')\n",
        "    mask0 = np.array(nii_mask[:,:,j],dtype='int16')\n",
        "\n",
        "    np.savez_compressed('/content/drive/MyDrive/2D-data/imagesTr/' + str(num).zfill(3)+ '_' +str(j).zfill(3)+'.npz',img=img0 )\n",
        "    np.savez_compressed('/content/drive/MyDrive/2D-data/labelsTr/' + str(num).zfill(3)+ '_' +str(j).zfill(3)+'.npz',img=mask0)\n",
        "  num += 1\n",
        "    "
      ],
      "execution_count": null,
      "outputs": [
        {
          "output_type": "stream",
          "text": [
            "/content/HepaticData/Task08_HepaticVessel/imagesTr/hepaticvessel_174.nii.gz - (512, 512, 32)\n",
            "/content/HepaticData/Task08_HepaticVessel/imagesTr/hepaticvessel_384.nii.gz - (512, 512, 158)\n",
            "/content/HepaticData/Task08_HepaticVessel/imagesTr/hepaticvessel_112.nii.gz - (512, 512, 44)\n",
            "/content/HepaticData/Task08_HepaticVessel/imagesTr/hepaticvessel_287.nii.gz - (512, 512, 164)\n",
            "/content/HepaticData/Task08_HepaticVessel/imagesTr/hepaticvessel_117.nii.gz - (512, 512, 53)\n",
            "/content/HepaticData/Task08_HepaticVessel/imagesTr/hepaticvessel_291.nii.gz - (512, 512, 143)\n",
            "/content/HepaticData/Task08_HepaticVessel/imagesTr/hepaticvessel_084.nii.gz - (512, 512, 45)\n",
            "/content/HepaticData/Task08_HepaticVessel/imagesTr/hepaticvessel_321.nii.gz - (512, 512, 37)\n",
            "/content/HepaticData/Task08_HepaticVessel/imagesTr/hepaticvessel_057.nii.gz - (512, 512, 38)\n",
            "/content/HepaticData/Task08_HepaticVessel/imagesTr/hepaticvessel_341.nii.gz - (512, 512, 49)\n",
            "/content/HepaticData/Task08_HepaticVessel/imagesTr/hepaticvessel_345.nii.gz - (512, 512, 155)\n",
            "/content/HepaticData/Task08_HepaticVessel/imagesTr/hepaticvessel_110.nii.gz - (512, 512, 49)\n",
            "/content/HepaticData/Task08_HepaticVessel/imagesTr/hepaticvessel_237.nii.gz - (512, 512, 45)\n",
            "/content/HepaticData/Task08_HepaticVessel/imagesTr/hepaticvessel_255.nii.gz - (512, 512, 131)\n",
            "/content/HepaticData/Task08_HepaticVessel/imagesTr/hepaticvessel_203.nii.gz - (512, 512, 47)\n",
            "/content/HepaticData/Task08_HepaticVessel/imagesTr/hepaticvessel_340.nii.gz - (512, 512, 141)\n",
            "/content/HepaticData/Task08_HepaticVessel/imagesTr/hepaticvessel_050.nii.gz - (512, 512, 41)\n",
            "/content/HepaticData/Task08_HepaticVessel/imagesTr/hepaticvessel_140.nii.gz - (512, 512, 46)\n",
            "/content/HepaticData/Task08_HepaticVessel/imagesTr/hepaticvessel_218.nii.gz - (512, 512, 50)\n",
            "/content/HepaticData/Task08_HepaticVessel/imagesTr/hepaticvessel_157.nii.gz - (512, 512, 54)\n",
            "/content/HepaticData/Task08_HepaticVessel/imagesTr/hepaticvessel_266.nii.gz - (512, 512, 41)\n",
            "/content/HepaticData/Task08_HepaticVessel/imagesTr/hepaticvessel_139.nii.gz - (512, 512, 50)\n",
            "/content/HepaticData/Task08_HepaticVessel/imagesTr/hepaticvessel_229.nii.gz - (512, 512, 34)\n",
            "/content/HepaticData/Task08_HepaticVessel/imagesTr/hepaticvessel_284.nii.gz - (512, 512, 30)\n",
            "/content/HepaticData/Task08_HepaticVessel/imagesTr/hepaticvessel_442.nii.gz - (512, 512, 48)\n",
            "/content/HepaticData/Task08_HepaticVessel/imagesTr/hepaticvessel_040.nii.gz - (512, 512, 44)\n",
            "/content/HepaticData/Task08_HepaticVessel/imagesTr/hepaticvessel_081.nii.gz - (512, 512, 54)\n",
            "/content/HepaticData/Task08_HepaticVessel/imagesTr/hepaticvessel_119.nii.gz - (512, 512, 43)\n",
            "/content/HepaticData/Task08_HepaticVessel/imagesTr/hepaticvessel_166.nii.gz - (512, 512, 107)\n",
            "/content/HepaticData/Task08_HepaticVessel/imagesTr/hepaticvessel_071.nii.gz - (512, 512, 37)\n",
            "/content/HepaticData/Task08_HepaticVessel/imagesTr/hepaticvessel_001.nii.gz - (512, 512, 49)\n",
            "/content/HepaticData/Task08_HepaticVessel/imagesTr/hepaticvessel_278.nii.gz - (512, 512, 35)\n",
            "/content/HepaticData/Task08_HepaticVessel/imagesTr/hepaticvessel_039.nii.gz - (512, 512, 45)\n",
            "/content/HepaticData/Task08_HepaticVessel/imagesTr/hepaticvessel_432.nii.gz - (512, 512, 148)\n",
            "/content/HepaticData/Task08_HepaticVessel/imagesTr/hepaticvessel_102.nii.gz - (512, 512, 37)\n",
            "/content/HepaticData/Task08_HepaticVessel/imagesTr/hepaticvessel_281.nii.gz - (512, 512, 145)\n",
            "/content/HepaticData/Task08_HepaticVessel/imagesTr/hepaticvessel_265.nii.gz - (512, 512, 51)\n",
            "/content/HepaticData/Task08_HepaticVessel/imagesTr/hepaticvessel_091.nii.gz - (512, 512, 45)\n",
            "/content/HepaticData/Task08_HepaticVessel/imagesTr/hepaticvessel_431.nii.gz - (512, 512, 48)\n",
            "/content/HepaticData/Task08_HepaticVessel/imagesTr/hepaticvessel_008.nii.gz - (512, 512, 47)\n",
            "/content/HepaticData/Task08_HepaticVessel/imagesTr/hepaticvessel_263.nii.gz - (512, 512, 161)\n",
            "/content/HepaticData/Task08_HepaticVessel/imagesTr/hepaticvessel_362.nii.gz - (512, 512, 114)\n",
            "/content/HepaticData/Task08_HepaticVessel/imagesTr/hepaticvessel_356.nii.gz - (512, 512, 24)\n",
            "/content/HepaticData/Task08_HepaticVessel/imagesTr/hepaticvessel_455.nii.gz - (512, 512, 47)\n",
            "/content/HepaticData/Task08_HepaticVessel/imagesTr/hepaticvessel_211.nii.gz - (512, 512, 52)\n",
            "/content/HepaticData/Task08_HepaticVessel/imagesTr/hepaticvessel_272.nii.gz - (512, 512, 47)\n",
            "/content/HepaticData/Task08_HepaticVessel/imagesTr/hepaticvessel_179.nii.gz - (512, 512, 32)\n",
            "/content/HepaticData/Task08_HepaticVessel/imagesTr/hepaticvessel_145.nii.gz - (512, 512, 48)\n",
            "/content/HepaticData/Task08_HepaticVessel/imagesTr/hepaticvessel_010.nii.gz - (512, 512, 49)\n",
            "/content/HepaticData/Task08_HepaticVessel/imagesTr/hepaticvessel_274.nii.gz - (512, 512, 158)\n",
            "/content/HepaticData/Task08_HepaticVessel/imagesTr/hepaticvessel_111.nii.gz - (512, 512, 32)\n",
            "/content/HepaticData/Task08_HepaticVessel/imagesTr/hepaticvessel_231.nii.gz - (512, 512, 40)\n",
            "/content/HepaticData/Task08_HepaticVessel/imagesTr/hepaticvessel_419.nii.gz - (512, 512, 41)\n",
            "/content/HepaticData/Task08_HepaticVessel/imagesTr/hepaticvessel_167.nii.gz - (512, 512, 54)\n",
            "/content/HepaticData/Task08_HepaticVessel/imagesTr/hepaticvessel_033.nii.gz - (512, 512, 138)\n",
            "/content/HepaticData/Task08_HepaticVessel/imagesTr/hepaticvessel_061.nii.gz - (512, 512, 42)\n",
            "/content/HepaticData/Task08_HepaticVessel/imagesTr/hepaticvessel_245.nii.gz - (512, 512, 65)\n",
            "/content/HepaticData/Task08_HepaticVessel/imagesTr/hepaticvessel_103.nii.gz - (512, 512, 45)\n",
            "/content/HepaticData/Task08_HepaticVessel/imagesTr/hepaticvessel_215.nii.gz - (512, 512, 52)\n",
            "/content/HepaticData/Task08_HepaticVessel/imagesTr/hepaticvessel_154.nii.gz - (512, 512, 42)\n",
            "/content/HepaticData/Task08_HepaticVessel/imagesTr/hepaticvessel_398.nii.gz - (512, 512, 34)\n",
            "/content/HepaticData/Task08_HepaticVessel/imagesTr/hepaticvessel_446.nii.gz - (512, 512, 47)\n",
            "/content/HepaticData/Task08_HepaticVessel/imagesTr/hepaticvessel_013.nii.gz - (512, 512, 37)\n",
            "/content/HepaticData/Task08_HepaticVessel/imagesTr/hepaticvessel_404.nii.gz - (512, 512, 148)\n",
            "/content/HepaticData/Task08_HepaticVessel/imagesTr/hepaticvessel_242.nii.gz - (512, 512, 35)\n",
            "/content/HepaticData/Task08_HepaticVessel/imagesTr/hepaticvessel_177.nii.gz - (512, 512, 36)\n",
            "/content/HepaticData/Task08_HepaticVessel/imagesTr/hepaticvessel_234.nii.gz - (512, 512, 52)\n",
            "/content/HepaticData/Task08_HepaticVessel/imagesTr/hepaticvessel_236.nii.gz - (512, 512, 32)\n",
            "/content/HepaticData/Task08_HepaticVessel/imagesTr/hepaticvessel_136.nii.gz - (512, 512, 44)\n",
            "/content/HepaticData/Task08_HepaticVessel/imagesTr/hepaticvessel_217.nii.gz - (512, 512, 47)\n",
            "/content/HepaticData/Task08_HepaticVessel/imagesTr/hepaticvessel_378.nii.gz - (512, 512, 38)\n",
            "/content/HepaticData/Task08_HepaticVessel/imagesTr/hepaticvessel_124.nii.gz - (512, 512, 52)\n",
            "/content/HepaticData/Task08_HepaticVessel/imagesTr/hepaticvessel_029.nii.gz - (512, 512, 43)\n",
            "/content/HepaticData/Task08_HepaticVessel/imagesTr/hepaticvessel_320.nii.gz - (512, 512, 43)\n",
            "/content/HepaticData/Task08_HepaticVessel/imagesTr/hepaticvessel_104.nii.gz - (512, 512, 49)\n",
            "/content/HepaticData/Task08_HepaticVessel/imagesTr/hepaticvessel_454.nii.gz - (512, 512, 31)\n",
            "/content/HepaticData/Task08_HepaticVessel/imagesTr/hepaticvessel_083.nii.gz - (512, 512, 54)\n",
            "/content/HepaticData/Task08_HepaticVessel/imagesTr/hepaticvessel_305.nii.gz - (512, 512, 121)\n",
            "/content/HepaticData/Task08_HepaticVessel/imagesTr/hepaticvessel_375.nii.gz - (512, 512, 178)\n",
            "/content/HepaticData/Task08_HepaticVessel/imagesTr/hepaticvessel_335.nii.gz - (512, 512, 55)\n",
            "/content/HepaticData/Task08_HepaticVessel/imagesTr/hepaticvessel_213.nii.gz - (512, 512, 174)\n",
            "/content/HepaticData/Task08_HepaticVessel/imagesTr/hepaticvessel_199.nii.gz - (512, 512, 52)\n",
            "/content/HepaticData/Task08_HepaticVessel/imagesTr/hepaticvessel_027.nii.gz - (512, 512, 49)\n",
            "/content/HepaticData/Task08_HepaticVessel/imagesTr/hepaticvessel_123.nii.gz - (512, 512, 55)\n",
            "/content/HepaticData/Task08_HepaticVessel/imagesTr/hepaticvessel_070.nii.gz - (512, 512, 49)\n",
            "/content/HepaticData/Task08_HepaticVessel/imagesTr/hepaticvessel_230.nii.gz - (512, 512, 45)\n",
            "/content/HepaticData/Task08_HepaticVessel/imagesTr/hepaticvessel_416.nii.gz - (512, 512, 152)\n",
            "/content/HepaticData/Task08_HepaticVessel/imagesTr/hepaticvessel_206.nii.gz - (512, 512, 95)\n",
            "/content/HepaticData/Task08_HepaticVessel/imagesTr/hepaticvessel_225.nii.gz - (512, 512, 41)\n",
            "/content/HepaticData/Task08_HepaticVessel/imagesTr/hepaticvessel_262.nii.gz - (512, 512, 63)\n",
            "/content/HepaticData/Task08_HepaticVessel/imagesTr/hepaticvessel_223.nii.gz - (512, 512, 99)\n",
            "/content/HepaticData/Task08_HepaticVessel/imagesTr/hepaticvessel_028.nii.gz - (512, 512, 40)\n",
            "/content/HepaticData/Task08_HepaticVessel/imagesTr/hepaticvessel_322.nii.gz - (512, 512, 52)\n",
            "/content/HepaticData/Task08_HepaticVessel/imagesTr/hepaticvessel_280.nii.gz - (512, 512, 83)\n",
            "/content/HepaticData/Task08_HepaticVessel/imagesTr/hepaticvessel_072.nii.gz - (512, 512, 44)\n",
            "/content/HepaticData/Task08_HepaticVessel/imagesTr/hepaticvessel_259.nii.gz - (512, 512, 127)\n",
            "/content/HepaticData/Task08_HepaticVessel/imagesTr/hepaticvessel_082.nii.gz - (512, 512, 50)\n",
            "/content/HepaticData/Task08_HepaticVessel/imagesTr/hepaticvessel_150.nii.gz - (512, 512, 177)\n",
            "/content/HepaticData/Task08_HepaticVessel/imagesTr/hepaticvessel_411.nii.gz - (512, 512, 134)\n",
            "/content/HepaticData/Task08_HepaticVessel/imagesTr/hepaticvessel_285.nii.gz - (512, 512, 40)\n",
            "/content/HepaticData/Task08_HepaticVessel/imagesTr/hepaticvessel_137.nii.gz - (512, 512, 53)\n",
            "/content/HepaticData/Task08_HepaticVessel/imagesTr/hepaticvessel_127.nii.gz - (512, 512, 81)\n",
            "/content/HepaticData/Task08_HepaticVessel/imagesTr/hepaticvessel_113.nii.gz - (512, 512, 37)\n",
            "/content/HepaticData/Task08_HepaticVessel/imagesTr/hepaticvessel_116.nii.gz - (512, 512, 37)\n",
            "/content/HepaticData/Task08_HepaticVessel/imagesTr/hepaticvessel_023.nii.gz - (512, 512, 56)\n",
            "/content/HepaticData/Task08_HepaticVessel/imagesTr/hepaticvessel_141.nii.gz - (512, 512, 144)\n",
            "/content/HepaticData/Task08_HepaticVessel/imagesTr/hepaticvessel_406.nii.gz - (512, 512, 33)\n",
            "/content/HepaticData/Task08_HepaticVessel/imagesTr/hepaticvessel_059.nii.gz - (512, 512, 37)\n",
            "/content/HepaticData/Task08_HepaticVessel/imagesTr/hepaticvessel_025.nii.gz - (512, 512, 59)\n",
            "/content/HepaticData/Task08_HepaticVessel/imagesTr/hepaticvessel_131.nii.gz - (512, 512, 48)\n",
            "/content/HepaticData/Task08_HepaticVessel/imagesTr/hepaticvessel_353.nii.gz - (512, 512, 56)\n",
            "/content/HepaticData/Task08_HepaticVessel/imagesTr/hepaticvessel_258.nii.gz - (512, 512, 51)\n",
            "/content/HepaticData/Task08_HepaticVessel/imagesTr/hepaticvessel_196.nii.gz - (512, 512, 44)\n",
            "/content/HepaticData/Task08_HepaticVessel/imagesTr/hepaticvessel_159.nii.gz - (512, 512, 46)\n",
            "/content/HepaticData/Task08_HepaticVessel/imagesTr/hepaticvessel_289.nii.gz - (512, 512, 26)\n",
            "/content/HepaticData/Task08_HepaticVessel/imagesTr/hepaticvessel_233.nii.gz - (512, 512, 51)\n",
            "/content/HepaticData/Task08_HepaticVessel/imagesTr/hepaticvessel_427.nii.gz - (512, 512, 30)\n",
            "/content/HepaticData/Task08_HepaticVessel/imagesTr/hepaticvessel_323.nii.gz - (512, 512, 161)\n",
            "/content/HepaticData/Task08_HepaticVessel/imagesTr/hepaticvessel_367.nii.gz - (512, 512, 44)\n",
            "/content/HepaticData/Task08_HepaticVessel/imagesTr/hepaticvessel_382.nii.gz - (512, 512, 50)\n",
            "/content/HepaticData/Task08_HepaticVessel/imagesTr/hepaticvessel_020.nii.gz - (512, 512, 39)\n",
            "/content/HepaticData/Task08_HepaticVessel/imagesTr/hepaticvessel_132.nii.gz - (512, 512, 55)\n",
            "/content/HepaticData/Task08_HepaticVessel/imagesTr/hepaticvessel_349.nii.gz - (512, 512, 30)\n",
            "/content/HepaticData/Task08_HepaticVessel/imagesTr/hepaticvessel_186.nii.gz - (512, 512, 40)\n",
            "/content/HepaticData/Task08_HepaticVessel/imagesTr/hepaticvessel_441.nii.gz - (512, 512, 49)\n",
            "/content/HepaticData/Task08_HepaticVessel/imagesTr/hepaticvessel_388.nii.gz - (512, 512, 151)\n",
            "/content/HepaticData/Task08_HepaticVessel/imagesTr/hepaticvessel_016.nii.gz - (512, 512, 36)\n",
            "/content/HepaticData/Task08_HepaticVessel/imagesTr/hepaticvessel_183.nii.gz - (512, 512, 71)\n",
            "/content/HepaticData/Task08_HepaticVessel/imagesTr/hepaticvessel_256.nii.gz - (512, 512, 146)\n",
            "/content/HepaticData/Task08_HepaticVessel/imagesTr/hepaticvessel_026.nii.gz - (512, 512, 52)\n",
            "/content/HepaticData/Task08_HepaticVessel/imagesTr/hepaticvessel_142.nii.gz - (512, 512, 50)\n",
            "/content/HepaticData/Task08_HepaticVessel/imagesTr/hepaticvessel_383.nii.gz - (512, 512, 181)\n",
            "/content/HepaticData/Task08_HepaticVessel/imagesTr/hepaticvessel_235.nii.gz - (512, 512, 38)\n",
            "/content/HepaticData/Task08_HepaticVessel/imagesTr/hepaticvessel_096.nii.gz - (512, 512, 154)\n",
            "/content/HepaticData/Task08_HepaticVessel/imagesTr/hepaticvessel_198.nii.gz - (512, 512, 30)\n",
            "/content/HepaticData/Task08_HepaticVessel/imagesTr/hepaticvessel_172.nii.gz - (512, 512, 121)\n",
            "/content/HepaticData/Task08_HepaticVessel/imagesTr/hepaticvessel_049.nii.gz - (512, 512, 26)\n",
            "/content/HepaticData/Task08_HepaticVessel/imagesTr/hepaticvessel_389.nii.gz - (512, 512, 47)\n",
            "/content/HepaticData/Task08_HepaticVessel/imagesTr/hepaticvessel_052.nii.gz - (512, 512, 30)\n",
            "/content/HepaticData/Task08_HepaticVessel/imagesTr/hepaticvessel_090.nii.gz - (512, 512, 45)\n",
            "/content/HepaticData/Task08_HepaticVessel/imagesTr/hepaticvessel_065.nii.gz - (512, 512, 39)\n",
            "/content/HepaticData/Task08_HepaticVessel/imagesTr/hepaticvessel_408.nii.gz - (512, 512, 49)\n",
            "/content/HepaticData/Task08_HepaticVessel/imagesTr/hepaticvessel_396.nii.gz - (512, 512, 53)\n",
            "/content/HepaticData/Task08_HepaticVessel/imagesTr/hepaticvessel_089.nii.gz - (512, 512, 47)\n",
            "/content/HepaticData/Task08_HepaticVessel/imagesTr/hepaticvessel_453.nii.gz - (512, 512, 50)\n",
            "/content/HepaticData/Task08_HepaticVessel/imagesTr/hepaticvessel_098.nii.gz - (512, 512, 37)\n",
            "/content/HepaticData/Task08_HepaticVessel/imagesTr/hepaticvessel_128.nii.gz - (512, 512, 48)\n",
            "/content/HepaticData/Task08_HepaticVessel/imagesTr/hepaticvessel_333.nii.gz - (512, 512, 109)\n",
            "/content/HepaticData/Task08_HepaticVessel/imagesTr/hepaticvessel_324.nii.gz - (512, 512, 120)\n",
            "/content/HepaticData/Task08_HepaticVessel/imagesTr/hepaticvessel_423.nii.gz - (512, 512, 27)\n",
            "/content/HepaticData/Task08_HepaticVessel/imagesTr/hepaticvessel_058.nii.gz - (512, 512, 33)\n",
            "/content/HepaticData/Task08_HepaticVessel/imagesTr/hepaticvessel_297.nii.gz - (512, 512, 48)\n",
            "/content/HepaticData/Task08_HepaticVessel/imagesTr/hepaticvessel_147.nii.gz - (512, 512, 58)\n",
            "/content/HepaticData/Task08_HepaticVessel/imagesTr/hepaticvessel_088.nii.gz - (512, 512, 56)\n",
            "/content/HepaticData/Task08_HepaticVessel/imagesTr/hepaticvessel_314.nii.gz - (512, 512, 58)\n",
            "/content/HepaticData/Task08_HepaticVessel/imagesTr/hepaticvessel_004.nii.gz - (512, 512, 43)\n",
            "/content/HepaticData/Task08_HepaticVessel/imagesTr/hepaticvessel_444.nii.gz - (512, 512, 87)\n",
            "/content/HepaticData/Task08_HepaticVessel/imagesTr/hepaticvessel_002.nii.gz - (512, 512, 66)\n",
            "/content/HepaticData/Task08_HepaticVessel/imagesTr/hepaticvessel_115.nii.gz - (512, 512, 39)\n",
            "/content/HepaticData/Task08_HepaticVessel/imagesTr/hepaticvessel_221.nii.gz - (512, 512, 37)\n",
            "/content/HepaticData/Task08_HepaticVessel/imagesTr/hepaticvessel_336.nii.gz - (512, 512, 49)\n",
            "/content/HepaticData/Task08_HepaticVessel/imagesTr/hepaticvessel_248.nii.gz - (512, 512, 24)\n",
            "/content/HepaticData/Task08_HepaticVessel/imagesTr/hepaticvessel_319.nii.gz - (512, 512, 151)\n",
            "/content/HepaticData/Task08_HepaticVessel/imagesTr/hepaticvessel_200.nii.gz - (512, 512, 30)\n",
            "/content/HepaticData/Task08_HepaticVessel/imagesTr/hepaticvessel_270.nii.gz - (512, 512, 148)\n",
            "/content/HepaticData/Task08_HepaticVessel/imagesTr/hepaticvessel_222.nii.gz - (512, 512, 49)\n",
            "/content/HepaticData/Task08_HepaticVessel/imagesTr/hepaticvessel_151.nii.gz - (512, 512, 52)\n",
            "/content/HepaticData/Task08_HepaticVessel/imagesTr/hepaticvessel_075.nii.gz - (512, 512, 37)\n",
            "/content/HepaticData/Task08_HepaticVessel/imagesTr/hepaticvessel_197.nii.gz - (512, 512, 60)\n",
            "/content/HepaticData/Task08_HepaticVessel/imagesTr/hepaticvessel_358.nii.gz - (512, 512, 141)\n",
            "/content/HepaticData/Task08_HepaticVessel/imagesTr/hepaticvessel_158.nii.gz - (512, 512, 46)\n",
            "/content/HepaticData/Task08_HepaticVessel/imagesTr/hepaticvessel_007.nii.gz - (512, 512, 50)\n",
            "/content/HepaticData/Task08_HepaticVessel/imagesTr/hepaticvessel_210.nii.gz - (512, 512, 164)\n",
            "/content/HepaticData/Task08_HepaticVessel/imagesTr/hepaticvessel_178.nii.gz - (512, 512, 43)\n",
            "/content/HepaticData/Task08_HepaticVessel/imagesTr/hepaticvessel_318.nii.gz - (512, 512, 144)\n",
            "/content/HepaticData/Task08_HepaticVessel/imagesTr/hepaticvessel_391.nii.gz - (512, 512, 47)\n",
            "/content/HepaticData/Task08_HepaticVessel/imagesTr/hepaticvessel_129.nii.gz - (512, 512, 59)\n",
            "/content/HepaticData/Task08_HepaticVessel/imagesTr/hepaticvessel_080.nii.gz - (512, 512, 45)\n",
            "/content/HepaticData/Task08_HepaticVessel/imagesTr/hepaticvessel_307.nii.gz - (512, 512, 141)\n",
            "/content/HepaticData/Task08_HepaticVessel/imagesTr/hepaticvessel_194.nii.gz - (512, 512, 34)\n",
            "/content/HepaticData/Task08_HepaticVessel/imagesTr/hepaticvessel_144.nii.gz - (512, 512, 50)\n",
            "/content/HepaticData/Task08_HepaticVessel/imagesTr/hepaticvessel_412.nii.gz - (512, 512, 37)\n",
            "/content/HepaticData/Task08_HepaticVessel/imagesTr/hepaticvessel_062.nii.gz - (512, 512, 40)\n",
            "/content/HepaticData/Task08_HepaticVessel/imagesTr/hepaticvessel_193.nii.gz - (512, 512, 42)\n",
            "/content/HepaticData/Task08_HepaticVessel/imagesTr/hepaticvessel_420.nii.gz - (512, 512, 134)\n",
            "/content/HepaticData/Task08_HepaticVessel/imagesTr/hepaticvessel_338.nii.gz - (512, 512, 42)\n",
            "/content/HepaticData/Task08_HepaticVessel/imagesTr/hepaticvessel_094.nii.gz - (512, 512, 41)\n",
            "/content/HepaticData/Task08_HepaticVessel/imagesTr/hepaticvessel_275.nii.gz - (512, 512, 131)\n",
            "/content/HepaticData/Task08_HepaticVessel/imagesTr/hepaticvessel_171.nii.gz - (512, 512, 151)\n",
            "/content/HepaticData/Task08_HepaticVessel/imagesTr/hepaticvessel_160.nii.gz - (512, 512, 39)\n",
            "/content/HepaticData/Task08_HepaticVessel/imagesTr/hepaticvessel_238.nii.gz - (512, 512, 104)\n",
            "/content/HepaticData/Task08_HepaticVessel/imagesTr/hepaticvessel_369.nii.gz - (512, 512, 151)\n",
            "/content/HepaticData/Task08_HepaticVessel/imagesTr/hepaticvessel_425.nii.gz - (512, 512, 34)\n",
            "/content/HepaticData/Task08_HepaticVessel/imagesTr/hepaticvessel_208.nii.gz - (512, 512, 105)\n",
            "/content/HepaticData/Task08_HepaticVessel/imagesTr/hepaticvessel_402.nii.gz - (512, 512, 30)\n",
            "/content/HepaticData/Task08_HepaticVessel/imagesTr/hepaticvessel_445.nii.gz - (512, 512, 168)\n",
            "/content/HepaticData/Task08_HepaticVessel/imagesTr/hepaticvessel_393.nii.gz - (512, 512, 55)\n",
            "/content/HepaticData/Task08_HepaticVessel/imagesTr/hepaticvessel_224.nii.gz - (512, 512, 45)\n",
            "/content/HepaticData/Task08_HepaticVessel/imagesTr/hepaticvessel_422.nii.gz - (512, 512, 47)\n",
            "/content/HepaticData/Task08_HepaticVessel/imagesTr/hepaticvessel_296.nii.gz - (512, 512, 41)\n",
            "/content/HepaticData/Task08_HepaticVessel/imagesTr/hepaticvessel_067.nii.gz - (512, 512, 40)\n",
            "/content/HepaticData/Task08_HepaticVessel/imagesTr/hepaticvessel_407.nii.gz - (512, 512, 144)\n",
            "/content/HepaticData/Task08_HepaticVessel/imagesTr/hepaticvessel_087.nii.gz - (512, 512, 39)\n",
            "/content/HepaticData/Task08_HepaticVessel/imagesTr/hepaticvessel_163.nii.gz - (512, 512, 30)\n",
            "/content/HepaticData/Task08_HepaticVessel/imagesTr/hepaticvessel_022.nii.gz - (512, 512, 43)\n",
            "/content/HepaticData/Task08_HepaticVessel/imagesTr/hepaticvessel_429.nii.gz - (512, 512, 134)\n",
            "/content/HepaticData/Task08_HepaticVessel/imagesTr/hepaticvessel_329.nii.gz - (512, 512, 49)\n",
            "/content/HepaticData/Task08_HepaticVessel/imagesTr/hepaticvessel_246.nii.gz - (512, 512, 24)\n",
            "/content/HepaticData/Task08_HepaticVessel/imagesTr/hepaticvessel_327.nii.gz - (512, 512, 44)\n",
            "/content/HepaticData/Task08_HepaticVessel/imagesTr/hepaticvessel_294.nii.gz - (512, 512, 168)\n",
            "/content/HepaticData/Task08_HepaticVessel/imagesTr/hepaticvessel_005.nii.gz - (512, 512, 41)\n",
            "/content/HepaticData/Task08_HepaticVessel/imagesTr/hepaticvessel_201.nii.gz - (512, 512, 47)\n",
            "/content/HepaticData/Task08_HepaticVessel/imagesTr/hepaticvessel_359.nii.gz - (512, 512, 47)\n",
            "/content/HepaticData/Task08_HepaticVessel/imagesTr/hepaticvessel_031.nii.gz - (512, 512, 108)\n",
            "/content/HepaticData/Task08_HepaticVessel/imagesTr/hepaticvessel_350.nii.gz - (512, 512, 171)\n",
            "/content/HepaticData/Task08_HepaticVessel/imagesTr/hepaticvessel_148.nii.gz - (512, 512, 51)\n",
            "/content/HepaticData/Task08_HepaticVessel/imagesTr/hepaticvessel_268.nii.gz - (512, 512, 51)\n",
            "/content/HepaticData/Task08_HepaticVessel/imagesTr/hepaticvessel_437.nii.gz - (512, 512, 138)\n",
            "/content/HepaticData/Task08_HepaticVessel/imagesTr/hepaticvessel_332.nii.gz - (512, 512, 154)\n",
            "/content/HepaticData/Task08_HepaticVessel/imagesTr/hepaticvessel_400.nii.gz - (512, 512, 131)\n",
            "/content/HepaticData/Task08_HepaticVessel/imagesTr/hepaticvessel_011.nii.gz - (512, 512, 37)\n",
            "/content/HepaticData/Task08_HepaticVessel/imagesTr/hepaticvessel_209.nii.gz - (512, 512, 88)\n",
            "/content/HepaticData/Task08_HepaticVessel/imagesTr/hepaticvessel_456.nii.gz - (512, 512, 114)\n",
            "/content/HepaticData/Task08_HepaticVessel/imagesTr/hepaticvessel_125.nii.gz - (512, 512, 45)\n",
            "/content/HepaticData/Task08_HepaticVessel/imagesTr/hepaticvessel_443.nii.gz - (512, 512, 128)\n",
            "/content/HepaticData/Task08_HepaticVessel/imagesTr/hepaticvessel_219.nii.gz - (512, 512, 164)\n",
            "/content/HepaticData/Task08_HepaticVessel/imagesTr/hepaticvessel_108.nii.gz - (512, 512, 42)\n",
            "/content/HepaticData/Task08_HepaticVessel/imagesTr/hepaticvessel_032.nii.gz - (512, 512, 60)\n",
            "/content/HepaticData/Task08_HepaticVessel/imagesTr/hepaticvessel_286.nii.gz - (512, 512, 164)\n",
            "/content/HepaticData/Task08_HepaticVessel/imagesTr/hepaticvessel_344.nii.gz - (512, 512, 99)\n",
            "/content/HepaticData/Task08_HepaticVessel/imagesTr/hepaticvessel_374.nii.gz - (512, 512, 141)\n",
            "/content/HepaticData/Task08_HepaticVessel/imagesTr/hepaticvessel_440.nii.gz - (512, 512, 97)\n",
            "/content/HepaticData/Task08_HepaticVessel/imagesTr/hepaticvessel_053.nii.gz - (512, 512, 42)\n",
            "/content/HepaticData/Task08_HepaticVessel/imagesTr/hepaticvessel_173.nii.gz - (512, 512, 105)\n",
            "/content/HepaticData/Task08_HepaticVessel/imagesTr/hepaticvessel_438.nii.gz - (512, 512, 52)\n",
            "/content/HepaticData/Task08_HepaticVessel/imagesTr/hepaticvessel_379.nii.gz - (512, 512, 161)\n",
            "/content/HepaticData/Task08_HepaticVessel/imagesTr/hepaticvessel_373.nii.gz - (512, 512, 80)\n",
            "/content/HepaticData/Task08_HepaticVessel/imagesTr/hepaticvessel_068.nii.gz - (512, 512, 40)\n",
            "/content/HepaticData/Task08_HepaticVessel/imagesTr/hepaticvessel_244.nii.gz - (512, 512, 34)\n",
            "/content/HepaticData/Task08_HepaticVessel/imagesTr/hepaticvessel_240.nii.gz - (512, 512, 171)\n",
            "/content/HepaticData/Task08_HepaticVessel/imagesTr/hepaticvessel_290.nii.gz - (512, 512, 45)\n",
            "/content/HepaticData/Task08_HepaticVessel/imagesTr/hepaticvessel_433.nii.gz - (512, 512, 34)\n",
            "/content/HepaticData/Task08_HepaticVessel/imagesTr/hepaticvessel_207.nii.gz - (512, 512, 82)\n",
            "/content/HepaticData/Task08_HepaticVessel/imagesTr/hepaticvessel_185.nii.gz - (512, 512, 46)\n",
            "/content/HepaticData/Task08_HepaticVessel/imagesTr/hepaticvessel_086.nii.gz - (512, 512, 38)\n",
            "/content/HepaticData/Task08_HepaticVessel/imagesTr/hepaticvessel_092.nii.gz - (512, 512, 36)\n",
            "/content/HepaticData/Task08_HepaticVessel/imagesTr/hepaticvessel_308.nii.gz - (512, 512, 47)\n",
            "/content/HepaticData/Task08_HepaticVessel/imagesTr/hepaticvessel_282.nii.gz - (512, 512, 27)\n",
            "/content/HepaticData/Task08_HepaticVessel/imagesTr/hepaticvessel_044.nii.gz - (512, 512, 41)\n",
            "/content/HepaticData/Task08_HepaticVessel/imagesTr/hepaticvessel_371.nii.gz - (512, 512, 43)\n",
            "/content/HepaticData/Task08_HepaticVessel/imagesTr/hepaticvessel_361.nii.gz - (512, 512, 50)\n",
            "/content/HepaticData/Task08_HepaticVessel/imagesTr/hepaticvessel_386.nii.gz - (512, 512, 42)\n",
            "/content/HepaticData/Task08_HepaticVessel/imagesTr/hepaticvessel_458.nii.gz - (512, 512, 169)\n",
            "/content/HepaticData/Task08_HepaticVessel/imagesTr/hepaticvessel_165.nii.gz - (512, 512, 61)\n",
            "/content/HepaticData/Task08_HepaticVessel/imagesTr/hepaticvessel_175.nii.gz - (512, 512, 82)\n",
            "/content/HepaticData/Task08_HepaticVessel/imagesTr/hepaticvessel_192.nii.gz - (512, 512, 102)\n",
            "/content/HepaticData/Task08_HepaticVessel/imagesTr/hepaticvessel_051.nii.gz - (512, 512, 34)\n",
            "/content/HepaticData/Task08_HepaticVessel/imagesTr/hepaticvessel_372.nii.gz - (512, 512, 105)\n",
            "/content/HepaticData/Task08_HepaticVessel/imagesTr/hepaticvessel_161.nii.gz - (512, 512, 36)\n",
            "/content/HepaticData/Task08_HepaticVessel/imagesTr/hepaticvessel_046.nii.gz - (512, 512, 86)\n",
            "/content/HepaticData/Task08_HepaticVessel/imagesTr/hepaticvessel_018.nii.gz - (512, 512, 36)\n",
            "/content/HepaticData/Task08_HepaticVessel/imagesTr/hepaticvessel_146.nii.gz - (512, 512, 58)\n",
            "/content/HepaticData/Task08_HepaticVessel/imagesTr/hepaticvessel_330.nii.gz - (512, 512, 174)\n",
            "/content/HepaticData/Task08_HepaticVessel/imagesTr/hepaticvessel_195.nii.gz - (512, 512, 38)\n",
            "/content/HepaticData/Task08_HepaticVessel/imagesTr/hepaticvessel_363.nii.gz - (512, 512, 40)\n",
            "/content/HepaticData/Task08_HepaticVessel/imagesTr/hepaticvessel_447.nii.gz - (512, 512, 50)\n",
            "/content/HepaticData/Task08_HepaticVessel/imagesTr/hepaticvessel_181.nii.gz - (512, 512, 53)\n",
            "/content/HepaticData/Task08_HepaticVessel/imagesTr/hepaticvessel_121.nii.gz - (512, 512, 39)\n",
            "/content/HepaticData/Task08_HepaticVessel/imagesTr/hepaticvessel_397.nii.gz - (512, 512, 161)\n",
            "/content/HepaticData/Task08_HepaticVessel/imagesTr/hepaticvessel_138.nii.gz - (512, 512, 117)\n",
            "/content/HepaticData/Task08_HepaticVessel/imagesTr/hepaticvessel_269.nii.gz - (512, 512, 51)\n",
            "/content/HepaticData/Task08_HepaticVessel/imagesTr/hepaticvessel_299.nii.gz - (512, 512, 144)\n",
            "/content/HepaticData/Task08_HepaticVessel/imagesTr/hepaticvessel_325.nii.gz - (512, 512, 41)\n",
            "/content/HepaticData/Task08_HepaticVessel/imagesTr/hepaticvessel_078.nii.gz - (512, 512, 47)\n",
            "/content/HepaticData/Task08_HepaticVessel/imagesTr/hepaticvessel_434.nii.gz - (512, 512, 55)\n",
            "/content/HepaticData/Task08_HepaticVessel/imagesTr/hepaticvessel_164.nii.gz - (512, 512, 81)\n",
            "/content/HepaticData/Task08_HepaticVessel/imagesTr/hepaticvessel_309.nii.gz - (512, 512, 45)\n",
            "/content/HepaticData/Task08_HepaticVessel/imagesTr/hepaticvessel_085.nii.gz - (512, 512, 36)\n",
            "/content/HepaticData/Task08_HepaticVessel/imagesTr/hepaticvessel_424.nii.gz - (512, 512, 134)\n",
            "/content/HepaticData/Task08_HepaticVessel/imagesTr/hepaticvessel_214.nii.gz - (512, 512, 99)\n",
            "/content/HepaticData/Task08_HepaticVessel/imagesTr/hepaticvessel_293.nii.gz - (512, 512, 44)\n",
            "/content/HepaticData/Task08_HepaticVessel/imagesTr/hepaticvessel_348.nii.gz - (512, 512, 136)\n",
            "/content/HepaticData/Task08_HepaticVessel/imagesTr/hepaticvessel_227.nii.gz - (512, 512, 42)\n",
            "/content/HepaticData/Task08_HepaticVessel/imagesTr/hepaticvessel_019.nii.gz - (512, 512, 45)\n",
            "/content/HepaticData/Task08_HepaticVessel/imagesTr/hepaticvessel_133.nii.gz - (512, 512, 44)\n",
            "/content/HepaticData/Task08_HepaticVessel/imagesTr/hepaticvessel_030.nii.gz - (512, 512, 39)\n",
            "/content/HepaticData/Task08_HepaticVessel/imagesTr/hepaticvessel_368.nii.gz - (512, 512, 89)\n",
            "/content/HepaticData/Task08_HepaticVessel/imagesTr/hepaticvessel_093.nii.gz - (512, 512, 41)\n",
            "/content/HepaticData/Task08_HepaticVessel/imagesTr/hepaticvessel_189.nii.gz - (512, 512, 54)\n",
            "/content/HepaticData/Task08_HepaticVessel/imagesTr/hepaticvessel_385.nii.gz - (512, 512, 61)\n",
            "/content/HepaticData/Task08_HepaticVessel/imagesTr/hepaticvessel_271.nii.gz - (512, 512, 141)\n",
            "/content/HepaticData/Task08_HepaticVessel/imagesTr/hepaticvessel_042.nii.gz - (512, 512, 45)\n",
            "/content/HepaticData/Task08_HepaticVessel/imagesTr/hepaticvessel_401.nii.gz - (512, 512, 49)\n",
            "/content/HepaticData/Task08_HepaticVessel/imagesTr/hepaticvessel_303.nii.gz - (512, 512, 35)\n",
            "/content/HepaticData/Task08_HepaticVessel/imagesTr/hepaticvessel_066.nii.gz - (512, 512, 49)\n",
            "/content/HepaticData/Task08_HepaticVessel/imagesTr/hepaticvessel_279.nii.gz - (512, 512, 174)\n",
            "/content/HepaticData/Task08_HepaticVessel/imagesTr/hepaticvessel_184.nii.gz - (512, 512, 31)\n",
            "/content/HepaticData/Task08_HepaticVessel/imagesTr/hepaticvessel_077.nii.gz - (512, 512, 39)\n",
            "/content/HepaticData/Task08_HepaticVessel/imagesTr/hepaticvessel_409.nii.gz - (512, 512, 138)\n",
            "/content/HepaticData/Task08_HepaticVessel/imagesTr/hepaticvessel_300.nii.gz - (512, 512, 38)\n",
            "/content/HepaticData/Task08_HepaticVessel/imagesTr/hepaticvessel_100.nii.gz - (512, 512, 46)\n",
            "/content/HepaticData/Task08_HepaticVessel/imagesTr/hepaticvessel_097.nii.gz - (512, 512, 45)\n",
            "/content/HepaticData/Task08_HepaticVessel/imagesTr/hepaticvessel_079.nii.gz - (512, 512, 92)\n"
          ],
          "name": "stdout"
        }
      ]
    },
    {
      "cell_type": "code",
      "metadata": {
        "colab": {
          "base_uri": "https://localhost:8080/",
          "height": 35
        },
        "id": "ZMJkqCIhng-b",
        "outputId": "7473ca57-4861-4c8e-8bb3-3fe109e91fd6"
      },
      "source": [
        "import shutil\n",
        "shutil.make_archive('/content/drive/MyDrive/2D-data',\n",
        "                    'zip',\n",
        "                    '/content/drive/MyDrive/',\n",
        "                    '2D-data')"
      ],
      "execution_count": null,
      "outputs": [
        {
          "output_type": "execute_result",
          "data": {
            "application/vnd.google.colaboratory.intrinsic+json": {
              "type": "string"
            },
            "text/plain": [
              "'/content/drive/MyDrive/2D-data.zip'"
            ]
          },
          "metadata": {
            "tags": []
          },
          "execution_count": 9
        }
      ]
    },
    {
      "cell_type": "markdown",
      "metadata": {
        "id": "stg1PQgnxkjm"
      },
      "source": [
        "Now we have our 2D dataset in a .zip file in our google drive, next time we can only run the code below to load our dataset"
      ]
    },
    {
      "cell_type": "markdown",
      "metadata": {
        "id": "8Wl-SOWvh4sC"
      },
      "source": [
        "### Import 2D data, choose 50 samples, change masks from multiclass to one tumor class "
      ]
    },
    {
      "cell_type": "code",
      "metadata": {
        "id": "GdayMHahzMvc"
      },
      "source": [
        "import shutil\n",
        "shutil.unpack_archive(\"/content/drive/MyDrive/2D-data.zip\", \"2D-data\")"
      ],
      "execution_count": null,
      "outputs": []
    },
    {
      "cell_type": "code",
      "metadata": {
        "id": "ouaSKNhH2d3-"
      },
      "source": [
        "!mkdir partOfData"
      ],
      "execution_count": null,
      "outputs": []
    },
    {
      "cell_type": "code",
      "metadata": {
        "id": "6mEYmnVp4TIp"
      },
      "source": [
        "!mkdir /content/partOfData/imagesTr\n",
        "!mkdir /content/partOfData/labelsTr"
      ],
      "execution_count": null,
      "outputs": []
    },
    {
      "cell_type": "code",
      "metadata": {
        "id": "HBiDPhDR0dY7"
      },
      "source": [
        "imgPathTr = '/content/2D-data/2D-data/imagesTr'\n",
        "imgPathlist = Path(imgPathTr).glob('*.npz')\n",
        "for filename in imgPathlist:\n",
        "  s1 = str(filename).split('/')[5]\n",
        "  s2 = s1.split('_')[0]\n",
        "  s3 = s1.split('_')[1].split('.')[0]\n",
        "  if int(s2) <= 100:\n",
        "    maskFileName = str(filename).replace(\"images\", \"labels\")\n",
        "    mask0 =np.load(maskFileName)['img']\n",
        "    img0 = np.load(filename)['img']\n",
        "    #assuming vessels as background\n",
        "    mask0[mask0 != 2] = 0\n",
        "    mask0[mask0 == 2] = 1\n",
        "    np.savez_compressed('/content/partOfData/imagesTr/' + s2 + '_' +s3+'.npz',img=img0)\n",
        "    np.savez_compressed('/content/partOfData/labelsTr/' + s2 + '_' +s3+'.npz',img=mask0)"
      ],
      "execution_count": null,
      "outputs": []
    },
    {
      "cell_type": "markdown",
      "metadata": {
        "id": "c9oddSiBxxgp"
      },
      "source": [
        "### Checking pixel Values to set \"window\" function input arguements"
      ]
    },
    {
      "cell_type": "code",
      "metadata": {
        "id": "XIxndL25ue4C"
      },
      "source": [
        "imgPathTr = '/content/partOfData/imagesTr'\n",
        "imgPathlist = Path(imgPathTr).glob('*.npz')\n",
        "pixel_values = []\n",
        "for filename in imgPathlist:\n",
        "  maskFileName = str(filename).replace(\"images\", \"labels\")\n",
        "  mask =np.load(maskFileName)['img']\n",
        "  # print(mask)\n",
        "  img = np.load(filename)['img']\n",
        "  for i in range(512):\n",
        "    for j in range(512):\n",
        "      if mask[i][j] == 1:\n",
        "        pixel_values.append(img[i][j])"
      ],
      "execution_count": null,
      "outputs": []
    },
    {
      "cell_type": "code",
      "metadata": {
        "id": "7nKVWOlDCQl8",
        "colab": {
          "base_uri": "https://localhost:8080/",
          "height": 265
        },
        "outputId": "00a1dbe7-b76b-463f-8049-fcf3b4eaec97"
      },
      "source": [
        "import matplotlib.pyplot as plt\n",
        "fig = plt.figure()\n",
        "ax = fig.add_subplot(1, 1, 1)\n",
        "ax.hist(pixel_values,bins = 50)\n",
        "plt.xlim([-150, 300])\n",
        "ax.ticklabel_format(style='plain')\n",
        "plt.show()"
      ],
      "execution_count": null,
      "outputs": [
        {
          "output_type": "display_data",
          "data": {
            "image/png": "[encoded data removed]",
            "text/plain": [
              "<Figure size 432x288 with 1 Axes>"
            ]
          },
          "metadata": {
            "tags": [],
            "needs_background": "light"
          }
        }
      ]
    },
    {
      "cell_type": "code",
      "metadata": {
        "colab": {
          "base_uri": "https://localhost:8080/"
        },
        "id": "DnQ8-cyGip8r",
        "outputId": "218c2c96-1b93-4065-d5f9-65c502698e39"
      },
      "source": [
        "import statistics\n",
        "std_pixel_values = np.std(pixel_values)\n",
        "mean_pixel_values = statistics.mean(pixel_values)\n",
        "print(std_pixel_values)\n",
        "print(mean_pixel_values)"
      ],
      "execution_count": null,
      "outputs": [
        {
          "output_type": "stream",
          "text": [
            "43.94551500321988\n",
            "81\n"
          ],
          "name": "stdout"
        }
      ]
    },
    {
      "cell_type": "markdown",
      "metadata": {
        "id": "pQHafVn9-Hbi"
      },
      "source": [
        "#Install segmentation-models-pytorch"
      ]
    },
    {
      "cell_type": "code",
      "metadata": {
        "colab": {
          "base_uri": "https://localhost:8080/"
        },
        "id": "6JrLV7xP1OTZ",
        "outputId": "3e880d72-769c-4564-d96d-01269762d1b6"
      },
      "source": [
        "# !pip -q install monai\n",
        "# !pip -q install 'monai[all]'\n",
        "# !pip install segmentation-models-pytorch\n",
        "!pip install git+https://github.com/qubvel/segmentation_models.pytorch"
      ],
      "execution_count": null,
      "outputs": [
        {
          "output_type": "stream",
          "text": [
            "Collecting git+https://github.com/qubvel/segmentation_models.pytorch\n",
            "  Cloning https://github.com/qubvel/segmentation_models.pytorch to /tmp/pip-req-build-2vp5e0g0\n",
            "  Running command git clone -q https://github.com/qubvel/segmentation_models.pytorch /tmp/pip-req-build-2vp5e0g0\n",
            "Requirement already satisfied: torchvision>=0.3.0 in /usr/local/lib/python3.7/dist-packages (from segmentation-models-pytorch==0.1.3) (0.9.1+cu101)\n",
            "Collecting pretrainedmodels==0.7.4\n",
            "\u001b[?25l  Downloading https://files.pythonhosted.org/packages/84/0e/be6a0e58447ac16c938799d49bfb5fb7a80ac35e137547fc6cee2c08c4cf/pretrainedmodels-0.7.4.tar.gz (58kB)\n",
            "\u001b[K     |████████████████████████████████| 61kB 4.4MB/s \n",
            "\u001b[?25hCollecting efficientnet-pytorch==0.6.3\n",
            "  Downloading https://files.pythonhosted.org/packages/b8/cb/0309a6e3d404862ae4bc017f89645cf150ac94c14c88ef81d215c8e52925/efficientnet_pytorch-0.6.3.tar.gz\n",
            "Collecting timm==0.3.2\n",
            "\u001b[?25l  Downloading https://files.pythonhosted.org/packages/51/2d/39ecc56fbb202e1891c317e8e44667299bc3b0762ea2ed6aaaa2c2f6613c/timm-0.3.2-py3-none-any.whl (244kB)\n",
            "\u001b[K     |████████████████████████████████| 245kB 16.8MB/s \n",
            "\u001b[?25hRequirement already satisfied: torch==1.8.1 in /usr/local/lib/python3.7/dist-packages (from torchvision>=0.3.0->segmentation-models-pytorch==0.1.3) (1.8.1+cu101)\n",
            "Requirement already satisfied: numpy in /usr/local/lib/python3.7/dist-packages (from torchvision>=0.3.0->segmentation-models-pytorch==0.1.3) (1.19.5)\n",
            "Requirement already satisfied: pillow>=4.1.1 in /usr/local/lib/python3.7/dist-packages (from torchvision>=0.3.0->segmentation-models-pytorch==0.1.3) (7.1.2)\n",
            "Collecting munch\n",
            "  Downloading https://files.pythonhosted.org/packages/cc/ab/85d8da5c9a45e072301beb37ad7f833cd344e04c817d97e0cc75681d248f/munch-2.5.0-py2.py3-none-any.whl\n",
            "Requirement already satisfied: tqdm in /usr/local/lib/python3.7/dist-packages (from pretrainedmodels==0.7.4->segmentation-models-pytorch==0.1.3) (4.41.1)\n",
            "Requirement already satisfied: typing-extensions in /usr/local/lib/python3.7/dist-packages (from torch==1.8.1->torchvision>=0.3.0->segmentation-models-pytorch==0.1.3) (3.7.4.3)\n",
            "Requirement already satisfied: six in /usr/local/lib/python3.7/dist-packages (from munch->pretrainedmodels==0.7.4->segmentation-models-pytorch==0.1.3) (1.15.0)\n",
            "Building wheels for collected packages: segmentation-models-pytorch, pretrainedmodels, efficientnet-pytorch\n",
            "  Building wheel for segmentation-models-pytorch (setup.py) ... \u001b[?25l\u001b[?25hdone\n",
            "  Created wheel for segmentation-models-pytorch: filename=segmentation_models_pytorch-0.1.3-cp37-none-any.whl size=83178 sha256=b6c772a97f87270809e1e4330c1216a1fcaaeb2545e0459a21c85df54829891f\n",
            "  Stored in directory: /tmp/pip-ephem-wheel-cache-4at8t_vj/wheels/79/3f/09/1587a252e0314d26ad242d6d2e165622ab95c95e5cfe4b942c\n",
            "  Building wheel for pretrainedmodels (setup.py) ... \u001b[?25l\u001b[?25hdone\n",
            "  Created wheel for pretrainedmodels: filename=pretrainedmodels-0.7.4-cp37-none-any.whl size=60966 sha256=21b0f41dd5844896d982de2b060bbe11e4c5d901a3951df10bccb6dceabeab96\n",
            "  Stored in directory: /root/.cache/pip/wheels/69/df/63/62583c096289713f22db605aa2334de5b591d59861a02c2ecd\n",
            "  Building wheel for efficientnet-pytorch (setup.py) ... \u001b[?25l\u001b[?25hdone\n",
            "  Created wheel for efficientnet-pytorch: filename=efficientnet_pytorch-0.6.3-cp37-none-any.whl size=12420 sha256=555ce357c30ac7d87b3acc9827eb54570d2b9526467cf6f5bba7a0feed707615\n",
            "  Stored in directory: /root/.cache/pip/wheels/42/1e/a9/2a578ba9ad04e776e80bf0f70d8a7f4c29ec0718b92d8f6ccd\n",
            "Successfully built segmentation-models-pytorch pretrainedmodels efficientnet-pytorch\n",
            "Installing collected packages: munch, pretrainedmodels, efficientnet-pytorch, timm, segmentation-models-pytorch\n",
            "Successfully installed efficientnet-pytorch-0.6.3 munch-2.5.0 pretrainedmodels-0.7.4 segmentation-models-pytorch-0.1.3 timm-0.3.2\n"
          ],
          "name": "stdout"
        }
      ]
    },
    {
      "cell_type": "code",
      "metadata": {
        "id": "3ajQDN1L-Shu"
      },
      "source": [
        "import os\n",
        "import cv2\n",
        "import numpy as np\n",
        "import matplotlib.pyplot as plt\n",
        "from PIL import Image\n",
        "import pandas as pd\n",
        "import torch\n",
        "from torch.utils.data import Dataset, DataLoader\n",
        "\n",
        "from albumentations import (HorizontalFlip, ShiftScaleRotate, Normalize, Resize, Compose, GaussNoise)\n",
        "from albumentations.torch import ToTensor\n",
        "\n",
        "import sys\n",
        "import glob\n",
        "\n",
        "def window(img, mean=81, std=44):\n",
        "    upper, lower = mean+3*std, mean-3*std\n",
        "    X = np.clip(img.copy(), lower, upper)\n",
        "    X = X - np.min(X)\n",
        "    X = X / (np.max(X)/255.0)\n",
        "    X = cv2.merge([X,X,X])\n",
        "    X = X.astype('uint8')\n",
        "    return X\n",
        "\n",
        "%matplotlib inline\n",
        "np.random.seed(0)\n",
        "# print_config()"
      ],
      "execution_count": null,
      "outputs": []
    },
    {
      "cell_type": "markdown",
      "metadata": {
        "id": "nJ4PieSx-Z9Q"
      },
      "source": [
        "## Random Split and Set dataset path"
      ]
    },
    {
      "cell_type": "code",
      "metadata": {
        "colab": {
          "base_uri": "https://localhost:8080/"
        },
        "id": "inhRtyxo-ayp",
        "outputId": "bff453e6-2135-4c68-cc11-a2503ae31abe"
      },
      "source": [
        "import numpy as np\n",
        "from sklearn.model_selection import train_test_split\n",
        "\n",
        "train_subject,test_subject = train_test_split(np.arange(1,101,1), test_size=0.2, random_state=0)\n",
        "\n",
        "train_slices = []\n",
        "\n",
        "for i in train_subject:\n",
        "  train_slices += glob.glob(f'/content/partOfData/imagesTr/'+str(i).zfill(3)+'*.npz')\n",
        "\n",
        "test_slices = []\n",
        "for i in test_subject:\n",
        "  test_slices += glob.glob(f'/content/partOfData/labelsTr/'+str(i).zfill(3)+'*.npz')\n",
        "test_slices = sorted(test_slices)\n",
        "len(train_slices),len(test_slices)"
      ],
      "execution_count": null,
      "outputs": [
        {
          "output_type": "execute_result",
          "data": {
            "text/plain": [
              "(5216, 1524)"
            ]
          },
          "metadata": {
            "tags": []
          },
          "execution_count": 81
        }
      ]
    },
    {
      "cell_type": "markdown",
      "metadata": {
        "id": "-dmQgqTHJq99"
      },
      "source": [
        "# Show a sample slice"
      ]
    },
    {
      "cell_type": "code",
      "metadata": {
        "colab": {
          "base_uri": "https://localhost:8080/",
          "height": 350
        },
        "id": "1yDJtXx1Jm0v",
        "outputId": "3d7749b2-5a25-487e-c496-339ebcea142d"
      },
      "source": [
        "i = 280\n",
        "\n",
        "img = np.load(train_slices[i])['img']\n",
        "\n",
        "mask =np.load(train_slices[i].replace('imagesTr','labelsTr'))['img']\n",
        "\n",
        "\n",
        "slice_img = window(img)\n",
        "slice_mask = mask\n",
        "masked = np.array(slice_img)\n",
        "\n",
        "masked[slice_mask==0]=0\n",
        "\n",
        "plt.figure(figsize=(18,6))\n",
        "plt.subplot(1,3,1)\n",
        "plt.imshow(slice_img)\n",
        "plt.colorbar()\n",
        "\n",
        "plt.subplot(1,3,2)\n",
        "plt.imshow(slice_mask)\n",
        "plt.colorbar()\n",
        "\n",
        "plt.subplot(1,3,3)\n",
        "plt.imshow(masked)\n",
        "plt.colorbar()\n",
        "\n",
        "plt.tight_layout()\n",
        "plt.show()"
      ],
      "execution_count": null,
      "outputs": [
        {
          "output_type": "display_data",
          "data": {
            "image/png": "[encoded data removed]",
            "text/plain": [
              "<Figure size 1296x432 with 6 Axes>"
            ]
          },
          "metadata": {
            "tags": [],
            "needs_background": "light"
          }
        }
      ]
    },
    {
      "cell_type": "code",
      "metadata": {
        "colab": {
          "base_uri": "https://localhost:8080/"
        },
        "id": "pGRfityPJ8di",
        "outputId": "982ed7cb-da3c-42f7-ce8c-96f715e0cbc4"
      },
      "source": [
        "def get_transforms(phase, size, mean, std):\n",
        "    list_transforms = []\n",
        "    if phase == \"train\":\n",
        "        list_transforms.extend(\n",
        "            [\n",
        "                HorizontalFlip(),\n",
        "                ShiftScaleRotate(\n",
        "                    shift_limit=0,  # no resizing\n",
        "                    scale_limit=0.1,\n",
        "                    rotate_limit=10, # rotate\n",
        "                    p=0.5,\n",
        "                    border_mode=cv2.BORDER_CONSTANT\n",
        "                ),\n",
        "#                 GaussNoise(),\n",
        "            ]\n",
        "        )\n",
        "    list_transforms.extend(\n",
        "        [\n",
        "            Resize(size, size),\n",
        "            Normalize(mean=mean, std=std, p=1),\n",
        "            ToTensor()\n",
        "        ]\n",
        "    )\n",
        "    list_trfms = Compose(list_transforms)\n",
        "    return list_trfms\n",
        "\n",
        "class CustomDataSet(Dataset):\n",
        "    def __init__(self, files_list, size, mean, std, phase):\n",
        "        self.size = size\n",
        "        self.mean = mean\n",
        "        self.std = std\n",
        "        self.phase = phase\n",
        "        self.transforms = get_transforms(phase, size, mean, std)\n",
        "        self.fnames = files_list\n",
        "\n",
        "    def __getitem__(self, idx):\n",
        "        image_path = self.fnames[idx]\n",
        "        image = window(np.load(image_path)['img'])\n",
        "        image = image.astype(float)\n",
        "        mask = np.load(image_path.replace('imagesTr','labelsTr'))['img']\n",
        "        mask = mask.astype(float)\n",
        "\n",
        "        augmented = self.transforms(image=image, mask=mask)\n",
        "        image = augmented['image']\n",
        "        mask = augmented['mask']\n",
        "        return image, mask\n",
        "\n",
        "    def __len__(self):\n",
        "        return len(self.fnames)\n",
        "\n",
        "\n",
        "phase = 'train'\n",
        "size=256\n",
        "mean=(0.485, 0.456, 0.406)\n",
        "std=(0.229, 0.224, 0.225)\n",
        "batch_size=16\n",
        "num_workers=1\n",
        "\n",
        "train_ds = CustomDataSet(train_slices, size, mean, std, phase)\n",
        "train_loader = DataLoader(train_ds, batch_size=16, shuffle=True, num_workers=num_workers)\n",
        "\n",
        "phase='test'\n",
        "val_ds = CustomDataSet(test_slices, size, mean, std, phase)\n",
        "val_loader = DataLoader(val_ds, batch_size=16, num_workers=num_workers)\n",
        "\n",
        "for batch_data in train_loader:\n",
        "  print(type(batch_data))\n",
        "  break"
      ],
      "execution_count": null,
      "outputs": [
        {
          "output_type": "stream",
          "text": [
            "<class 'list'>\n"
          ],
          "name": "stdout"
        }
      ]
    },
    {
      "cell_type": "code",
      "metadata": {
        "id": "fZOSFGQyXCcZ"
      },
      "source": [
        "# mask = np.load('/content/partOfData/labelsTr/001_014.npz')['img']"
      ],
      "execution_count": null,
      "outputs": []
    },
    {
      "cell_type": "code",
      "metadata": {
        "id": "8-OuNYcpXljX"
      },
      "source": [
        "# plt.hist(mask.flatten())"
      ],
      "execution_count": null,
      "outputs": []
    },
    {
      "cell_type": "code",
      "metadata": {
        "id": "UI9mlGmTYF8g"
      },
      "source": [
        "# np.unique(y_true)"
      ],
      "execution_count": null,
      "outputs": []
    },
    {
      "cell_type": "code",
      "metadata": {
        "colab": {
          "base_uri": "https://localhost:8080/"
        },
        "id": "T1nG-X0bYfeU",
        "outputId": "b350442e-dc0c-4b53-c2f9-5f1e385b40c1"
      },
      "source": [
        "# (y_true == 1).sum() / len(y_true.flatten()) "
      ],
      "execution_count": null,
      "outputs": [
        {
          "output_type": "execute_result",
          "data": {
            "text/plain": [
              "0.005040646850906332"
            ]
          },
          "metadata": {
            "tags": []
          },
          "execution_count": 118
        }
      ]
    },
    {
      "cell_type": "markdown",
      "metadata": {
        "id": "rU7FqLbWejc9"
      },
      "source": [
        "# Show slices with infection segmentation in a random batch-data"
      ]
    },
    {
      "cell_type": "code",
      "metadata": {
        "id": "Er3DHkAQengY"
      },
      "source": [
        "batch = next(iter(train_loader)) \n",
        "images, masks = batch\n",
        "\n",
        "for idx in range(8):\n",
        "  if len(np.unique(masks[idx][0])) > 1:\n",
        "    plt.subplot(1,2,1)\n",
        "    plt.imshow(images[idx][0], cmap='gray')\n",
        "    plt.subplot(1,2,2)\n",
        "    plt.imshow(images[idx][0], cmap='bone')\n",
        "    plt.imshow(masks[idx][0], alpha=0.5, cmap='Reds')\n",
        "    plt.show()"
      ],
      "execution_count": null,
      "outputs": []
    },
    {
      "cell_type": "markdown",
      "metadata": {
        "id": "kruX658JevXx"
      },
      "source": [
        "## Create Model\n",
        "- standard PyTorch program style: create UNet, DiceLoss and Adam optimizer\n",
        "- use segmentation_models_pytorch \n",
        "- import unet with encoder 'resnet18'\n",
        "- use 'imagenet' encoder weights\n",
        "- input has 3 channels and output has 1 channel(use sigmoid activation layer for last layer)"
      ]
    },
    {
      "cell_type": "code",
      "metadata": {
        "colab": {
          "base_uri": "https://localhost:8080/"
        },
        "id": "Zd6PajM_ewT0",
        "outputId": "3fb1872a-0357-4187-a74e-c23b99d80b0b"
      },
      "source": [
        "try:\n",
        "  device = torch.device(\"cuda:0\")\n",
        "  print('run with gpu')\n",
        "except:\n",
        "  device = torch.device(\"cpu\")\n",
        "\n",
        "import segmentation_models_pytorch as smp\n",
        "n_classes = 1\n",
        "activation = 'sigmoid' if n_classes == 1 else 'softmax'\n",
        "model = smp.Unet(\n",
        "    encoder_name=\"resnet18\",        # choose encoder, e.g. mobilenet_v2 or efficientnet-b7\n",
        "    encoder_weights=\"imagenet\",     # use `imagenet` pre-trained weights for encoder initialization\n",
        "    in_channels=3,                  # model input channels (1 for gray-scale images, 3 for RGB, etc.)\n",
        "    classes=1,                      # model output channels (number of classes in your dataset)\n",
        "    activation=activation\n",
        ").to(device)\n",
        "\n",
        "# print(model)"
      ],
      "execution_count": null,
      "outputs": [
        {
          "output_type": "stream",
          "text": [
            "run with gpu\n"
          ],
          "name": "stdout"
        }
      ]
    },
    {
      "cell_type": "markdown",
      "metadata": {
        "id": "2CstvTxue2kc"
      },
      "source": [
        "# Loss and Optimizer\n",
        "- Loss = BCE + Dice_loss\n",
        "- Optimizer = Adam with initial_lr = 1e-3\n",
        "- lr_scheduler with CosineAnnealingLR for lr decay"
      ]
    },
    {
      "cell_type": "code",
      "metadata": {
        "id": "6Zukvapae3Jl"
      },
      "source": [
        "bce_loss = torch.nn.BCELoss()\n",
        "\n",
        "def dice_loss(pred,target):\n",
        "    numerator = 2 * torch.sum(pred * target)\n",
        "    denominator = torch.sum(pred + target)\n",
        "    return  1 - (numerator + 1) / (denominator + 1)\n",
        "\n",
        "def bce_dice_loss(pred,target):\n",
        "  return bce_loss(pred,target) + dice_loss(pred,target)\n",
        "\n",
        "loss_function = bce_dice_loss\n",
        "\n",
        "optimizer = torch.optim.Adam(model.parameters(), 1e-3,weight_decay=0)\n",
        "\n",
        "epoch_num = 20\n",
        "val_interval = 1\n",
        "\n",
        "steps = epoch_num#int(len(train_slices)/batch_size)+1\n",
        "scheduler = torch.optim.lr_scheduler.CosineAnnealingLR(optimizer, steps)"
      ],
      "execution_count": null,
      "outputs": []
    },
    {
      "cell_type": "markdown",
      "metadata": {
        "id": "jlK3hssOe7Xu"
      },
      "source": [
        "# Define custom metric"
      ]
    },
    {
      "cell_type": "code",
      "metadata": {
        "id": "ckdOnwnje733"
      },
      "source": [
        "from torch.autograd import Variable\n",
        "\n",
        "def my_dice(y_pred,y_true,device='cpu',thr=0.5):\n",
        "    thr = Variable(torch.Tensor([thr])).to(device)  \n",
        "    y_pred = (y_pred > thr).float() * 1\n",
        "    smooth = 1e-4\n",
        "    iflat = y_pred.view(-1)\n",
        "    tflat = y_true.view(-1)\n",
        "    intersection = (iflat * tflat).sum()\n",
        "    return ((2.0 * intersection + smooth) / (iflat.sum() + tflat.sum() + smooth))"
      ],
      "execution_count": null,
      "outputs": []
    },
    {
      "cell_type": "markdown",
      "metadata": {
        "id": "ZXI-ZohUfHAC"
      },
      "source": [
        "# Execute a typical PyTorch training process"
      ]
    },
    {
      "cell_type": "code",
      "metadata": {
        "colab": {
          "base_uri": "https://localhost:8080/"
        },
        "id": "XPzRLG78fHlH",
        "outputId": "effe8631-3ab3-4484-c73a-2490cdbad278"
      },
      "source": [
        "best_metric = -1\n",
        "best_metric_epoch = -1\n",
        "epoch_loss_values = list()\n",
        "metric_values = list()\n",
        "for epoch in range(epoch_num):\n",
        "    print('-' * 10)\n",
        "    print(f\"epoch {epoch + 1}/{epoch_num}\")\n",
        "    model.train()\n",
        "    epoch_loss = 0\n",
        "    step = 0\n",
        "    for batch_data in train_loader:\n",
        "\n",
        "        step += 1\n",
        "        inputs, labels = batch_data[0].to(device), batch_data[1].to(device)\n",
        "        optimizer.zero_grad()\n",
        "        outputs = model(inputs)\n",
        "        loss = loss_function(outputs, labels)\n",
        "        loss.backward()\n",
        "        optimizer.step()\n",
        "        epoch_loss += loss.item()\n",
        "        epoch_len = 1+(len(train_ds) // train_loader.batch_size)\n",
        "\n",
        "        sys.stdout.write('\\r'+f\"{step}/{epoch_len}, train_loss: {loss.item():.4f}\")\n",
        "\n",
        "    epoch_loss /= step\n",
        "    epoch_loss_values.append(epoch_loss)\n",
        "\n",
        "    print('\\n',f\"###### epoch {epoch + 1} average loss: {epoch_loss:.4f}\")\n",
        "\n",
        "    if (epoch + 1) % val_interval == 0:\n",
        "        model.eval()\n",
        "        with torch.no_grad():\n",
        "            y_pred = torch.tensor([], dtype=torch.float32, device=device)\n",
        "            y = torch.tensor([], dtype=torch.long, device=device)\n",
        "            for val_data in val_loader:\n",
        "                val_images, val_labels = val_data[0].to(device), val_data[1].to(device)\n",
        "                y_pred = torch.cat([y_pred, model(val_images)], dim=0)\n",
        "                y = torch.cat([y, val_labels], dim=0)\n",
        "            dice_metric = my_dice(y_pred, y,device=device,thr=0.5)\n",
        "            metric_values.append(dice_metric)\n",
        "            if dice_metric > best_metric:\n",
        "                best_metric = dice_metric\n",
        "                best_metric_epoch = epoch + 1\n",
        "                torch.save(model.state_dict(), 'best_metric_model.pth')\n",
        "                print('###### Congratulations ###### saved new best metric model')\n",
        "            print(f\"current epoch: {epoch + 1} current DICE: {dice_metric:.4f}\"\n",
        "                  f\" at epoch: {best_metric_epoch}\")\n",
        "        scheduler.step()\n",
        "        print('The learning rate updated to :',scheduler.get_lr()[0])\n",
        "print(f\"train completed, best_metric: {best_metric:.4f} at epoch: {best_metric_epoch}\")"
      ],
      "execution_count": null,
      "outputs": [
        {
          "output_type": "stream",
          "text": [
            "----------\n",
            "epoch 1/20\n",
            "326/327, train_loss: 1.0058\n",
            " ###### epoch 1 average loss: 0.9469\n"
          ],
          "name": "stdout"
        },
        {
          "output_type": "stream",
          "text": [
            "/usr/local/lib/python3.7/dist-packages/ipykernel_launcher.py:20: RuntimeWarning: invalid value encountered in true_divide\n"
          ],
          "name": "stderr"
        },
        {
          "output_type": "stream",
          "text": [
            "###### Congratulations ###### saved new best metric model\n",
            "current epoch: 1 current DICE: 0.0000 at epoch: 1\n",
            "The learning rate updated to : 0.000987726234834463\n",
            "----------\n",
            "epoch 2/20\n"
          ],
          "name": "stdout"
        },
        {
          "output_type": "stream",
          "text": [
            "/usr/local/lib/python3.7/dist-packages/torch/optim/lr_scheduler.py:509: UserWarning: To get the last learning rate computed by the scheduler, please use `get_last_lr()`.\n",
            "  \"please use `get_last_lr()`.\", UserWarning)\n"
          ],
          "name": "stderr"
        },
        {
          "output_type": "stream",
          "text": [
            "326/327, train_loss: 0.3086\n",
            " ###### epoch 2 average loss: 0.8088\n"
          ],
          "name": "stdout"
        },
        {
          "output_type": "stream",
          "text": [
            "/usr/local/lib/python3.7/dist-packages/ipykernel_launcher.py:20: RuntimeWarning: invalid value encountered in true_divide\n"
          ],
          "name": "stderr"
        },
        {
          "output_type": "stream",
          "text": [
            "current epoch: 2 current DICE: 0.0000 at epoch: 1\n",
            "The learning rate updated to : 0.0009575498965391206\n",
            "----------\n",
            "epoch 3/20\n",
            "326/327, train_loss: 0.3773\n",
            " ###### epoch 3 average loss: 0.6855\n"
          ],
          "name": "stdout"
        },
        {
          "output_type": "stream",
          "text": [
            "/usr/local/lib/python3.7/dist-packages/ipykernel_launcher.py:20: RuntimeWarning: invalid value encountered in true_divide\n"
          ],
          "name": "stderr"
        },
        {
          "output_type": "stream",
          "text": [
            "###### Congratulations ###### saved new best metric model\n",
            "current epoch: 3 current DICE: 0.0003 at epoch: 3\n",
            "The learning rate updated to : 0.0009164023811348203\n",
            "----------\n",
            "epoch 4/20\n",
            "326/327, train_loss: 0.4533\n",
            " ###### epoch 4 average loss: 0.6481\n"
          ],
          "name": "stdout"
        },
        {
          "output_type": "stream",
          "text": [
            "/usr/local/lib/python3.7/dist-packages/ipykernel_launcher.py:20: RuntimeWarning: invalid value encountered in true_divide\n"
          ],
          "name": "stderr"
        },
        {
          "output_type": "stream",
          "text": [
            "current epoch: 4 current DICE: 0.0000 at epoch: 3\n",
            "The learning rate updated to : 0.0008652911674490296\n",
            "----------\n",
            "epoch 5/20\n",
            "326/327, train_loss: 0.6018\n",
            " ###### epoch 5 average loss: 0.5953\n"
          ],
          "name": "stdout"
        },
        {
          "output_type": "stream",
          "text": [
            "/usr/local/lib/python3.7/dist-packages/ipykernel_launcher.py:20: RuntimeWarning: invalid value encountered in true_divide\n"
          ],
          "name": "stderr"
        },
        {
          "output_type": "stream",
          "text": [
            "current epoch: 5 current DICE: 0.0000 at epoch: 3\n",
            "The learning rate updated to : 0.000805468818544741\n",
            "----------\n",
            "epoch 6/20\n",
            "326/327, train_loss: 0.8712\n",
            " ###### epoch 6 average loss: 0.5945\n"
          ],
          "name": "stdout"
        },
        {
          "output_type": "stream",
          "text": [
            "/usr/local/lib/python3.7/dist-packages/ipykernel_launcher.py:20: RuntimeWarning: invalid value encountered in true_divide\n"
          ],
          "name": "stderr"
        },
        {
          "output_type": "stream",
          "text": [
            "current epoch: 6 current DICE: 0.0000 at epoch: 3\n",
            "The learning rate updated to : 0.0007384019661749497\n",
            "----------\n",
            "epoch 7/20\n",
            "326/327, train_loss: 0.6248\n",
            " ###### epoch 7 average loss: 0.5838\n"
          ],
          "name": "stdout"
        },
        {
          "output_type": "stream",
          "text": [
            "/usr/local/lib/python3.7/dist-packages/ipykernel_launcher.py:20: RuntimeWarning: invalid value encountered in true_divide\n"
          ],
          "name": "stderr"
        },
        {
          "output_type": "stream",
          "text": [
            "current epoch: 7 current DICE: 0.0000 at epoch: 3\n",
            "The learning rate updated to : 0.0006657349821962692\n",
            "----------\n",
            "epoch 8/20\n",
            "326/327, train_loss: 0.5873\n",
            " ###### epoch 8 average loss: 0.5587\n"
          ],
          "name": "stdout"
        },
        {
          "output_type": "stream",
          "text": [
            "/usr/local/lib/python3.7/dist-packages/ipykernel_launcher.py:20: RuntimeWarning: invalid value encountered in true_divide\n"
          ],
          "name": "stderr"
        },
        {
          "output_type": "stream",
          "text": [
            "current epoch: 8 current DICE: 0.0000 at epoch: 3\n",
            "The learning rate updated to : 0.0005892492048157691\n",
            "----------\n",
            "epoch 9/20\n",
            "326/327, train_loss: 1.0043\n",
            " ###### epoch 9 average loss: 0.5074\n"
          ],
          "name": "stdout"
        },
        {
          "output_type": "stream",
          "text": [
            "/usr/local/lib/python3.7/dist-packages/ipykernel_launcher.py:20: RuntimeWarning: invalid value encountered in true_divide\n"
          ],
          "name": "stderr"
        },
        {
          "output_type": "stream",
          "text": [
            "current epoch: 9 current DICE: 0.0000 at epoch: 3\n",
            "The learning rate updated to : 0.0005108186821407395\n",
            "----------\n",
            "epoch 10/20\n",
            "326/327, train_loss: 0.4942\n",
            " ###### epoch 10 average loss: 0.4983\n"
          ],
          "name": "stdout"
        },
        {
          "output_type": "stream",
          "text": [
            "/usr/local/lib/python3.7/dist-packages/ipykernel_launcher.py:20: RuntimeWarning: invalid value encountered in true_divide\n"
          ],
          "name": "stderr"
        },
        {
          "output_type": "stream",
          "text": [
            "current epoch: 10 current DICE: 0.0000 at epoch: 3\n",
            "The learning rate updated to : 0.0004323634543204362\n",
            "----------\n",
            "epoch 11/20\n",
            "326/327, train_loss: 0.1747\n",
            " ###### epoch 11 average loss: 0.4988\n"
          ],
          "name": "stdout"
        },
        {
          "output_type": "stream",
          "text": [
            "/usr/local/lib/python3.7/dist-packages/ipykernel_launcher.py:20: RuntimeWarning: invalid value encountered in true_divide\n"
          ],
          "name": "stderr"
        },
        {
          "output_type": "stream",
          "text": [
            "current epoch: 11 current DICE: 0.0000 at epoch: 3\n",
            "The learning rate updated to : 0.00035580140588598096\n",
            "----------\n",
            "epoch 12/20\n",
            "326/327, train_loss: 0.2479\n",
            " ###### epoch 12 average loss: 0.4979\n"
          ],
          "name": "stdout"
        },
        {
          "output_type": "stream",
          "text": [
            "/usr/local/lib/python3.7/dist-packages/ipykernel_launcher.py:20: RuntimeWarning: invalid value encountered in true_divide\n"
          ],
          "name": "stderr"
        },
        {
          "output_type": "stream",
          "text": [
            "current epoch: 12 current DICE: 0.0000 at epoch: 3\n",
            "The learning rate updated to : 0.00028299965697709667\n",
            "----------\n",
            "epoch 13/20\n",
            "326/327, train_loss: 1.0072\n",
            " ###### epoch 13 average loss: 0.4789\n"
          ],
          "name": "stdout"
        },
        {
          "output_type": "stream",
          "text": [
            "/usr/local/lib/python3.7/dist-packages/ipykernel_launcher.py:20: RuntimeWarning: invalid value encountered in true_divide\n"
          ],
          "name": "stderr"
        },
        {
          "output_type": "stream",
          "text": [
            "current epoch: 13 current DICE: 0.0000 at epoch: 3\n",
            "The learning rate updated to : 0.00021572627108606626\n",
            "----------\n",
            "epoch 14/20\n",
            "326/327, train_loss: 0.1686\n",
            " ###### epoch 14 average loss: 0.4331\n"
          ],
          "name": "stdout"
        },
        {
          "output_type": "stream",
          "text": [
            "/usr/local/lib/python3.7/dist-packages/ipykernel_launcher.py:20: RuntimeWarning: invalid value encountered in true_divide\n"
          ],
          "name": "stderr"
        },
        {
          "output_type": "stream",
          "text": [
            "current epoch: 14 current DICE: 0.0000 at epoch: 3\n",
            "The learning rate updated to : 0.00015560260228670536\n",
            "----------\n",
            "epoch 15/20\n",
            "326/327, train_loss: 0.5877\n",
            " ###### epoch 15 average loss: 0.4186\n"
          ],
          "name": "stdout"
        },
        {
          "output_type": "stream",
          "text": [
            "/usr/local/lib/python3.7/dist-packages/ipykernel_launcher.py:20: RuntimeWarning: invalid value encountered in true_divide\n"
          ],
          "name": "stderr"
        },
        {
          "output_type": "stream",
          "text": [
            "current epoch: 15 current DICE: 0.0000 at epoch: 3\n",
            "The learning rate updated to : 0.00010405551730498958\n",
            "----------\n",
            "epoch 16/20\n",
            "326/327, train_loss: 0.4486\n",
            " ###### epoch 16 average loss: 0.4314\n"
          ],
          "name": "stdout"
        },
        {
          "output_type": "stream",
          "text": [
            "/usr/local/lib/python3.7/dist-packages/ipykernel_launcher.py:20: RuntimeWarning: invalid value encountered in true_divide\n"
          ],
          "name": "stderr"
        },
        {
          "output_type": "stream",
          "text": [
            "current epoch: 16 current DICE: 0.0000 at epoch: 3\n",
            "The learning rate updated to : 6.226588069423686e-05\n",
            "----------\n",
            "epoch 17/20\n",
            "326/327, train_loss: 0.5818\n",
            " ###### epoch 17 average loss: 0.3852\n"
          ],
          "name": "stdout"
        },
        {
          "output_type": "stream",
          "text": [
            "/usr/local/lib/python3.7/dist-packages/ipykernel_launcher.py:20: RuntimeWarning: invalid value encountered in true_divide\n"
          ],
          "name": "stderr"
        },
        {
          "output_type": "stream",
          "text": [
            "current epoch: 17 current DICE: 0.0000 at epoch: 3\n",
            "The learning rate updated to : 3.1101138372550884e-05\n",
            "----------\n",
            "epoch 18/20\n",
            "326/327, train_loss: 0.6638\n",
            " ###### epoch 18 average loss: 0.3867\n"
          ],
          "name": "stdout"
        },
        {
          "output_type": "stream",
          "text": [
            "/usr/local/lib/python3.7/dist-packages/ipykernel_launcher.py:20: RuntimeWarning: invalid value encountered in true_divide\n"
          ],
          "name": "stderr"
        },
        {
          "output_type": "stream",
          "text": [
            "current epoch: 18 current DICE: 0.0000 at epoch: 3\n",
            "The learning rate updated to : 1.0989027459343206e-05\n",
            "----------\n",
            "epoch 19/20\n",
            "326/327, train_loss: 0.2357\n",
            " ###### epoch 19 average loss: 0.3824\n"
          ],
          "name": "stdout"
        },
        {
          "output_type": "stream",
          "text": [
            "/usr/local/lib/python3.7/dist-packages/ipykernel_launcher.py:20: RuntimeWarning: invalid value encountered in true_divide\n"
          ],
          "name": "stderr"
        },
        {
          "output_type": "stream",
          "text": [
            "current epoch: 19 current DICE: 0.0000 at epoch: 3\n",
            "The learning rate updated to : 1.5484896642770641e-06\n",
            "----------\n",
            "epoch 20/20\n",
            "326/327, train_loss: 0.2686\n",
            " ###### epoch 20 average loss: 0.3904\n"
          ],
          "name": "stdout"
        },
        {
          "output_type": "stream",
          "text": [
            "/usr/local/lib/python3.7/dist-packages/ipykernel_launcher.py:20: RuntimeWarning: invalid value encountered in true_divide\n"
          ],
          "name": "stderr"
        },
        {
          "output_type": "stream",
          "text": [
            "current epoch: 20 current DICE: 0.0000 at epoch: 3\n",
            "The learning rate updated to : 0.0\n",
            "train completed, best_metric: 0.0003 at epoch: 3\n",
            "current epoch: 20 current DICE: 0.0000 at epoch: 3\n",
            "The learning rate updated to : 0.0\n",
            "train completed, best_metric: 0.0003 at epoch: 3\n"
          ],
          "name": "stdout"
        }
      ]
    },
    {
      "cell_type": "markdown",
      "metadata": {
        "id": "jl_3KZEcfKta"
      },
      "source": [
        "## Plot the loss and metric"
      ]
    },
    {
      "cell_type": "code",
      "metadata": {
        "id": "nXw76zUVfPlP",
        "colab": {
          "base_uri": "https://localhost:8080/",
          "height": 404
        },
        "outputId": "d1308f5a-d376-4d54-ac36-f3648622da7f"
      },
      "source": [
        "plt.figure('train', (15, 6))\n",
        "plt.subplot(1, 2, 1)\n",
        "plt.title(\"Epoch Average Loss\")\n",
        "x = [i + 1 for i in range(len(epoch_loss_values))]\n",
        "y = epoch_loss_values\n",
        "plt.xlabel('epoch')\n",
        "plt.plot(x, y)\n",
        "plt.subplot(1, 2, 2)\n",
        "plt.title(\"Validation: DICE\")\n",
        "x = [val_interval * (i + 1) for i in range(len(metric_values))]\n",
        "y = metric_values\n",
        "plt.xlabel('epoch')\n",
        "plt.plot(x, y)\n",
        "plt.show()"
      ],
      "execution_count": null,
      "outputs": [
        {
          "output_type": "display_data",
          "data": {
            "image/png": "[encoded data removed]",
            "text/plain": [
              "<Figure size 1080x432 with 2 Axes>"
            ]
          },
          "metadata": {
            "tags": [],
            "needs_background": "light"
          }
        }
      ]
    },
    {
      "cell_type": "markdown",
      "metadata": {
        "id": "nLosaAMxfXQw"
      },
      "source": [
        "## Check best model output with the input slice and label"
      ]
    },
    {
      "cell_type": "code",
      "metadata": {
        "id": "xljTggc0fX0L",
        "colab": {
          "base_uri": "https://localhost:8080/"
        },
        "outputId": "b68478c4-a2d3-4a15-fe54-99829bae1b84"
      },
      "source": [
        "model.load_state_dict(torch.load('best_metric_model.pth'))\n",
        "model.eval()\n",
        "y_true = list()\n",
        "y_pred = list()\n",
        "# y_new_pred = list()\n",
        "with torch.no_grad():\n",
        "    for val_data in val_loader:\n",
        "        test_images, test_labels = val_data[0].to(device), val_data[1].to(device)\n",
        "        pred = model(test_images)\n",
        "        # new_pred = pred.argmax(dim=1)\n",
        "\n",
        "        for i in range(len(pred)):\n",
        "            y_true.append(test_labels[i].cpu().detach().numpy())\n",
        "            y_pred.append(pred[i].cpu().detach().numpy())\n",
        "            # y_new_pred.append(new_pred[i].cpu().detach().numpy())"
      ],
      "execution_count": null,
      "outputs": [
        {
          "output_type": "stream",
          "text": [
            "/usr/local/lib/python3.7/dist-packages/ipykernel_launcher.py:20: RuntimeWarning: invalid value encountered in true_divide\n"
          ],
          "name": "stderr"
        }
      ]
    },
    {
      "cell_type": "code",
      "metadata": {
        "id": "cwBPK2JjfakY",
        "colab": {
          "base_uri": "https://localhost:8080/"
        },
        "outputId": "e6fc96dd-c695-42fb-bb9a-4501a8728f1d"
      },
      "source": [
        "y_true = np.array(y_true)\n",
        "y_pred = np.array(y_pred)\n",
        "y_true.shape,y_pred.shape"
      ],
      "execution_count": null,
      "outputs": [
        {
          "output_type": "execute_result",
          "data": {
            "text/plain": [
              "((1524, 1, 256, 256), (1524, 1, 256, 256))"
            ]
          },
          "metadata": {
            "tags": []
          },
          "execution_count": 93
        }
      ]
    },
    {
      "cell_type": "code",
      "metadata": {
        "colab": {
          "base_uri": "https://localhost:8080/"
        },
        "id": "pgHc6BRQUGig",
        "outputId": "2dc20556-4474-4e43-e50f-6afa4aecf0fe"
      },
      "source": [
        "y_true.shape,y_pred.shape"
      ],
      "execution_count": null,
      "outputs": [
        {
          "output_type": "execute_result",
          "data": {
            "text/plain": [
              "((1524, 1, 256, 256), (1524, 1, 256, 256))"
            ]
          },
          "metadata": {
            "tags": []
          },
          "execution_count": 94
        }
      ]
    },
    {
      "cell_type": "code",
      "metadata": {
        "id": "kH4F9aA5fd2a",
        "colab": {
          "base_uri": "https://localhost:8080/",
          "height": 1000
        },
        "outputId": "ebbab8af-ae8c-4e4e-c3a4-3d402a89de1b"
      },
      "source": [
        "n_sample = 8\n",
        "\n",
        "samples = np.random.randint(0,1524,n_sample)\n",
        "\n",
        "images, masks, predict = [],[],[]\n",
        "for sample in samples:\n",
        "  images.append(cv2.resize(np.load(np.array(test_slices)[sample])['img'],(size,size)))\n",
        "  masks.append(y_true[sample,0])\n",
        "  predict.append(y_pred[sample,0]>0.5)\n",
        "\n",
        "print('          Raw Images        ,       True Mask(green)      ,   Prediction Mask(Red)')\n",
        "for idx in range(n_sample):\n",
        "  if np.sum(masks[idx])+np.sum(predict[idx]) > 10:\n",
        "    plt.figure(figsize=(12,36))\n",
        "    plt.subplot(1,3,1)\n",
        "    plt.imshow(images[idx], cmap='gray')\n",
        "    plt.subplot(1,3,2)\n",
        "    plt.imshow(images[idx], cmap='gray')\n",
        "    plt.imshow(masks[idx], alpha=0.5, cmap='Greens')\n",
        "    plt.subplot(1,3,3)\n",
        "    plt.imshow(images[idx], cmap='gray')\n",
        "    plt.imshow(predict[idx], alpha=0.5, cmap='Reds')\n",
        "    plt.show()"
      ],
      "execution_count": null,
      "outputs": [
        {
          "output_type": "stream",
          "text": [
            "          Raw Images        ,       True Mask(green)      ,   Prediction Mask(Red)\n"
          ],
          "name": "stdout"
        },
        {
          "output_type": "display_data",
          "data": {
            "image/png": "[encoded data removed]",
            "text/plain": [
              "<Figure size 864x2592 with 3 Axes>"
            ]
          },
          "metadata": {
            "tags": [],
            "needs_background": "light"
          }
        },
        {
          "output_type": "display_data",
          "data": {
            "image/png": "[encoded data removed]",
            "text/plain": [
              "<Figure size 864x2592 with 3 Axes>"
            ]
          },
          "metadata": {
            "tags": [],
            "needs_background": "light"
          }
        },
        {
          "output_type": "display_data",
          "data": {
            "image/png": "[encoded data removed]",
            "text/plain": [
              "<Figure size 864x2592 with 3 Axes>"
            ]
          },
          "metadata": {
            "tags": [],
            "needs_background": "light"
          }
        },
        {
          "output_type": "display_data",
          "data": {
            "image/png": "[encoded data removed]",
            "text/plain": [
              "<Figure size 864x2592 with 3 Axes>"
            ]
          },
          "metadata": {
            "tags": [],
            "needs_background": "light"
          }
        },
        {
          "output_type": "display_data",
          "data": {
            "image/png": "[encoded data removed]",
            "text/plain": [
              "<Figure size 864x2592 with 3 Axes>"
            ]
          },
          "metadata": {
            "tags": [],
            "needs_background": "light"
          }
        },
        {
          "output_type": "display_data",
          "data": {
            "image/png": "[encoded data removed]",
            "text/plain": [
              "<Figure size 864x2592 with 3 Axes>"
            ]
          },
          "metadata": {
            "tags": [],
            "needs_background": "light"
          }
        },
        {
          "output_type": "display_data",
          "data": {
            "image/png": "[encoded data removed]",
            "text/plain": [
              "<Figure size 864x2592 with 3 Axes>"
            ]
          },
          "metadata": {
            "tags": [],
            "needs_background": "light"
          }
        },
        {
          "output_type": "display_data",
          "data": {
            "image/png": "[encoded data removed]",
            "text/plain": [
              "<Figure size 864x2592 with 3 Axes>"
            ]
          },
          "metadata": {
            "tags": [],
            "needs_background": "light"
          }
        }
      ]
    },
    {
      "cell_type": "code",
      "metadata": {
        "id": "2YAwwnL92BFa"
      },
      "source": [
        "def my_dice_np(y_pred,y_true,device='cpu',thr=0.00001):\n",
        "    y_pred = (y_pred > thr).astype(float) * 1\n",
        "    smooth = 1e-4\n",
        "    iflat = y_pred.flatten()\n",
        "    tflat = y_true.flatten()\n",
        "    intersection = (iflat * tflat).sum()\n",
        "    return ((2.0 * intersection + smooth) / (iflat.sum() + tflat.sum() + smooth))"
      ],
      "execution_count": null,
      "outputs": []
    },
    {
      "cell_type": "code",
      "metadata": {
        "colab": {
          "base_uri": "https://localhost:8080/"
        },
        "id": "D_nNmUhDVChr",
        "outputId": "2287f1d0-725f-4b69-fdc0-f9df617d52dd"
      },
      "source": [
        "my_dice_np(y_pred,y_true)"
      ],
      "execution_count": null,
      "outputs": [
        {
          "output_type": "execute_result",
          "data": {
            "text/plain": [
              "0.33895813586262646"
            ]
          },
          "metadata": {
            "tags": []
          },
          "execution_count": 137
        }
      ]
    },
    {
      "cell_type": "code",
      "metadata": {
        "colab": {
          "base_uri": "https://localhost:8080/",
          "height": 282
        },
        "id": "-Lyrf58PVJXi",
        "outputId": "cdf1d27a-25f7-4eee-fc17-0272a5ddd134"
      },
      "source": [
        "plt.hist(y_pred[y_true == 1].flatten(), bins = 20)\n",
        "plt.xlim(0.01,0.1)"
      ],
      "execution_count": null,
      "outputs": [
        {
          "output_type": "execute_result",
          "data": {
            "text/plain": [
              "(0.01, 0.1)"
            ]
          },
          "metadata": {
            "tags": []
          },
          "execution_count": 122
        },
        {
          "output_type": "display_data",
          "data": {
            "image/png": "[encoded data removed]",
            "text/plain": [
              "<Figure size 432x288 with 1 Axes>"
            ]
          },
          "metadata": {
            "tags": [],
            "needs_background": "light"
          }
        }
      ]
    },
    {
      "cell_type": "code",
      "metadata": {
        "colab": {
          "base_uri": "https://localhost:8080/",
          "height": 362
        },
        "id": "d3DssEOfVpx-",
        "outputId": "0364d451-292a-40a2-8ff4-3776ba6a373c"
      },
      "source": [
        "plt.hist(y_true.flatten())"
      ],
      "execution_count": null,
      "outputs": [
        {
          "output_type": "execute_result",
          "data": {
            "text/plain": [
              "(array([99373420.,        0.,        0.,        0.,        0.,        0.,\n",
              "               0.,        0.,        0.,   503444.]),\n",
              " array([0. , 0.1, 0.2, 0.3, 0.4, 0.5, 0.6, 0.7, 0.8, 0.9, 1. ],\n",
              "       dtype=float32),\n",
              " <a list of 10 Patch objects>)"
            ]
          },
          "metadata": {
            "tags": []
          },
          "execution_count": 103
        },
        {
          "output_type": "display_data",
          "data": {
            "image/png": "[encoded data removed]",
            "text/plain": [
              "<Figure size 432x288 with 1 Axes>"
            ]
          },
          "metadata": {
            "tags": [],
            "needs_background": "light"
          }
        }
      ]
    },
    {
      "cell_type": "code",
      "metadata": {
        "id": "5z5gAORwV-LI"
      },
      "source": [
        ""
      ],
      "execution_count": null,
      "outputs": []
    }
  ]
}